{
 "cells": [
  {
   "cell_type": "markdown",
   "metadata": {},
   "source": [
    "### Team ID   <font color=black>        : C7</font>\n",
    "### Sem         : <font color=black> 5</font> \n",
    "### Div           : <font color=black> C</font>\n",
    "### School: <font color=black>School Of Computer Science And Engineering </font> \n",
    "###   Topic ID   : <font color=black> 5DMACP08</font>\n",
    "###    Project Title:  <font color=black>Building Insurance Claim Prediction</font>\n",
    "###   Problem Statement: <font color=black>Predict if a building will have an insurance claim during a certain period. </font>   \n",
    "###    Team Details :\n",
    "###    Team Leader :\n",
    "###  <font color=black>Nisha Rao         -146-    01FE17BCS123</font>\n",
    "###    Members:\n",
    "###  <font color=black>Prajwal Nazre     -154-    01FE17BCS131</font> \n",
    "### <font color=black>Pratiksha Danti    -162-    01FE17BCS139</font>\n",
    "### <font color=black>Rachana Udagatti   -167-    01FE17BCS145</font>"
   ]
  },
  {
   "cell_type": "markdown",
   "metadata": {},
   "source": [
    "### Importing Libraries"
   ]
  },
  {
   "cell_type": "code",
   "execution_count": 19,
   "metadata": {},
   "outputs": [],
   "source": [
    "import numpy as np\n",
    "import pandas as pd\n",
    "import datetime\n",
    "import matplotlib.pyplot as plt\n",
    "%matplotlib inline\n",
    "import seaborn as sns\n",
    "import warnings\n",
    "warnings.filterwarnings(\"ignore\")\n",
    "from scipy import stats\n",
    "from mlxtend.preprocessing import minmax_scaling"
   ]
  },
  {
   "cell_type": "markdown",
   "metadata": {},
   "source": [
    "### Input data"
   ]
  },
  {
   "cell_type": "code",
   "execution_count": 20,
   "metadata": {},
   "outputs": [
    {
     "data": {
      "text/html": [
       "<div>\n",
       "<style scoped>\n",
       "    .dataframe tbody tr th:only-of-type {\n",
       "        vertical-align: middle;\n",
       "    }\n",
       "\n",
       "    .dataframe tbody tr th {\n",
       "        vertical-align: top;\n",
       "    }\n",
       "\n",
       "    .dataframe thead th {\n",
       "        text-align: right;\n",
       "    }\n",
       "</style>\n",
       "<table border=\"1\" class=\"dataframe\">\n",
       "  <thead>\n",
       "    <tr style=\"text-align: right;\">\n",
       "      <th></th>\n",
       "      <th>login</th>\n",
       "      <th>ft_2_categ</th>\n",
       "      <th>EXPO</th>\n",
       "      <th>ft_4_categ</th>\n",
       "      <th>ft_5_categ</th>\n",
       "      <th>ft_6_categ</th>\n",
       "      <th>ft_7_categ</th>\n",
       "      <th>ft_8_categ</th>\n",
       "      <th>ft_9_categ</th>\n",
       "      <th>ft_10_categ</th>\n",
       "      <th>...</th>\n",
       "      <th>ft_16_categ</th>\n",
       "      <th>ft_17_categ</th>\n",
       "      <th>ft_18_categ</th>\n",
       "      <th>ft_19_categ</th>\n",
       "      <th>superficief</th>\n",
       "      <th>ft_21_categ</th>\n",
       "      <th>ft_22_categ</th>\n",
       "      <th>ft_23_categ</th>\n",
       "      <th>ft_24_categ</th>\n",
       "      <th>Insee</th>\n",
       "    </tr>\n",
       "  </thead>\n",
       "  <tbody>\n",
       "    <tr>\n",
       "      <th>0</th>\n",
       "      <td>18702</td>\n",
       "      <td>2014</td>\n",
       "      <td>1.000000</td>\n",
       "      <td>0</td>\n",
       "      <td>V</td>\n",
       "      <td>NOT</td>\n",
       "      <td>1</td>\n",
       "      <td>O</td>\n",
       "      <td>1</td>\n",
       "      <td>O</td>\n",
       "      <td>...</td>\n",
       "      <td>IDENTICAL</td>\n",
       "      <td>V</td>\n",
       "      <td>based</td>\n",
       "      <td>2</td>\n",
       "      <td>1351.0</td>\n",
       "      <td>4</td>\n",
       "      <td>2012.0</td>\n",
       "      <td>0</td>\n",
       "      <td>2</td>\n",
       "      <td>65440</td>\n",
       "    </tr>\n",
       "    <tr>\n",
       "      <th>1</th>\n",
       "      <td>3877</td>\n",
       "      <td>2014</td>\n",
       "      <td>1.000000</td>\n",
       "      <td>0</td>\n",
       "      <td>V</td>\n",
       "      <td>V</td>\n",
       "      <td>V</td>\n",
       "      <td>V</td>\n",
       "      <td>V</td>\n",
       "      <td>V</td>\n",
       "      <td>...</td>\n",
       "      <td>V</td>\n",
       "      <td>NOT</td>\n",
       "      <td>based</td>\n",
       "      <td>2</td>\n",
       "      <td>1972.0</td>\n",
       "      <td>2</td>\n",
       "      <td>1980.0</td>\n",
       "      <td>0</td>\n",
       "      <td>0</td>\n",
       "      <td>14341</td>\n",
       "    </tr>\n",
       "    <tr>\n",
       "      <th>2</th>\n",
       "      <td>4942</td>\n",
       "      <td>2013</td>\n",
       "      <td>1.000000</td>\n",
       "      <td>1</td>\n",
       "      <td>V</td>\n",
       "      <td>V</td>\n",
       "      <td>V</td>\n",
       "      <td>V</td>\n",
       "      <td>V</td>\n",
       "      <td>V</td>\n",
       "      <td>...</td>\n",
       "      <td>V</td>\n",
       "      <td>NOT</td>\n",
       "      <td>based</td>\n",
       "      <td>2</td>\n",
       "      <td>1630.0</td>\n",
       "      <td>4</td>\n",
       "      <td>NaN</td>\n",
       "      <td>0</td>\n",
       "      <td>0</td>\n",
       "      <td>75109</td>\n",
       "    </tr>\n",
       "    <tr>\n",
       "      <th>3</th>\n",
       "      <td>13428</td>\n",
       "      <td>2013</td>\n",
       "      <td>0.246575</td>\n",
       "      <td>0</td>\n",
       "      <td>NOT</td>\n",
       "      <td>V</td>\n",
       "      <td>V</td>\n",
       "      <td>V</td>\n",
       "      <td>V</td>\n",
       "      <td>V</td>\n",
       "      <td>...</td>\n",
       "      <td>V</td>\n",
       "      <td>NOT</td>\n",
       "      <td>based</td>\n",
       "      <td>2</td>\n",
       "      <td>532.0</td>\n",
       "      <td>3</td>\n",
       "      <td>NaN</td>\n",
       "      <td>0</td>\n",
       "      <td>0</td>\n",
       "      <td>92004</td>\n",
       "    </tr>\n",
       "    <tr>\n",
       "      <th>4</th>\n",
       "      <td>17137</td>\n",
       "      <td>2015</td>\n",
       "      <td>1.000000</td>\n",
       "      <td>0</td>\n",
       "      <td>V</td>\n",
       "      <td>NOT</td>\n",
       "      <td>2</td>\n",
       "      <td>O</td>\n",
       "      <td>1</td>\n",
       "      <td>O</td>\n",
       "      <td>...</td>\n",
       "      <td>IDENTICAL</td>\n",
       "      <td>V</td>\n",
       "      <td>based</td>\n",
       "      <td>2</td>\n",
       "      <td>1050.0</td>\n",
       "      <td>2</td>\n",
       "      <td>1972.0</td>\n",
       "      <td>0</td>\n",
       "      <td>4</td>\n",
       "      <td>59340</td>\n",
       "    </tr>\n",
       "  </tbody>\n",
       "</table>\n",
       "<p>5 rows × 25 columns</p>\n",
       "</div>"
      ],
      "text/plain": [
       "   login  ft_2_categ      EXPO  ft_4_categ ft_5_categ ft_6_categ ft_7_categ  \\\n",
       "0  18702        2014  1.000000           0          V        NOT          1   \n",
       "1   3877        2014  1.000000           0          V          V          V   \n",
       "2   4942        2013  1.000000           1          V          V          V   \n",
       "3  13428        2013  0.246575           0        NOT          V          V   \n",
       "4  17137        2015  1.000000           0          V        NOT          2   \n",
       "\n",
       "  ft_8_categ ft_9_categ ft_10_categ  ... ft_16_categ ft_17_categ ft_18_categ  \\\n",
       "0          O          1           O  ...   IDENTICAL           V       based   \n",
       "1          V          V           V  ...           V         NOT       based   \n",
       "2          V          V           V  ...           V         NOT       based   \n",
       "3          V          V           V  ...           V         NOT       based   \n",
       "4          O          1           O  ...   IDENTICAL           V       based   \n",
       "\n",
       "  ft_19_categ superficief ft_21_categ ft_22_categ ft_23_categ  ft_24_categ  \\\n",
       "0           2      1351.0           4      2012.0           0            2   \n",
       "1           2      1972.0           2      1980.0           0            0   \n",
       "2           2      1630.0           4         NaN           0            0   \n",
       "3           2       532.0           3         NaN           0            0   \n",
       "4           2      1050.0           2      1972.0           0            4   \n",
       "\n",
       "   Insee  \n",
       "0  65440  \n",
       "1  14341  \n",
       "2  75109  \n",
       "3  92004  \n",
       "4  59340  \n",
       "\n",
       "[5 rows x 25 columns]"
      ]
     },
     "execution_count": 20,
     "metadata": {},
     "output_type": "execute_result"
    }
   ],
   "source": [
    "# Loading the train datasets\n",
    "train_datax=pd.read_csv('x_train1.csv')\n",
    "train_datax.drop('Index',axis=1,inplace=True)\n",
    "train_datax.head()"
   ]
  },
  {
   "cell_type": "markdown",
   "metadata": {},
   "source": [
    "### External Data"
   ]
  },
  {
   "cell_type": "code",
   "execution_count": 21,
   "metadata": {},
   "outputs": [
    {
     "data": {
      "text/html": [
       "<div>\n",
       "<style scoped>\n",
       "    .dataframe tbody tr th:only-of-type {\n",
       "        vertical-align: middle;\n",
       "    }\n",
       "\n",
       "    .dataframe tbody tr th {\n",
       "        vertical-align: top;\n",
       "    }\n",
       "\n",
       "    .dataframe thead th {\n",
       "        text-align: right;\n",
       "    }\n",
       "</style>\n",
       "<table border=\"1\" class=\"dataframe\">\n",
       "  <thead>\n",
       "    <tr style=\"text-align: right;\">\n",
       "      <th></th>\n",
       "      <th>EU_circo</th>\n",
       "      <th>code_région</th>\n",
       "      <th>nom_région</th>\n",
       "      <th>chef.lieu_région</th>\n",
       "      <th>numéro_département</th>\n",
       "      <th>nom_département</th>\n",
       "      <th>préfecture</th>\n",
       "      <th>numéro_circonscription</th>\n",
       "      <th>nom_commune</th>\n",
       "      <th>codes_postaux</th>\n",
       "      <th>Insee</th>\n",
       "      <th>latitude</th>\n",
       "      <th>longitude</th>\n",
       "      <th>éloignement</th>\n",
       "    </tr>\n",
       "  </thead>\n",
       "  <tbody>\n",
       "    <tr>\n",
       "      <th>0</th>\n",
       "      <td>Sud-Est</td>\n",
       "      <td>82</td>\n",
       "      <td>Rhône-Alpes</td>\n",
       "      <td>Lyon</td>\n",
       "      <td>1</td>\n",
       "      <td>Ain</td>\n",
       "      <td>Bourg-en-Bresse</td>\n",
       "      <td>1</td>\n",
       "      <td>Attignat</td>\n",
       "      <td>1340</td>\n",
       "      <td>1024</td>\n",
       "      <td>46.283333</td>\n",
       "      <td>5.166667</td>\n",
       "      <td>1.21</td>\n",
       "    </tr>\n",
       "    <tr>\n",
       "      <th>1</th>\n",
       "      <td>Sud-Est</td>\n",
       "      <td>82</td>\n",
       "      <td>Rhône-Alpes</td>\n",
       "      <td>Lyon</td>\n",
       "      <td>1</td>\n",
       "      <td>Ain</td>\n",
       "      <td>Bourg-en-Bresse</td>\n",
       "      <td>1</td>\n",
       "      <td>Beaupont</td>\n",
       "      <td>1270</td>\n",
       "      <td>1029</td>\n",
       "      <td>46.400000</td>\n",
       "      <td>5.266667</td>\n",
       "      <td>1.91</td>\n",
       "    </tr>\n",
       "    <tr>\n",
       "      <th>2</th>\n",
       "      <td>Sud-Est</td>\n",
       "      <td>82</td>\n",
       "      <td>Rhône-Alpes</td>\n",
       "      <td>Lyon</td>\n",
       "      <td>1</td>\n",
       "      <td>Ain</td>\n",
       "      <td>Bourg-en-Bresse</td>\n",
       "      <td>1</td>\n",
       "      <td>Bény</td>\n",
       "      <td>1370</td>\n",
       "      <td>1038</td>\n",
       "      <td>46.333333</td>\n",
       "      <td>5.283333</td>\n",
       "      <td>1.51</td>\n",
       "    </tr>\n",
       "    <tr>\n",
       "      <th>3</th>\n",
       "      <td>Sud-Est</td>\n",
       "      <td>82</td>\n",
       "      <td>Rhône-Alpes</td>\n",
       "      <td>Lyon</td>\n",
       "      <td>1</td>\n",
       "      <td>Ain</td>\n",
       "      <td>Bourg-en-Bresse</td>\n",
       "      <td>1</td>\n",
       "      <td>Béreyziat</td>\n",
       "      <td>1340</td>\n",
       "      <td>1040</td>\n",
       "      <td>46.366667</td>\n",
       "      <td>5.05</td>\n",
       "      <td>1.71</td>\n",
       "    </tr>\n",
       "    <tr>\n",
       "      <th>4</th>\n",
       "      <td>Sud-Est</td>\n",
       "      <td>82</td>\n",
       "      <td>Rhône-Alpes</td>\n",
       "      <td>Lyon</td>\n",
       "      <td>1</td>\n",
       "      <td>Ain</td>\n",
       "      <td>Bourg-en-Bresse</td>\n",
       "      <td>1</td>\n",
       "      <td>Bohas-Meyriat-Rignat</td>\n",
       "      <td>1250</td>\n",
       "      <td>1245</td>\n",
       "      <td>46.133333</td>\n",
       "      <td>5.4</td>\n",
       "      <td>1.01</td>\n",
       "    </tr>\n",
       "    <tr>\n",
       "      <th>...</th>\n",
       "      <td>...</td>\n",
       "      <td>...</td>\n",
       "      <td>...</td>\n",
       "      <td>...</td>\n",
       "      <td>...</td>\n",
       "      <td>...</td>\n",
       "      <td>...</td>\n",
       "      <td>...</td>\n",
       "      <td>...</td>\n",
       "      <td>...</td>\n",
       "      <td>...</td>\n",
       "      <td>...</td>\n",
       "      <td>...</td>\n",
       "      <td>...</td>\n",
       "    </tr>\n",
       "    <tr>\n",
       "      <th>36835</th>\n",
       "      <td>Outre-Mer</td>\n",
       "      <td>5</td>\n",
       "      <td>Mayotte</td>\n",
       "      <td>Mamoudzou</td>\n",
       "      <td>976</td>\n",
       "      <td>Mayotte</td>\n",
       "      <td>Mamoudzou</td>\n",
       "      <td>1</td>\n",
       "      <td>M'TSANGAMOUJI</td>\n",
       "      <td>97600</td>\n",
       "      <td>97613</td>\n",
       "      <td>NaN</td>\n",
       "      <td>NaN</td>\n",
       "      <td>NaN</td>\n",
       "    </tr>\n",
       "    <tr>\n",
       "      <th>36836</th>\n",
       "      <td>Outre-Mer</td>\n",
       "      <td>5</td>\n",
       "      <td>Mayotte</td>\n",
       "      <td>Mamoudzou</td>\n",
       "      <td>976</td>\n",
       "      <td>Mayotte</td>\n",
       "      <td>Mamoudzou</td>\n",
       "      <td>1</td>\n",
       "      <td>OUANGANI</td>\n",
       "      <td>97600</td>\n",
       "      <td>97614</td>\n",
       "      <td>NaN</td>\n",
       "      <td>NaN</td>\n",
       "      <td>NaN</td>\n",
       "    </tr>\n",
       "    <tr>\n",
       "      <th>36837</th>\n",
       "      <td>Outre-Mer</td>\n",
       "      <td>5</td>\n",
       "      <td>Mayotte</td>\n",
       "      <td>Mamoudzou</td>\n",
       "      <td>976</td>\n",
       "      <td>Mayotte</td>\n",
       "      <td>Mamoudzou</td>\n",
       "      <td>1</td>\n",
       "      <td>PAMANDZI</td>\n",
       "      <td>97610</td>\n",
       "      <td>97615</td>\n",
       "      <td>NaN</td>\n",
       "      <td>NaN</td>\n",
       "      <td>NaN</td>\n",
       "    </tr>\n",
       "    <tr>\n",
       "      <th>36838</th>\n",
       "      <td>Outre-Mer</td>\n",
       "      <td>5</td>\n",
       "      <td>Mayotte</td>\n",
       "      <td>Mamoudzou</td>\n",
       "      <td>976</td>\n",
       "      <td>Mayotte</td>\n",
       "      <td>Mamoudzou</td>\n",
       "      <td>1</td>\n",
       "      <td>SADA</td>\n",
       "      <td>97640</td>\n",
       "      <td>97616</td>\n",
       "      <td>NaN</td>\n",
       "      <td>NaN</td>\n",
       "      <td>NaN</td>\n",
       "    </tr>\n",
       "    <tr>\n",
       "      <th>36839</th>\n",
       "      <td>Outre-Mer</td>\n",
       "      <td>5</td>\n",
       "      <td>Mayotte</td>\n",
       "      <td>Mamoudzou</td>\n",
       "      <td>976</td>\n",
       "      <td>Mayotte</td>\n",
       "      <td>Mamoudzou</td>\n",
       "      <td>1</td>\n",
       "      <td>TSINGONI</td>\n",
       "      <td>97600</td>\n",
       "      <td>97617</td>\n",
       "      <td>NaN</td>\n",
       "      <td>NaN</td>\n",
       "      <td>NaN</td>\n",
       "    </tr>\n",
       "  </tbody>\n",
       "</table>\n",
       "<p>36840 rows × 14 columns</p>\n",
       "</div>"
      ],
      "text/plain": [
       "        EU_circo  code_région   nom_région chef.lieu_région  \\\n",
       "0        Sud-Est           82  Rhône-Alpes             Lyon   \n",
       "1        Sud-Est           82  Rhône-Alpes             Lyon   \n",
       "2        Sud-Est           82  Rhône-Alpes             Lyon   \n",
       "3        Sud-Est           82  Rhône-Alpes             Lyon   \n",
       "4        Sud-Est           82  Rhône-Alpes             Lyon   \n",
       "...          ...          ...          ...              ...   \n",
       "36835  Outre-Mer            5      Mayotte        Mamoudzou   \n",
       "36836  Outre-Mer            5      Mayotte        Mamoudzou   \n",
       "36837  Outre-Mer            5      Mayotte        Mamoudzou   \n",
       "36838  Outre-Mer            5      Mayotte        Mamoudzou   \n",
       "36839  Outre-Mer            5      Mayotte        Mamoudzou   \n",
       "\n",
       "      numéro_département nom_département       préfecture  \\\n",
       "0                      1             Ain  Bourg-en-Bresse   \n",
       "1                      1             Ain  Bourg-en-Bresse   \n",
       "2                      1             Ain  Bourg-en-Bresse   \n",
       "3                      1             Ain  Bourg-en-Bresse   \n",
       "4                      1             Ain  Bourg-en-Bresse   \n",
       "...                  ...             ...              ...   \n",
       "36835                976         Mayotte        Mamoudzou   \n",
       "36836                976         Mayotte        Mamoudzou   \n",
       "36837                976         Mayotte        Mamoudzou   \n",
       "36838                976         Mayotte        Mamoudzou   \n",
       "36839                976         Mayotte        Mamoudzou   \n",
       "\n",
       "       numéro_circonscription           nom_commune codes_postaux  Insee  \\\n",
       "0                           1              Attignat          1340   1024   \n",
       "1                           1              Beaupont          1270   1029   \n",
       "2                           1                  Bény          1370   1038   \n",
       "3                           1             Béreyziat          1340   1040   \n",
       "4                           1  Bohas-Meyriat-Rignat          1250   1245   \n",
       "...                       ...                   ...           ...    ...   \n",
       "36835                       1         M'TSANGAMOUJI         97600  97613   \n",
       "36836                       1              OUANGANI         97600  97614   \n",
       "36837                       1              PAMANDZI         97610  97615   \n",
       "36838                       1                  SADA         97640  97616   \n",
       "36839                       1              TSINGONI         97600  97617   \n",
       "\n",
       "        latitude longitude  éloignement  \n",
       "0      46.283333  5.166667         1.21  \n",
       "1      46.400000  5.266667         1.91  \n",
       "2      46.333333  5.283333         1.51  \n",
       "3      46.366667      5.05         1.71  \n",
       "4      46.133333       5.4         1.01  \n",
       "...          ...       ...          ...  \n",
       "36835        NaN       NaN          NaN  \n",
       "36836        NaN       NaN          NaN  \n",
       "36837        NaN       NaN          NaN  \n",
       "36838        NaN       NaN          NaN  \n",
       "36839        NaN       NaN          NaN  \n",
       "\n",
       "[36840 rows x 14 columns]"
      ]
     },
     "execution_count": 21,
     "metadata": {},
     "output_type": "execute_result"
    }
   ],
   "source": [
    "lat_long=pd.read_csv('latlong.csv')\n",
    "lat_long"
   ]
  },
  {
   "cell_type": "code",
   "execution_count": 22,
   "metadata": {},
   "outputs": [
    {
     "data": {
      "text/html": [
       "<div>\n",
       "<style scoped>\n",
       "    .dataframe tbody tr th:only-of-type {\n",
       "        vertical-align: middle;\n",
       "    }\n",
       "\n",
       "    .dataframe tbody tr th {\n",
       "        vertical-align: top;\n",
       "    }\n",
       "\n",
       "    .dataframe thead th {\n",
       "        text-align: right;\n",
       "    }\n",
       "</style>\n",
       "<table border=\"1\" class=\"dataframe\">\n",
       "  <thead>\n",
       "    <tr style=\"text-align: right;\">\n",
       "      <th></th>\n",
       "      <th>EXPO</th>\n",
       "      <th>Insee</th>\n",
       "      <th>ft_10_categ</th>\n",
       "      <th>ft_11_categ</th>\n",
       "      <th>ft_12_categ</th>\n",
       "      <th>ft_13_categ</th>\n",
       "      <th>ft_14_categ</th>\n",
       "      <th>ft_15_categ</th>\n",
       "      <th>ft_16_categ</th>\n",
       "      <th>ft_17_categ</th>\n",
       "      <th>...</th>\n",
       "      <th>ft_4_categ</th>\n",
       "      <th>ft_5_categ</th>\n",
       "      <th>ft_6_categ</th>\n",
       "      <th>ft_7_categ</th>\n",
       "      <th>ft_8_categ</th>\n",
       "      <th>ft_9_categ</th>\n",
       "      <th>latitude</th>\n",
       "      <th>login</th>\n",
       "      <th>longitude</th>\n",
       "      <th>superficief</th>\n",
       "    </tr>\n",
       "  </thead>\n",
       "  <tbody>\n",
       "    <tr>\n",
       "      <th>0</th>\n",
       "      <td>1.000000</td>\n",
       "      <td>65440</td>\n",
       "      <td>O</td>\n",
       "      <td>NOT</td>\n",
       "      <td>NOT</td>\n",
       "      <td>NOT</td>\n",
       "      <td>NOT</td>\n",
       "      <td>OTHER</td>\n",
       "      <td>IDENTICAL</td>\n",
       "      <td>V</td>\n",
       "      <td>...</td>\n",
       "      <td>0.0</td>\n",
       "      <td>V</td>\n",
       "      <td>NOT</td>\n",
       "      <td>1</td>\n",
       "      <td>O</td>\n",
       "      <td>1</td>\n",
       "      <td>NaN</td>\n",
       "      <td>18702.0</td>\n",
       "      <td>NaN</td>\n",
       "      <td>1351.0</td>\n",
       "    </tr>\n",
       "    <tr>\n",
       "      <th>1</th>\n",
       "      <td>1.000000</td>\n",
       "      <td>14341</td>\n",
       "      <td>V</td>\n",
       "      <td>V</td>\n",
       "      <td>V</td>\n",
       "      <td>V</td>\n",
       "      <td>V</td>\n",
       "      <td>V</td>\n",
       "      <td>V</td>\n",
       "      <td>NOT</td>\n",
       "      <td>...</td>\n",
       "      <td>0.0</td>\n",
       "      <td>V</td>\n",
       "      <td>V</td>\n",
       "      <td>V</td>\n",
       "      <td>V</td>\n",
       "      <td>V</td>\n",
       "      <td>NaN</td>\n",
       "      <td>3877.0</td>\n",
       "      <td>NaN</td>\n",
       "      <td>1972.0</td>\n",
       "    </tr>\n",
       "    <tr>\n",
       "      <th>2</th>\n",
       "      <td>1.000000</td>\n",
       "      <td>75109</td>\n",
       "      <td>V</td>\n",
       "      <td>V</td>\n",
       "      <td>V</td>\n",
       "      <td>V</td>\n",
       "      <td>V</td>\n",
       "      <td>V</td>\n",
       "      <td>V</td>\n",
       "      <td>NOT</td>\n",
       "      <td>...</td>\n",
       "      <td>1.0</td>\n",
       "      <td>V</td>\n",
       "      <td>V</td>\n",
       "      <td>V</td>\n",
       "      <td>V</td>\n",
       "      <td>V</td>\n",
       "      <td>NaN</td>\n",
       "      <td>4942.0</td>\n",
       "      <td>NaN</td>\n",
       "      <td>1630.0</td>\n",
       "    </tr>\n",
       "    <tr>\n",
       "      <th>3</th>\n",
       "      <td>0.246575</td>\n",
       "      <td>92004</td>\n",
       "      <td>V</td>\n",
       "      <td>V</td>\n",
       "      <td>V</td>\n",
       "      <td>V</td>\n",
       "      <td>V</td>\n",
       "      <td>V</td>\n",
       "      <td>V</td>\n",
       "      <td>NOT</td>\n",
       "      <td>...</td>\n",
       "      <td>0.0</td>\n",
       "      <td>NOT</td>\n",
       "      <td>V</td>\n",
       "      <td>V</td>\n",
       "      <td>V</td>\n",
       "      <td>V</td>\n",
       "      <td>NaN</td>\n",
       "      <td>13428.0</td>\n",
       "      <td>NaN</td>\n",
       "      <td>532.0</td>\n",
       "    </tr>\n",
       "    <tr>\n",
       "      <th>4</th>\n",
       "      <td>1.000000</td>\n",
       "      <td>59340</td>\n",
       "      <td>O</td>\n",
       "      <td>NOT</td>\n",
       "      <td>NOT</td>\n",
       "      <td>O</td>\n",
       "      <td>NOT</td>\n",
       "      <td>OTHER</td>\n",
       "      <td>IDENTICAL</td>\n",
       "      <td>V</td>\n",
       "      <td>...</td>\n",
       "      <td>0.0</td>\n",
       "      <td>V</td>\n",
       "      <td>NOT</td>\n",
       "      <td>2</td>\n",
       "      <td>O</td>\n",
       "      <td>1</td>\n",
       "      <td>NaN</td>\n",
       "      <td>17137.0</td>\n",
       "      <td>NaN</td>\n",
       "      <td>1050.0</td>\n",
       "    </tr>\n",
       "  </tbody>\n",
       "</table>\n",
       "<p>5 rows × 27 columns</p>\n",
       "</div>"
      ],
      "text/plain": [
       "       EXPO  Insee ft_10_categ ft_11_categ ft_12_categ ft_13_categ  \\\n",
       "0  1.000000  65440           O         NOT         NOT         NOT   \n",
       "1  1.000000  14341           V           V           V           V   \n",
       "2  1.000000  75109           V           V           V           V   \n",
       "3  0.246575  92004           V           V           V           V   \n",
       "4  1.000000  59340           O         NOT         NOT           O   \n",
       "\n",
       "  ft_14_categ ft_15_categ ft_16_categ ft_17_categ  ... ft_4_categ  ft_5_categ  \\\n",
       "0         NOT       OTHER   IDENTICAL           V  ...        0.0           V   \n",
       "1           V           V           V         NOT  ...        0.0           V   \n",
       "2           V           V           V         NOT  ...        1.0           V   \n",
       "3           V           V           V         NOT  ...        0.0         NOT   \n",
       "4         NOT       OTHER   IDENTICAL           V  ...        0.0           V   \n",
       "\n",
       "   ft_6_categ  ft_7_categ ft_8_categ ft_9_categ  latitude    login longitude  \\\n",
       "0         NOT           1          O          1       NaN  18702.0       NaN   \n",
       "1           V           V          V          V       NaN   3877.0       NaN   \n",
       "2           V           V          V          V       NaN   4942.0       NaN   \n",
       "3           V           V          V          V       NaN  13428.0       NaN   \n",
       "4         NOT           2          O          1       NaN  17137.0       NaN   \n",
       "\n",
       "  superficief  \n",
       "0      1351.0  \n",
       "1      1972.0  \n",
       "2      1630.0  \n",
       "3       532.0  \n",
       "4      1050.0  \n",
       "\n",
       "[5 rows x 27 columns]"
      ]
     },
     "execution_count": 22,
     "metadata": {},
     "output_type": "execute_result"
    }
   ],
   "source": [
    "train_datax=pd.concat((train_datax,lat_long), axis = 0, ignore_index = True)\n",
    "train_datax.drop('EU_circo',axis=1,inplace=True)\n",
    "train_datax.drop('chef.lieu_région',axis=1,inplace=True)\n",
    "train_datax.drop('code_région',axis=1,inplace=True)\n",
    "train_datax.drop('codes_postaux',axis=1,inplace=True)\n",
    "train_datax.drop('nom_commune',axis=1,inplace=True)\n",
    "train_datax.drop('nom_département',axis=1,inplace=True)\n",
    "train_datax.drop('nom_région',axis=1,inplace=True)\n",
    "train_datax.drop('numéro_circonscription',axis=1,inplace=True)\n",
    "train_datax.drop('numéro_département',axis=1,inplace=True)\n",
    "train_datax.drop('préfecture',axis=1,inplace=True)\n",
    "train_datax.drop('éloignement',axis=1,inplace=True)\n",
    "train_datax.head()"
   ]
  },
  {
   "cell_type": "code",
   "execution_count": 7,
   "metadata": {},
   "outputs": [],
   "source": [
    "train_datax.drop('Insee',axis=1,inplace=True)"
   ]
  },
  {
   "cell_type": "code",
   "execution_count": 8,
   "metadata": {},
   "outputs": [
    {
     "data": {
      "text/html": [
       "<div>\n",
       "<style scoped>\n",
       "    .dataframe tbody tr th:only-of-type {\n",
       "        vertical-align: middle;\n",
       "    }\n",
       "\n",
       "    .dataframe tbody tr th {\n",
       "        vertical-align: top;\n",
       "    }\n",
       "\n",
       "    .dataframe thead th {\n",
       "        text-align: right;\n",
       "    }\n",
       "</style>\n",
       "<table border=\"1\" class=\"dataframe\">\n",
       "  <thead>\n",
       "    <tr style=\"text-align: right;\">\n",
       "      <th></th>\n",
       "      <th>login</th>\n",
       "      <th>TARGET</th>\n",
       "    </tr>\n",
       "  </thead>\n",
       "  <tbody>\n",
       "    <tr>\n",
       "      <th>0</th>\n",
       "      <td>18702</td>\n",
       "      <td>0</td>\n",
       "    </tr>\n",
       "    <tr>\n",
       "      <th>1</th>\n",
       "      <td>3877</td>\n",
       "      <td>1</td>\n",
       "    </tr>\n",
       "    <tr>\n",
       "      <th>2</th>\n",
       "      <td>4942</td>\n",
       "      <td>0</td>\n",
       "    </tr>\n",
       "    <tr>\n",
       "      <th>3</th>\n",
       "      <td>13428</td>\n",
       "      <td>0</td>\n",
       "    </tr>\n",
       "    <tr>\n",
       "      <th>4</th>\n",
       "      <td>17137</td>\n",
       "      <td>0</td>\n",
       "    </tr>\n",
       "  </tbody>\n",
       "</table>\n",
       "</div>"
      ],
      "text/plain": [
       "   login  TARGET\n",
       "0  18702       0\n",
       "1   3877       1\n",
       "2   4942       0\n",
       "3  13428       0\n",
       "4  17137       0"
      ]
     },
     "execution_count": 8,
     "metadata": {},
     "output_type": "execute_result"
    }
   ],
   "source": [
    "train_datay=pd.read_csv('y_train.csv')\n",
    "train_datay.drop('Index',axis=1,inplace=True)\n",
    "train_datay.head()"
   ]
  },
  {
   "cell_type": "code",
   "execution_count": 9,
   "metadata": {},
   "outputs": [
    {
     "data": {
      "text/html": [
       "<div>\n",
       "<style scoped>\n",
       "    .dataframe tbody tr th:only-of-type {\n",
       "        vertical-align: middle;\n",
       "    }\n",
       "\n",
       "    .dataframe tbody tr th {\n",
       "        vertical-align: top;\n",
       "    }\n",
       "\n",
       "    .dataframe thead th {\n",
       "        text-align: right;\n",
       "    }\n",
       "</style>\n",
       "<table border=\"1\" class=\"dataframe\">\n",
       "  <thead>\n",
       "    <tr style=\"text-align: right;\">\n",
       "      <th></th>\n",
       "      <th>EXPO</th>\n",
       "      <th>ft_10_categ</th>\n",
       "      <th>ft_11_categ</th>\n",
       "      <th>ft_12_categ</th>\n",
       "      <th>ft_13_categ</th>\n",
       "      <th>ft_14_categ</th>\n",
       "      <th>ft_15_categ</th>\n",
       "      <th>ft_16_categ</th>\n",
       "      <th>ft_17_categ</th>\n",
       "      <th>ft_18_categ</th>\n",
       "      <th>...</th>\n",
       "      <th>ft_5_categ</th>\n",
       "      <th>ft_6_categ</th>\n",
       "      <th>ft_7_categ</th>\n",
       "      <th>ft_8_categ</th>\n",
       "      <th>ft_9_categ</th>\n",
       "      <th>latitude</th>\n",
       "      <th>login</th>\n",
       "      <th>longitude</th>\n",
       "      <th>superficief</th>\n",
       "      <th>TARGET</th>\n",
       "    </tr>\n",
       "  </thead>\n",
       "  <tbody>\n",
       "    <tr>\n",
       "      <th>10219</th>\n",
       "      <td>0.997268</td>\n",
       "      <td>O</td>\n",
       "      <td>N</td>\n",
       "      <td>N</td>\n",
       "      <td>O</td>\n",
       "      <td>N</td>\n",
       "      <td>AUTRE</td>\n",
       "      <td>IDENTIQUE</td>\n",
       "      <td>V</td>\n",
       "      <td>base</td>\n",
       "      <td>...</td>\n",
       "      <td>V</td>\n",
       "      <td>N</td>\n",
       "      <td>2</td>\n",
       "      <td>O</td>\n",
       "      <td>1</td>\n",
       "      <td>NaN</td>\n",
       "      <td>18023.0</td>\n",
       "      <td>NaN</td>\n",
       "      <td>5555.0</td>\n",
       "      <td>0</td>\n",
       "    </tr>\n",
       "    <tr>\n",
       "      <th>10220</th>\n",
       "      <td>1.000000</td>\n",
       "      <td>O</td>\n",
       "      <td>N</td>\n",
       "      <td>O</td>\n",
       "      <td>O</td>\n",
       "      <td>N</td>\n",
       "      <td>AUTRE</td>\n",
       "      <td>IDENTIQUE</td>\n",
       "      <td>V</td>\n",
       "      <td>base</td>\n",
       "      <td>...</td>\n",
       "      <td>V</td>\n",
       "      <td>N</td>\n",
       "      <td>3</td>\n",
       "      <td>O</td>\n",
       "      <td>1</td>\n",
       "      <td>NaN</td>\n",
       "      <td>3965.0</td>\n",
       "      <td>NaN</td>\n",
       "      <td>2178.0</td>\n",
       "      <td>1</td>\n",
       "    </tr>\n",
       "    <tr>\n",
       "      <th>10221</th>\n",
       "      <td>1.000000</td>\n",
       "      <td>V</td>\n",
       "      <td>V</td>\n",
       "      <td>V</td>\n",
       "      <td>V</td>\n",
       "      <td>V</td>\n",
       "      <td>V</td>\n",
       "      <td>V</td>\n",
       "      <td>N</td>\n",
       "      <td>base</td>\n",
       "      <td>...</td>\n",
       "      <td>N</td>\n",
       "      <td>V</td>\n",
       "      <td>V</td>\n",
       "      <td>V</td>\n",
       "      <td>V</td>\n",
       "      <td>NaN</td>\n",
       "      <td>46.0</td>\n",
       "      <td>NaN</td>\n",
       "      <td>175.0</td>\n",
       "      <td>0</td>\n",
       "    </tr>\n",
       "    <tr>\n",
       "      <th>10222</th>\n",
       "      <td>1.000000</td>\n",
       "      <td>O</td>\n",
       "      <td>N</td>\n",
       "      <td>N</td>\n",
       "      <td>N</td>\n",
       "      <td>N</td>\n",
       "      <td>AUTRE</td>\n",
       "      <td>IDENTIQUE</td>\n",
       "      <td>V</td>\n",
       "      <td>pi</td>\n",
       "      <td>...</td>\n",
       "      <td>V</td>\n",
       "      <td>N</td>\n",
       "      <td>2</td>\n",
       "      <td>O</td>\n",
       "      <td>1</td>\n",
       "      <td>NaN</td>\n",
       "      <td>2526.0</td>\n",
       "      <td>NaN</td>\n",
       "      <td>625.0</td>\n",
       "      <td>0</td>\n",
       "    </tr>\n",
       "    <tr>\n",
       "      <th>10223</th>\n",
       "      <td>0.997268</td>\n",
       "      <td>O</td>\n",
       "      <td>N</td>\n",
       "      <td>N</td>\n",
       "      <td>N</td>\n",
       "      <td>N</td>\n",
       "      <td>AUTRE</td>\n",
       "      <td>IDENTIQUE</td>\n",
       "      <td>V</td>\n",
       "      <td>effpi</td>\n",
       "      <td>...</td>\n",
       "      <td>V</td>\n",
       "      <td>N</td>\n",
       "      <td>1</td>\n",
       "      <td>O</td>\n",
       "      <td>1</td>\n",
       "      <td>NaN</td>\n",
       "      <td>1605.0</td>\n",
       "      <td>NaN</td>\n",
       "      <td>2417.0</td>\n",
       "      <td>0</td>\n",
       "    </tr>\n",
       "    <tr>\n",
       "      <th>10224</th>\n",
       "      <td>1.000000</td>\n",
       "      <td>V</td>\n",
       "      <td>V</td>\n",
       "      <td>V</td>\n",
       "      <td>V</td>\n",
       "      <td>V</td>\n",
       "      <td>V</td>\n",
       "      <td>V</td>\n",
       "      <td>N</td>\n",
       "      <td>base</td>\n",
       "      <td>...</td>\n",
       "      <td>V</td>\n",
       "      <td>V</td>\n",
       "      <td>V</td>\n",
       "      <td>V</td>\n",
       "      <td>V</td>\n",
       "      <td>NaN</td>\n",
       "      <td>2710.0</td>\n",
       "      <td>NaN</td>\n",
       "      <td>550.0</td>\n",
       "      <td>0</td>\n",
       "    </tr>\n",
       "    <tr>\n",
       "      <th>10225</th>\n",
       "      <td>0.000000</td>\n",
       "      <td>O</td>\n",
       "      <td>N</td>\n",
       "      <td>N</td>\n",
       "      <td>O</td>\n",
       "      <td>N</td>\n",
       "      <td>AUTRE</td>\n",
       "      <td>IDENTIQUE</td>\n",
       "      <td>V</td>\n",
       "      <td>base</td>\n",
       "      <td>...</td>\n",
       "      <td>V</td>\n",
       "      <td>N</td>\n",
       "      <td>2</td>\n",
       "      <td>O</td>\n",
       "      <td>1</td>\n",
       "      <td>NaN</td>\n",
       "      <td>16868.0</td>\n",
       "      <td>NaN</td>\n",
       "      <td>5580.0</td>\n",
       "      <td>0</td>\n",
       "    </tr>\n",
       "    <tr>\n",
       "      <th>10226</th>\n",
       "      <td>0.246575</td>\n",
       "      <td>V</td>\n",
       "      <td>V</td>\n",
       "      <td>V</td>\n",
       "      <td>V</td>\n",
       "      <td>V</td>\n",
       "      <td>V</td>\n",
       "      <td>V</td>\n",
       "      <td>N</td>\n",
       "      <td>base</td>\n",
       "      <td>...</td>\n",
       "      <td>V</td>\n",
       "      <td>V</td>\n",
       "      <td>V</td>\n",
       "      <td>V</td>\n",
       "      <td>V</td>\n",
       "      <td>NaN</td>\n",
       "      <td>8499.0</td>\n",
       "      <td>NaN</td>\n",
       "      <td>750.0</td>\n",
       "      <td>0</td>\n",
       "    </tr>\n",
       "    <tr>\n",
       "      <th>10227</th>\n",
       "      <td>1.000000</td>\n",
       "      <td>V</td>\n",
       "      <td>V</td>\n",
       "      <td>V</td>\n",
       "      <td>V</td>\n",
       "      <td>V</td>\n",
       "      <td>V</td>\n",
       "      <td>V</td>\n",
       "      <td>N</td>\n",
       "      <td>base</td>\n",
       "      <td>...</td>\n",
       "      <td>N</td>\n",
       "      <td>V</td>\n",
       "      <td>V</td>\n",
       "      <td>V</td>\n",
       "      <td>V</td>\n",
       "      <td>NaN</td>\n",
       "      <td>5319.0</td>\n",
       "      <td>NaN</td>\n",
       "      <td>1754.0</td>\n",
       "      <td>0</td>\n",
       "    </tr>\n",
       "    <tr>\n",
       "      <th>10228</th>\n",
       "      <td>1.000000</td>\n",
       "      <td>O</td>\n",
       "      <td>N</td>\n",
       "      <td>O</td>\n",
       "      <td>N</td>\n",
       "      <td>N</td>\n",
       "      <td>AUTRE</td>\n",
       "      <td>IDENTIQUE</td>\n",
       "      <td>V</td>\n",
       "      <td>pi</td>\n",
       "      <td>...</td>\n",
       "      <td>V</td>\n",
       "      <td>N</td>\n",
       "      <td>1</td>\n",
       "      <td>O</td>\n",
       "      <td>1</td>\n",
       "      <td>NaN</td>\n",
       "      <td>8817.0</td>\n",
       "      <td>NaN</td>\n",
       "      <td>5400.0</td>\n",
       "      <td>1</td>\n",
       "    </tr>\n",
       "  </tbody>\n",
       "</table>\n",
       "<p>10 rows × 27 columns</p>\n",
       "</div>"
      ],
      "text/plain": [
       "           EXPO ft_10_categ ft_11_categ ft_12_categ ft_13_categ ft_14_categ  \\\n",
       "10219  0.997268           O           N           N           O           N   \n",
       "10220  1.000000           O           N           O           O           N   \n",
       "10221  1.000000           V           V           V           V           V   \n",
       "10222  1.000000           O           N           N           N           N   \n",
       "10223  0.997268           O           N           N           N           N   \n",
       "10224  1.000000           V           V           V           V           V   \n",
       "10225  0.000000           O           N           N           O           N   \n",
       "10226  0.246575           V           V           V           V           V   \n",
       "10227  1.000000           V           V           V           V           V   \n",
       "10228  1.000000           O           N           O           N           N   \n",
       "\n",
       "      ft_15_categ ft_16_categ ft_17_categ ft_18_categ  ...  ft_5_categ  \\\n",
       "10219       AUTRE   IDENTIQUE           V        base  ...           V   \n",
       "10220       AUTRE   IDENTIQUE           V        base  ...           V   \n",
       "10221           V           V           N        base  ...           N   \n",
       "10222       AUTRE   IDENTIQUE           V          pi  ...           V   \n",
       "10223       AUTRE   IDENTIQUE           V       effpi  ...           V   \n",
       "10224           V           V           N        base  ...           V   \n",
       "10225       AUTRE   IDENTIQUE           V        base  ...           V   \n",
       "10226           V           V           N        base  ...           V   \n",
       "10227           V           V           N        base  ...           N   \n",
       "10228       AUTRE   IDENTIQUE           V          pi  ...           V   \n",
       "\n",
       "       ft_6_categ  ft_7_categ ft_8_categ ft_9_categ  latitude    login  \\\n",
       "10219           N           2          O          1       NaN  18023.0   \n",
       "10220           N           3          O          1       NaN   3965.0   \n",
       "10221           V           V          V          V       NaN     46.0   \n",
       "10222           N           2          O          1       NaN   2526.0   \n",
       "10223           N           1          O          1       NaN   1605.0   \n",
       "10224           V           V          V          V       NaN   2710.0   \n",
       "10225           N           2          O          1       NaN  16868.0   \n",
       "10226           V           V          V          V       NaN   8499.0   \n",
       "10227           V           V          V          V       NaN   5319.0   \n",
       "10228           N           1          O          1       NaN   8817.0   \n",
       "\n",
       "      longitude superficief TARGET  \n",
       "10219       NaN      5555.0      0  \n",
       "10220       NaN      2178.0      1  \n",
       "10221       NaN       175.0      0  \n",
       "10222       NaN       625.0      0  \n",
       "10223       NaN      2417.0      0  \n",
       "10224       NaN       550.0      0  \n",
       "10225       NaN      5580.0      0  \n",
       "10226       NaN       750.0      0  \n",
       "10227       NaN      1754.0      0  \n",
       "10228       NaN      5400.0      1  \n",
       "\n",
       "[10 rows x 27 columns]"
      ]
     },
     "execution_count": 9,
     "metadata": {},
     "output_type": "execute_result"
    }
   ],
   "source": [
    "train_data=pd.merge(train_datax,train_datay)\n",
    "train_data.tail(10)"
   ]
  },
  {
   "cell_type": "code",
   "execution_count": 10,
   "metadata": {},
   "outputs": [
    {
     "data": {
      "text/plain": [
       "10229"
      ]
     },
     "execution_count": 10,
     "metadata": {},
     "output_type": "execute_result"
    }
   ],
   "source": [
    "train_data=train_data.drop_duplicates()\n",
    "train_data.shape[0]"
   ]
  },
  {
   "cell_type": "code",
   "execution_count": 11,
   "metadata": {},
   "outputs": [
    {
     "data": {
      "text/plain": [
       "Index(['EXPO', 'ft_10_categ', 'ft_11_categ', 'ft_12_categ', 'ft_13_categ',\n",
       "       'ft_14_categ', 'ft_15_categ', 'ft_16_categ', 'ft_17_categ',\n",
       "       'ft_18_categ', 'ft_19_categ', 'ft_21_categ', 'ft_22_categ',\n",
       "       'ft_23_categ', 'ft_24_categ', 'ft_2_categ', 'ft_4_categ', 'ft_5_categ',\n",
       "       'ft_6_categ', 'ft_7_categ', 'ft_8_categ', 'ft_9_categ', 'latitude',\n",
       "       'login', 'longitude', 'superficief', 'TARGET'],\n",
       "      dtype='object')"
      ]
     },
     "execution_count": 11,
     "metadata": {},
     "output_type": "execute_result"
    }
   ],
   "source": [
    "train_data.columns"
   ]
  },
  {
   "cell_type": "markdown",
   "metadata": {},
   "source": [
    "### Test Data"
   ]
  },
  {
   "cell_type": "code",
   "execution_count": 12,
   "metadata": {},
   "outputs": [
    {
     "data": {
      "text/html": [
       "<div>\n",
       "<style scoped>\n",
       "    .dataframe tbody tr th:only-of-type {\n",
       "        vertical-align: middle;\n",
       "    }\n",
       "\n",
       "    .dataframe tbody tr th {\n",
       "        vertical-align: top;\n",
       "    }\n",
       "\n",
       "    .dataframe thead th {\n",
       "        text-align: right;\n",
       "    }\n",
       "</style>\n",
       "<table border=\"1\" class=\"dataframe\">\n",
       "  <thead>\n",
       "    <tr style=\"text-align: right;\">\n",
       "      <th></th>\n",
       "      <th>login</th>\n",
       "      <th>ft_2_categ</th>\n",
       "      <th>EXPO</th>\n",
       "      <th>ft_4_categ</th>\n",
       "      <th>ft_5_categ</th>\n",
       "      <th>ft_6_categ</th>\n",
       "      <th>ft_7_categ</th>\n",
       "      <th>ft_8_categ</th>\n",
       "      <th>ft_9_categ</th>\n",
       "      <th>ft_10_categ</th>\n",
       "      <th>...</th>\n",
       "      <th>ft_16_categ</th>\n",
       "      <th>ft_17_categ</th>\n",
       "      <th>ft_18_categ</th>\n",
       "      <th>ft_19_categ</th>\n",
       "      <th>superficief</th>\n",
       "      <th>ft_21_categ</th>\n",
       "      <th>ft_22_categ</th>\n",
       "      <th>ft_23_categ</th>\n",
       "      <th>ft_24_categ</th>\n",
       "      <th>Insee</th>\n",
       "    </tr>\n",
       "  </thead>\n",
       "  <tbody>\n",
       "    <tr>\n",
       "      <th>0</th>\n",
       "      <td>16872</td>\n",
       "      <td>2012</td>\n",
       "      <td>1.000000</td>\n",
       "      <td>1</td>\n",
       "      <td>V</td>\n",
       "      <td>NOT</td>\n",
       "      <td>1</td>\n",
       "      <td>O</td>\n",
       "      <td>1</td>\n",
       "      <td>O</td>\n",
       "      <td>...</td>\n",
       "      <td>IDENTICAL</td>\n",
       "      <td>V</td>\n",
       "      <td>effpi</td>\n",
       "      <td>2</td>\n",
       "      <td>2682.0</td>\n",
       "      <td>2</td>\n",
       "      <td>1970.0</td>\n",
       "      <td>0</td>\n",
       "      <td>4</td>\n",
       "      <td>78383</td>\n",
       "    </tr>\n",
       "    <tr>\n",
       "      <th>1</th>\n",
       "      <td>16852</td>\n",
       "      <td>2012</td>\n",
       "      <td>1.000000</td>\n",
       "      <td>1</td>\n",
       "      <td>V</td>\n",
       "      <td>NOT</td>\n",
       "      <td>1</td>\n",
       "      <td>O</td>\n",
       "      <td>1</td>\n",
       "      <td>O</td>\n",
       "      <td>...</td>\n",
       "      <td>IDENTICAL</td>\n",
       "      <td>V</td>\n",
       "      <td>based</td>\n",
       "      <td>2</td>\n",
       "      <td>2925.0</td>\n",
       "      <td>2</td>\n",
       "      <td>1960.0</td>\n",
       "      <td>0</td>\n",
       "      <td>6</td>\n",
       "      <td>78242</td>\n",
       "    </tr>\n",
       "    <tr>\n",
       "      <th>2</th>\n",
       "      <td>598</td>\n",
       "      <td>2014</td>\n",
       "      <td>1.000000</td>\n",
       "      <td>1</td>\n",
       "      <td>V</td>\n",
       "      <td>V</td>\n",
       "      <td>V</td>\n",
       "      <td>V</td>\n",
       "      <td>V</td>\n",
       "      <td>V</td>\n",
       "      <td>...</td>\n",
       "      <td>V</td>\n",
       "      <td>NOT</td>\n",
       "      <td>based</td>\n",
       "      <td>2</td>\n",
       "      <td>525.0</td>\n",
       "      <td>4</td>\n",
       "      <td>1960.0</td>\n",
       "      <td>0</td>\n",
       "      <td>0</td>\n",
       "      <td>75120</td>\n",
       "    </tr>\n",
       "    <tr>\n",
       "      <th>3</th>\n",
       "      <td>4516</td>\n",
       "      <td>2013</td>\n",
       "      <td>0.161644</td>\n",
       "      <td>0</td>\n",
       "      <td>NOT</td>\n",
       "      <td>V</td>\n",
       "      <td>V</td>\n",
       "      <td>V</td>\n",
       "      <td>V</td>\n",
       "      <td>V</td>\n",
       "      <td>...</td>\n",
       "      <td>V</td>\n",
       "      <td>NOT</td>\n",
       "      <td>based</td>\n",
       "      <td>2</td>\n",
       "      <td>443.0</td>\n",
       "      <td>2</td>\n",
       "      <td>1980.0</td>\n",
       "      <td>0</td>\n",
       "      <td>0</td>\n",
       "      <td>11901</td>\n",
       "    </tr>\n",
       "    <tr>\n",
       "      <th>4</th>\n",
       "      <td>7939</td>\n",
       "      <td>2013</td>\n",
       "      <td>1.000000</td>\n",
       "      <td>0</td>\n",
       "      <td>NOT</td>\n",
       "      <td>V</td>\n",
       "      <td>V</td>\n",
       "      <td>V</td>\n",
       "      <td>V</td>\n",
       "      <td>V</td>\n",
       "      <td>...</td>\n",
       "      <td>V</td>\n",
       "      <td>NOT</td>\n",
       "      <td>based</td>\n",
       "      <td>2</td>\n",
       "      <td>1070.0</td>\n",
       "      <td>1</td>\n",
       "      <td>NaN</td>\n",
       "      <td>0</td>\n",
       "      <td>0</td>\n",
       "      <td>42330</td>\n",
       "    </tr>\n",
       "  </tbody>\n",
       "</table>\n",
       "<p>5 rows × 25 columns</p>\n",
       "</div>"
      ],
      "text/plain": [
       "   login  ft_2_categ      EXPO  ft_4_categ ft_5_categ ft_6_categ ft_7_categ  \\\n",
       "0  16872        2012  1.000000           1          V        NOT          1   \n",
       "1  16852        2012  1.000000           1          V        NOT          1   \n",
       "2    598        2014  1.000000           1          V          V          V   \n",
       "3   4516        2013  0.161644           0        NOT          V          V   \n",
       "4   7939        2013  1.000000           0        NOT          V          V   \n",
       "\n",
       "  ft_8_categ ft_9_categ ft_10_categ  ... ft_16_categ ft_17_categ ft_18_categ  \\\n",
       "0          O          1           O  ...   IDENTICAL           V       effpi   \n",
       "1          O          1           O  ...   IDENTICAL           V       based   \n",
       "2          V          V           V  ...           V         NOT       based   \n",
       "3          V          V           V  ...           V         NOT       based   \n",
       "4          V          V           V  ...           V         NOT       based   \n",
       "\n",
       "  ft_19_categ superficief ft_21_categ ft_22_categ ft_23_categ  ft_24_categ  \\\n",
       "0           2      2682.0           2      1970.0           0            4   \n",
       "1           2      2925.0           2      1960.0           0            6   \n",
       "2           2       525.0           4      1960.0           0            0   \n",
       "3           2       443.0           2      1980.0           0            0   \n",
       "4           2      1070.0           1         NaN           0            0   \n",
       "\n",
       "   Insee  \n",
       "0  78383  \n",
       "1  78242  \n",
       "2  75120  \n",
       "3  11901  \n",
       "4  42330  \n",
       "\n",
       "[5 rows x 25 columns]"
      ]
     },
     "execution_count": 12,
     "metadata": {},
     "output_type": "execute_result"
    }
   ],
   "source": [
    "# Loading the test dataset\n",
    "test_data=pd.read_csv('x_test1.csv')\n",
    "test_data1=pd.read_csv('x_test1.csv')\n",
    "test_data.drop('Index',axis=1,inplace=True)\n",
    "test_data.head()"
   ]
  },
  {
   "cell_type": "code",
   "execution_count": 15,
   "metadata": {},
   "outputs": [
    {
     "data": {
      "text/html": [
       "<div>\n",
       "<style scoped>\n",
       "    .dataframe tbody tr th:only-of-type {\n",
       "        vertical-align: middle;\n",
       "    }\n",
       "\n",
       "    .dataframe tbody tr th {\n",
       "        vertical-align: top;\n",
       "    }\n",
       "\n",
       "    .dataframe thead th {\n",
       "        text-align: right;\n",
       "    }\n",
       "</style>\n",
       "<table border=\"1\" class=\"dataframe\">\n",
       "  <thead>\n",
       "    <tr style=\"text-align: right;\">\n",
       "      <th></th>\n",
       "      <th>EXPO</th>\n",
       "      <th>Insee</th>\n",
       "      <th>ft_10_categ</th>\n",
       "      <th>ft_11_categ</th>\n",
       "      <th>ft_12_categ</th>\n",
       "      <th>ft_13_categ</th>\n",
       "      <th>ft_14_categ</th>\n",
       "      <th>ft_15_categ</th>\n",
       "      <th>ft_16_categ</th>\n",
       "      <th>ft_17_categ</th>\n",
       "      <th>...</th>\n",
       "      <th>ft_4_categ</th>\n",
       "      <th>ft_5_categ</th>\n",
       "      <th>ft_6_categ</th>\n",
       "      <th>ft_7_categ</th>\n",
       "      <th>ft_8_categ</th>\n",
       "      <th>ft_9_categ</th>\n",
       "      <th>latitude</th>\n",
       "      <th>login</th>\n",
       "      <th>longitude</th>\n",
       "      <th>superficief</th>\n",
       "    </tr>\n",
       "  </thead>\n",
       "  <tbody>\n",
       "    <tr>\n",
       "      <th>0</th>\n",
       "      <td>1.000000</td>\n",
       "      <td>78383</td>\n",
       "      <td>O</td>\n",
       "      <td>NOT</td>\n",
       "      <td>NOT</td>\n",
       "      <td>O</td>\n",
       "      <td>NOT</td>\n",
       "      <td>OTHER</td>\n",
       "      <td>IDENTICAL</td>\n",
       "      <td>V</td>\n",
       "      <td>...</td>\n",
       "      <td>1.0</td>\n",
       "      <td>V</td>\n",
       "      <td>NOT</td>\n",
       "      <td>1</td>\n",
       "      <td>O</td>\n",
       "      <td>1</td>\n",
       "      <td>NaN</td>\n",
       "      <td>16872.0</td>\n",
       "      <td>NaN</td>\n",
       "      <td>2682.0</td>\n",
       "    </tr>\n",
       "    <tr>\n",
       "      <th>1</th>\n",
       "      <td>1.000000</td>\n",
       "      <td>78242</td>\n",
       "      <td>O</td>\n",
       "      <td>NOT</td>\n",
       "      <td>NOT</td>\n",
       "      <td>O</td>\n",
       "      <td>NOT</td>\n",
       "      <td>OTHER</td>\n",
       "      <td>IDENTICAL</td>\n",
       "      <td>V</td>\n",
       "      <td>...</td>\n",
       "      <td>1.0</td>\n",
       "      <td>V</td>\n",
       "      <td>NOT</td>\n",
       "      <td>1</td>\n",
       "      <td>O</td>\n",
       "      <td>1</td>\n",
       "      <td>NaN</td>\n",
       "      <td>16852.0</td>\n",
       "      <td>NaN</td>\n",
       "      <td>2925.0</td>\n",
       "    </tr>\n",
       "    <tr>\n",
       "      <th>2</th>\n",
       "      <td>1.000000</td>\n",
       "      <td>75120</td>\n",
       "      <td>V</td>\n",
       "      <td>V</td>\n",
       "      <td>V</td>\n",
       "      <td>V</td>\n",
       "      <td>V</td>\n",
       "      <td>V</td>\n",
       "      <td>V</td>\n",
       "      <td>NOT</td>\n",
       "      <td>...</td>\n",
       "      <td>1.0</td>\n",
       "      <td>V</td>\n",
       "      <td>V</td>\n",
       "      <td>V</td>\n",
       "      <td>V</td>\n",
       "      <td>V</td>\n",
       "      <td>NaN</td>\n",
       "      <td>598.0</td>\n",
       "      <td>NaN</td>\n",
       "      <td>525.0</td>\n",
       "    </tr>\n",
       "    <tr>\n",
       "      <th>3</th>\n",
       "      <td>0.161644</td>\n",
       "      <td>11901</td>\n",
       "      <td>V</td>\n",
       "      <td>V</td>\n",
       "      <td>V</td>\n",
       "      <td>V</td>\n",
       "      <td>V</td>\n",
       "      <td>V</td>\n",
       "      <td>V</td>\n",
       "      <td>NOT</td>\n",
       "      <td>...</td>\n",
       "      <td>0.0</td>\n",
       "      <td>NOT</td>\n",
       "      <td>V</td>\n",
       "      <td>V</td>\n",
       "      <td>V</td>\n",
       "      <td>V</td>\n",
       "      <td>NaN</td>\n",
       "      <td>4516.0</td>\n",
       "      <td>NaN</td>\n",
       "      <td>443.0</td>\n",
       "    </tr>\n",
       "    <tr>\n",
       "      <th>4</th>\n",
       "      <td>1.000000</td>\n",
       "      <td>42330</td>\n",
       "      <td>V</td>\n",
       "      <td>V</td>\n",
       "      <td>V</td>\n",
       "      <td>V</td>\n",
       "      <td>V</td>\n",
       "      <td>V</td>\n",
       "      <td>V</td>\n",
       "      <td>NOT</td>\n",
       "      <td>...</td>\n",
       "      <td>0.0</td>\n",
       "      <td>NOT</td>\n",
       "      <td>V</td>\n",
       "      <td>V</td>\n",
       "      <td>V</td>\n",
       "      <td>V</td>\n",
       "      <td>NaN</td>\n",
       "      <td>7939.0</td>\n",
       "      <td>NaN</td>\n",
       "      <td>1070.0</td>\n",
       "    </tr>\n",
       "  </tbody>\n",
       "</table>\n",
       "<p>5 rows × 27 columns</p>\n",
       "</div>"
      ],
      "text/plain": [
       "       EXPO  Insee ft_10_categ ft_11_categ ft_12_categ ft_13_categ  \\\n",
       "0  1.000000  78383           O         NOT         NOT           O   \n",
       "1  1.000000  78242           O         NOT         NOT           O   \n",
       "2  1.000000  75120           V           V           V           V   \n",
       "3  0.161644  11901           V           V           V           V   \n",
       "4  1.000000  42330           V           V           V           V   \n",
       "\n",
       "  ft_14_categ ft_15_categ ft_16_categ ft_17_categ  ... ft_4_categ  ft_5_categ  \\\n",
       "0         NOT       OTHER   IDENTICAL           V  ...        1.0           V   \n",
       "1         NOT       OTHER   IDENTICAL           V  ...        1.0           V   \n",
       "2           V           V           V         NOT  ...        1.0           V   \n",
       "3           V           V           V         NOT  ...        0.0         NOT   \n",
       "4           V           V           V         NOT  ...        0.0         NOT   \n",
       "\n",
       "   ft_6_categ  ft_7_categ ft_8_categ ft_9_categ  latitude    login longitude  \\\n",
       "0         NOT           1          O          1       NaN  16872.0       NaN   \n",
       "1         NOT           1          O          1       NaN  16852.0       NaN   \n",
       "2           V           V          V          V       NaN    598.0       NaN   \n",
       "3           V           V          V          V       NaN   4516.0       NaN   \n",
       "4           V           V          V          V       NaN   7939.0       NaN   \n",
       "\n",
       "  superficief  \n",
       "0      2682.0  \n",
       "1      2925.0  \n",
       "2       525.0  \n",
       "3       443.0  \n",
       "4      1070.0  \n",
       "\n",
       "[5 rows x 27 columns]"
      ]
     },
     "execution_count": 15,
     "metadata": {},
     "output_type": "execute_result"
    }
   ],
   "source": [
    "test_data=pd.concat((test_data,lat_long), axis = 0, ignore_index = True)\n",
    "test_data.drop('EU_circo',axis=1,inplace=True)\n",
    "test_data.drop('chef.lieu_région',axis=1,inplace=True)\n",
    "test_data.drop('code_région',axis=1,inplace=True)\n",
    "test_data.drop('codes_postaux',axis=1,inplace=True)\n",
    "test_data.drop('nom_commune',axis=1,inplace=True)\n",
    "test_data.drop('nom_département',axis=1,inplace=True)\n",
    "test_data.drop('nom_région',axis=1,inplace=True)\n",
    "test_data.drop('numéro_circonscription',axis=1,inplace=True)\n",
    "test_data.drop('numéro_département',axis=1,inplace=True)\n",
    "test_data.drop('préfecture',axis=1,inplace=True)\n",
    "test_data.drop('éloignement',axis=1,inplace=True)\n",
    "test_data.head()"
   ]
  },
  {
   "cell_type": "markdown",
   "metadata": {},
   "source": [
    "As we have used External data using Insee,Insee would be redundant thus we have deleted Insee "
   ]
  },
  {
   "cell_type": "code",
   "execution_count": 16,
   "metadata": {},
   "outputs": [],
   "source": [
    "test_data.drop('Insee',axis=1,inplace=True)"
   ]
  },
  {
   "cell_type": "code",
   "execution_count": 110,
   "metadata": {},
   "outputs": [
    {
     "data": {
      "text/html": [
       "<div>\n",
       "<style scoped>\n",
       "    .dataframe tbody tr th:only-of-type {\n",
       "        vertical-align: middle;\n",
       "    }\n",
       "\n",
       "    .dataframe tbody tr th {\n",
       "        vertical-align: top;\n",
       "    }\n",
       "\n",
       "    .dataframe thead th {\n",
       "        text-align: right;\n",
       "    }\n",
       "</style>\n",
       "<table border=\"1\" class=\"dataframe\">\n",
       "  <thead>\n",
       "    <tr style=\"text-align: right;\">\n",
       "      <th></th>\n",
       "      <th>login</th>\n",
       "      <th>ft_2_categ</th>\n",
       "      <th>EXPO</th>\n",
       "      <th>ft_4_categ</th>\n",
       "      <th>ft_5_categ</th>\n",
       "      <th>ft_6_categ</th>\n",
       "      <th>ft_7_categ</th>\n",
       "      <th>ft_8_categ</th>\n",
       "      <th>ft_9_categ</th>\n",
       "      <th>ft_10_categ</th>\n",
       "      <th>...</th>\n",
       "      <th>ft_15_categ</th>\n",
       "      <th>ft_16_categ</th>\n",
       "      <th>ft_17_categ</th>\n",
       "      <th>ft_18_categ</th>\n",
       "      <th>ft_19_categ</th>\n",
       "      <th>superficief</th>\n",
       "      <th>ft_21_categ</th>\n",
       "      <th>ft_22_categ</th>\n",
       "      <th>ft_23_categ</th>\n",
       "      <th>ft_24_categ</th>\n",
       "    </tr>\n",
       "  </thead>\n",
       "  <tbody>\n",
       "    <tr>\n",
       "      <td>0</td>\n",
       "      <td>16872</td>\n",
       "      <td>2012</td>\n",
       "      <td>1.000000</td>\n",
       "      <td>1</td>\n",
       "      <td>V</td>\n",
       "      <td>NOT</td>\n",
       "      <td>1</td>\n",
       "      <td>O</td>\n",
       "      <td>1</td>\n",
       "      <td>O</td>\n",
       "      <td>...</td>\n",
       "      <td>OTHER</td>\n",
       "      <td>IDENTICAL</td>\n",
       "      <td>V</td>\n",
       "      <td>effpi</td>\n",
       "      <td>2</td>\n",
       "      <td>2682.0</td>\n",
       "      <td>2</td>\n",
       "      <td>1970.0</td>\n",
       "      <td>0</td>\n",
       "      <td>4</td>\n",
       "    </tr>\n",
       "    <tr>\n",
       "      <td>1</td>\n",
       "      <td>16852</td>\n",
       "      <td>2012</td>\n",
       "      <td>1.000000</td>\n",
       "      <td>1</td>\n",
       "      <td>V</td>\n",
       "      <td>NOT</td>\n",
       "      <td>1</td>\n",
       "      <td>O</td>\n",
       "      <td>1</td>\n",
       "      <td>O</td>\n",
       "      <td>...</td>\n",
       "      <td>OTHER</td>\n",
       "      <td>IDENTICAL</td>\n",
       "      <td>V</td>\n",
       "      <td>based</td>\n",
       "      <td>2</td>\n",
       "      <td>2925.0</td>\n",
       "      <td>2</td>\n",
       "      <td>1960.0</td>\n",
       "      <td>0</td>\n",
       "      <td>6</td>\n",
       "    </tr>\n",
       "    <tr>\n",
       "      <td>2</td>\n",
       "      <td>598</td>\n",
       "      <td>2014</td>\n",
       "      <td>1.000000</td>\n",
       "      <td>1</td>\n",
       "      <td>V</td>\n",
       "      <td>V</td>\n",
       "      <td>V</td>\n",
       "      <td>V</td>\n",
       "      <td>V</td>\n",
       "      <td>V</td>\n",
       "      <td>...</td>\n",
       "      <td>V</td>\n",
       "      <td>V</td>\n",
       "      <td>NOT</td>\n",
       "      <td>based</td>\n",
       "      <td>2</td>\n",
       "      <td>525.0</td>\n",
       "      <td>4</td>\n",
       "      <td>1960.0</td>\n",
       "      <td>0</td>\n",
       "      <td>0</td>\n",
       "    </tr>\n",
       "    <tr>\n",
       "      <td>3</td>\n",
       "      <td>4516</td>\n",
       "      <td>2013</td>\n",
       "      <td>0.161644</td>\n",
       "      <td>0</td>\n",
       "      <td>NOT</td>\n",
       "      <td>V</td>\n",
       "      <td>V</td>\n",
       "      <td>V</td>\n",
       "      <td>V</td>\n",
       "      <td>V</td>\n",
       "      <td>...</td>\n",
       "      <td>V</td>\n",
       "      <td>V</td>\n",
       "      <td>NOT</td>\n",
       "      <td>based</td>\n",
       "      <td>2</td>\n",
       "      <td>443.0</td>\n",
       "      <td>2</td>\n",
       "      <td>1980.0</td>\n",
       "      <td>0</td>\n",
       "      <td>0</td>\n",
       "    </tr>\n",
       "    <tr>\n",
       "      <td>4</td>\n",
       "      <td>7939</td>\n",
       "      <td>2013</td>\n",
       "      <td>1.000000</td>\n",
       "      <td>0</td>\n",
       "      <td>NOT</td>\n",
       "      <td>V</td>\n",
       "      <td>V</td>\n",
       "      <td>V</td>\n",
       "      <td>V</td>\n",
       "      <td>V</td>\n",
       "      <td>...</td>\n",
       "      <td>V</td>\n",
       "      <td>V</td>\n",
       "      <td>NOT</td>\n",
       "      <td>based</td>\n",
       "      <td>2</td>\n",
       "      <td>1070.0</td>\n",
       "      <td>1</td>\n",
       "      <td>NaN</td>\n",
       "      <td>0</td>\n",
       "      <td>0</td>\n",
       "    </tr>\n",
       "  </tbody>\n",
       "</table>\n",
       "<p>5 rows × 24 columns</p>\n",
       "</div>"
      ],
      "text/plain": [
       "   login  ft_2_categ      EXPO  ft_4_categ ft_5_categ ft_6_categ ft_7_categ  \\\n",
       "0  16872        2012  1.000000           1          V        NOT          1   \n",
       "1  16852        2012  1.000000           1          V        NOT          1   \n",
       "2    598        2014  1.000000           1          V          V          V   \n",
       "3   4516        2013  0.161644           0        NOT          V          V   \n",
       "4   7939        2013  1.000000           0        NOT          V          V   \n",
       "\n",
       "  ft_8_categ ft_9_categ ft_10_categ  ... ft_15_categ ft_16_categ ft_17_categ  \\\n",
       "0          O          1           O  ...       OTHER   IDENTICAL           V   \n",
       "1          O          1           O  ...       OTHER   IDENTICAL           V   \n",
       "2          V          V           V  ...           V           V         NOT   \n",
       "3          V          V           V  ...           V           V         NOT   \n",
       "4          V          V           V  ...           V           V         NOT   \n",
       "\n",
       "  ft_18_categ ft_19_categ superficief ft_21_categ ft_22_categ  ft_23_categ  \\\n",
       "0       effpi           2      2682.0           2      1970.0            0   \n",
       "1       based           2      2925.0           2      1960.0            0   \n",
       "2       based           2       525.0           4      1960.0            0   \n",
       "3       based           2       443.0           2      1980.0            0   \n",
       "4       based           2      1070.0           1         NaN            0   \n",
       "\n",
       "   ft_24_categ  \n",
       "0            4  \n",
       "1            6  \n",
       "2            0  \n",
       "3            0  \n",
       "4            0  \n",
       "\n",
       "[5 rows x 24 columns]"
      ]
     },
     "execution_count": 110,
     "metadata": {},
     "output_type": "execute_result"
    }
   ],
   "source": [
    "test_data=test_data.drop_duplicates()\n",
    "test_data.head()"
   ]
  },
  {
   "cell_type": "code",
   "execution_count": 111,
   "metadata": {},
   "outputs": [
    {
     "data": {
      "text/html": [
       "<div>\n",
       "<style scoped>\n",
       "    .dataframe tbody tr th:only-of-type {\n",
       "        vertical-align: middle;\n",
       "    }\n",
       "\n",
       "    .dataframe tbody tr th {\n",
       "        vertical-align: top;\n",
       "    }\n",
       "\n",
       "    .dataframe thead th {\n",
       "        text-align: right;\n",
       "    }\n",
       "</style>\n",
       "<table border=\"1\" class=\"dataframe\">\n",
       "  <thead>\n",
       "    <tr style=\"text-align: right;\">\n",
       "      <th></th>\n",
       "      <th>login</th>\n",
       "      <th>ft_2_categ</th>\n",
       "      <th>EXPO</th>\n",
       "      <th>ft_4_categ</th>\n",
       "      <th>ft_5_categ</th>\n",
       "      <th>ft_6_categ</th>\n",
       "      <th>ft_7_categ</th>\n",
       "      <th>ft_8_categ</th>\n",
       "      <th>ft_9_categ</th>\n",
       "      <th>ft_10_categ</th>\n",
       "      <th>...</th>\n",
       "      <th>ft_15_categ</th>\n",
       "      <th>ft_16_categ</th>\n",
       "      <th>ft_17_categ</th>\n",
       "      <th>ft_18_categ</th>\n",
       "      <th>ft_19_categ</th>\n",
       "      <th>superficief</th>\n",
       "      <th>ft_21_categ</th>\n",
       "      <th>ft_22_categ</th>\n",
       "      <th>ft_23_categ</th>\n",
       "      <th>ft_24_categ</th>\n",
       "    </tr>\n",
       "  </thead>\n",
       "  <tbody>\n",
       "    <tr>\n",
       "      <td>0</td>\n",
       "      <td>16872</td>\n",
       "      <td>2012</td>\n",
       "      <td>1.000000</td>\n",
       "      <td>1</td>\n",
       "      <td>V</td>\n",
       "      <td>NOT</td>\n",
       "      <td>1</td>\n",
       "      <td>O</td>\n",
       "      <td>1</td>\n",
       "      <td>O</td>\n",
       "      <td>...</td>\n",
       "      <td>OTHER</td>\n",
       "      <td>IDENTICAL</td>\n",
       "      <td>V</td>\n",
       "      <td>effpi</td>\n",
       "      <td>2</td>\n",
       "      <td>2682.0</td>\n",
       "      <td>2</td>\n",
       "      <td>1970.0</td>\n",
       "      <td>0</td>\n",
       "      <td>4</td>\n",
       "    </tr>\n",
       "    <tr>\n",
       "      <td>1</td>\n",
       "      <td>16852</td>\n",
       "      <td>2012</td>\n",
       "      <td>1.000000</td>\n",
       "      <td>1</td>\n",
       "      <td>V</td>\n",
       "      <td>NOT</td>\n",
       "      <td>1</td>\n",
       "      <td>O</td>\n",
       "      <td>1</td>\n",
       "      <td>O</td>\n",
       "      <td>...</td>\n",
       "      <td>OTHER</td>\n",
       "      <td>IDENTICAL</td>\n",
       "      <td>V</td>\n",
       "      <td>based</td>\n",
       "      <td>2</td>\n",
       "      <td>2925.0</td>\n",
       "      <td>2</td>\n",
       "      <td>1960.0</td>\n",
       "      <td>0</td>\n",
       "      <td>6</td>\n",
       "    </tr>\n",
       "    <tr>\n",
       "      <td>2</td>\n",
       "      <td>598</td>\n",
       "      <td>2014</td>\n",
       "      <td>1.000000</td>\n",
       "      <td>1</td>\n",
       "      <td>V</td>\n",
       "      <td>V</td>\n",
       "      <td>V</td>\n",
       "      <td>V</td>\n",
       "      <td>V</td>\n",
       "      <td>V</td>\n",
       "      <td>...</td>\n",
       "      <td>V</td>\n",
       "      <td>V</td>\n",
       "      <td>NOT</td>\n",
       "      <td>based</td>\n",
       "      <td>2</td>\n",
       "      <td>525.0</td>\n",
       "      <td>4</td>\n",
       "      <td>1960.0</td>\n",
       "      <td>0</td>\n",
       "      <td>0</td>\n",
       "    </tr>\n",
       "    <tr>\n",
       "      <td>3</td>\n",
       "      <td>4516</td>\n",
       "      <td>2013</td>\n",
       "      <td>0.161644</td>\n",
       "      <td>0</td>\n",
       "      <td>NOT</td>\n",
       "      <td>V</td>\n",
       "      <td>V</td>\n",
       "      <td>V</td>\n",
       "      <td>V</td>\n",
       "      <td>V</td>\n",
       "      <td>...</td>\n",
       "      <td>V</td>\n",
       "      <td>V</td>\n",
       "      <td>NOT</td>\n",
       "      <td>based</td>\n",
       "      <td>2</td>\n",
       "      <td>443.0</td>\n",
       "      <td>2</td>\n",
       "      <td>1980.0</td>\n",
       "      <td>0</td>\n",
       "      <td>0</td>\n",
       "    </tr>\n",
       "    <tr>\n",
       "      <td>4</td>\n",
       "      <td>7939</td>\n",
       "      <td>2013</td>\n",
       "      <td>1.000000</td>\n",
       "      <td>0</td>\n",
       "      <td>NOT</td>\n",
       "      <td>V</td>\n",
       "      <td>V</td>\n",
       "      <td>V</td>\n",
       "      <td>V</td>\n",
       "      <td>V</td>\n",
       "      <td>...</td>\n",
       "      <td>V</td>\n",
       "      <td>V</td>\n",
       "      <td>NOT</td>\n",
       "      <td>based</td>\n",
       "      <td>2</td>\n",
       "      <td>1070.0</td>\n",
       "      <td>1</td>\n",
       "      <td>NaN</td>\n",
       "      <td>0</td>\n",
       "      <td>0</td>\n",
       "    </tr>\n",
       "    <tr>\n",
       "      <td>...</td>\n",
       "      <td>...</td>\n",
       "      <td>...</td>\n",
       "      <td>...</td>\n",
       "      <td>...</td>\n",
       "      <td>...</td>\n",
       "      <td>...</td>\n",
       "      <td>...</td>\n",
       "      <td>...</td>\n",
       "      <td>...</td>\n",
       "      <td>...</td>\n",
       "      <td>...</td>\n",
       "      <td>...</td>\n",
       "      <td>...</td>\n",
       "      <td>...</td>\n",
       "      <td>...</td>\n",
       "      <td>...</td>\n",
       "      <td>...</td>\n",
       "      <td>...</td>\n",
       "      <td>...</td>\n",
       "      <td>...</td>\n",
       "      <td>...</td>\n",
       "    </tr>\n",
       "    <tr>\n",
       "      <td>3407</td>\n",
       "      <td>10969</td>\n",
       "      <td>2012</td>\n",
       "      <td>1.000000</td>\n",
       "      <td>0</td>\n",
       "      <td>NOT</td>\n",
       "      <td>V</td>\n",
       "      <td>V</td>\n",
       "      <td>V</td>\n",
       "      <td>V</td>\n",
       "      <td>V</td>\n",
       "      <td>...</td>\n",
       "      <td>V</td>\n",
       "      <td>V</td>\n",
       "      <td>NOT</td>\n",
       "      <td>based</td>\n",
       "      <td>2</td>\n",
       "      <td>300.0</td>\n",
       "      <td>3</td>\n",
       "      <td>1960.0</td>\n",
       "      <td>0</td>\n",
       "      <td>0</td>\n",
       "    </tr>\n",
       "    <tr>\n",
       "      <td>3408</td>\n",
       "      <td>12489</td>\n",
       "      <td>2012</td>\n",
       "      <td>0.314208</td>\n",
       "      <td>0</td>\n",
       "      <td>NOT</td>\n",
       "      <td>V</td>\n",
       "      <td>V</td>\n",
       "      <td>V</td>\n",
       "      <td>V</td>\n",
       "      <td>V</td>\n",
       "      <td>...</td>\n",
       "      <td>V</td>\n",
       "      <td>V</td>\n",
       "      <td>NOT</td>\n",
       "      <td>based</td>\n",
       "      <td>2</td>\n",
       "      <td>2500.0</td>\n",
       "      <td>1</td>\n",
       "      <td>1988.0</td>\n",
       "      <td>0</td>\n",
       "      <td>0</td>\n",
       "    </tr>\n",
       "    <tr>\n",
       "      <td>3409</td>\n",
       "      <td>12744</td>\n",
       "      <td>2013</td>\n",
       "      <td>0.084932</td>\n",
       "      <td>1</td>\n",
       "      <td>NOT</td>\n",
       "      <td>V</td>\n",
       "      <td>V</td>\n",
       "      <td>V</td>\n",
       "      <td>V</td>\n",
       "      <td>V</td>\n",
       "      <td>...</td>\n",
       "      <td>V</td>\n",
       "      <td>V</td>\n",
       "      <td>NOT</td>\n",
       "      <td>based</td>\n",
       "      <td>2</td>\n",
       "      <td>995.0</td>\n",
       "      <td>2</td>\n",
       "      <td>1960.0</td>\n",
       "      <td>0</td>\n",
       "      <td>0</td>\n",
       "    </tr>\n",
       "    <tr>\n",
       "      <td>3410</td>\n",
       "      <td>10632</td>\n",
       "      <td>2014</td>\n",
       "      <td>1.000000</td>\n",
       "      <td>0</td>\n",
       "      <td>V</td>\n",
       "      <td>V</td>\n",
       "      <td>V</td>\n",
       "      <td>V</td>\n",
       "      <td>V</td>\n",
       "      <td>V</td>\n",
       "      <td>...</td>\n",
       "      <td>V</td>\n",
       "      <td>V</td>\n",
       "      <td>NOT</td>\n",
       "      <td>based</td>\n",
       "      <td>2</td>\n",
       "      <td>5500.0</td>\n",
       "      <td>2</td>\n",
       "      <td>1980.0</td>\n",
       "      <td>0</td>\n",
       "      <td>0</td>\n",
       "    </tr>\n",
       "    <tr>\n",
       "      <td>3411</td>\n",
       "      <td>15675</td>\n",
       "      <td>2014</td>\n",
       "      <td>1.000000</td>\n",
       "      <td>0</td>\n",
       "      <td>V</td>\n",
       "      <td>NOT</td>\n",
       "      <td>1</td>\n",
       "      <td>O</td>\n",
       "      <td>1</td>\n",
       "      <td>O</td>\n",
       "      <td>...</td>\n",
       "      <td>OTHER</td>\n",
       "      <td>IDENTICAL</td>\n",
       "      <td>V</td>\n",
       "      <td>based</td>\n",
       "      <td>2</td>\n",
       "      <td>321.0</td>\n",
       "      <td>3</td>\n",
       "      <td>1900.0</td>\n",
       "      <td>0.6</td>\n",
       "      <td>2</td>\n",
       "    </tr>\n",
       "  </tbody>\n",
       "</table>\n",
       "<p>3412 rows × 24 columns</p>\n",
       "</div>"
      ],
      "text/plain": [
       "      login  ft_2_categ      EXPO  ft_4_categ ft_5_categ ft_6_categ  \\\n",
       "0     16872        2012  1.000000           1          V        NOT   \n",
       "1     16852        2012  1.000000           1          V        NOT   \n",
       "2       598        2014  1.000000           1          V          V   \n",
       "3      4516        2013  0.161644           0        NOT          V   \n",
       "4      7939        2013  1.000000           0        NOT          V   \n",
       "...     ...         ...       ...         ...        ...        ...   \n",
       "3407  10969        2012  1.000000           0        NOT          V   \n",
       "3408  12489        2012  0.314208           0        NOT          V   \n",
       "3409  12744        2013  0.084932           1        NOT          V   \n",
       "3410  10632        2014  1.000000           0          V          V   \n",
       "3411  15675        2014  1.000000           0          V        NOT   \n",
       "\n",
       "     ft_7_categ ft_8_categ ft_9_categ ft_10_categ  ... ft_15_categ  \\\n",
       "0             1          O          1           O  ...       OTHER   \n",
       "1             1          O          1           O  ...       OTHER   \n",
       "2             V          V          V           V  ...           V   \n",
       "3             V          V          V           V  ...           V   \n",
       "4             V          V          V           V  ...           V   \n",
       "...         ...        ...        ...         ...  ...         ...   \n",
       "3407          V          V          V           V  ...           V   \n",
       "3408          V          V          V           V  ...           V   \n",
       "3409          V          V          V           V  ...           V   \n",
       "3410          V          V          V           V  ...           V   \n",
       "3411          1          O          1           O  ...       OTHER   \n",
       "\n",
       "     ft_16_categ ft_17_categ ft_18_categ ft_19_categ superficief ft_21_categ  \\\n",
       "0      IDENTICAL           V       effpi           2      2682.0           2   \n",
       "1      IDENTICAL           V       based           2      2925.0           2   \n",
       "2              V         NOT       based           2       525.0           4   \n",
       "3              V         NOT       based           2       443.0           2   \n",
       "4              V         NOT       based           2      1070.0           1   \n",
       "...          ...         ...         ...         ...         ...         ...   \n",
       "3407           V         NOT       based           2       300.0           3   \n",
       "3408           V         NOT       based           2      2500.0           1   \n",
       "3409           V         NOT       based           2       995.0           2   \n",
       "3410           V         NOT       based           2      5500.0           2   \n",
       "3411   IDENTICAL           V       based           2       321.0           3   \n",
       "\n",
       "     ft_22_categ  ft_23_categ  ft_24_categ  \n",
       "0         1970.0            0            4  \n",
       "1         1960.0            0            6  \n",
       "2         1960.0            0            0  \n",
       "3         1980.0            0            0  \n",
       "4            NaN            0            0  \n",
       "...          ...          ...          ...  \n",
       "3407      1960.0            0            0  \n",
       "3408      1988.0            0            0  \n",
       "3409      1960.0            0            0  \n",
       "3410      1980.0            0            0  \n",
       "3411      1900.0          0.6            2  \n",
       "\n",
       "[3412 rows x 24 columns]"
      ]
     },
     "execution_count": 111,
     "metadata": {},
     "output_type": "execute_result"
    }
   ],
   "source": [
    "test_data=test_data[0:3412]\n",
    "test_data"
   ]
  },
  {
   "cell_type": "code",
   "execution_count": 112,
   "metadata": {},
   "outputs": [],
   "source": [
    "test_login=test_data['login']"
   ]
  },
  {
   "cell_type": "markdown",
   "metadata": {},
   "source": [
    "### Size of dataset"
   ]
  },
  {
   "cell_type": "code",
   "execution_count": 113,
   "metadata": {},
   "outputs": [
    {
     "name": "stdout",
     "output_type": "stream",
     "text": [
      "Total size of train data: 10229\n",
      "Total size of test data: 3412\n",
      "Total size of dataset: 13641\n"
     ]
    }
   ],
   "source": [
    "print(\"Total size of train data:\",train_data.shape[0])\n",
    "print(\"Total size of test data:\",test_data.shape[0])\n",
    "print(\"Total size of dataset:\",train_data.shape[0]+test_data.shape[0])"
   ]
  },
  {
   "cell_type": "markdown",
   "metadata": {},
   "source": [
    "### Percentage of missing data"
   ]
  },
  {
   "cell_type": "code",
   "execution_count": 114,
   "metadata": {},
   "outputs": [
    {
     "data": {
      "text/plain": [
       "login             0\n",
       "ft_2_categ        0\n",
       "EXPO              0\n",
       "ft_4_categ        0\n",
       "ft_5_categ        0\n",
       "ft_6_categ        0\n",
       "ft_7_categ        0\n",
       "ft_8_categ        0\n",
       "ft_9_categ        0\n",
       "ft_10_categ       0\n",
       "ft_11_categ       0\n",
       "ft_12_categ       0\n",
       "ft_13_categ       0\n",
       "ft_14_categ       0\n",
       "ft_15_categ       0\n",
       "ft_16_categ       0\n",
       "ft_17_categ       0\n",
       "ft_18_categ       0\n",
       "ft_19_categ       0\n",
       "superficief     119\n",
       "ft_21_categ       0\n",
       "ft_22_categ    1236\n",
       "ft_23_categ       0\n",
       "ft_24_categ       0\n",
       "TARGET            0\n",
       "dtype: int64"
      ]
     },
     "execution_count": 114,
     "metadata": {},
     "output_type": "execute_result"
    }
   ],
   "source": [
    "nan_data=(train_data.isnull().sum())\n",
    "nan_data"
   ]
  },
  {
   "cell_type": "code",
   "execution_count": 115,
   "metadata": {},
   "outputs": [],
   "source": [
    "targ=train_data['TARGET']"
   ]
  },
  {
   "cell_type": "code",
   "execution_count": 116,
   "metadata": {},
   "outputs": [
    {
     "data": {
      "text/plain": [
       "login           0.000000\n",
       "ft_2_categ      0.000000\n",
       "EXPO            0.000000\n",
       "ft_4_categ      0.000000\n",
       "ft_5_categ      0.000000\n",
       "ft_6_categ      0.000000\n",
       "ft_7_categ      0.000000\n",
       "ft_8_categ      0.000000\n",
       "ft_9_categ      0.000000\n",
       "ft_10_categ     0.000000\n",
       "ft_11_categ     0.000000\n",
       "ft_12_categ     0.000000\n",
       "ft_13_categ     0.000000\n",
       "ft_14_categ     0.000000\n",
       "ft_15_categ     0.000000\n",
       "ft_16_categ     0.000000\n",
       "ft_17_categ     0.000000\n",
       "ft_18_categ     0.000000\n",
       "ft_19_categ     0.000000\n",
       "superficief     1.163359\n",
       "ft_21_categ     0.000000\n",
       "ft_22_categ    12.083293\n",
       "ft_23_categ     0.000000\n",
       "ft_24_categ     0.000000\n",
       "TARGET          0.000000\n",
       "dtype: float64"
      ]
     },
     "execution_count": 116,
     "metadata": {},
     "output_type": "execute_result"
    }
   ],
   "source": [
    "nan_data=(train_data.isnull().sum()/train_data.shape[0])*100\n",
    "nan_data"
   ]
  },
  {
   "cell_type": "code",
   "execution_count": 117,
   "metadata": {},
   "outputs": [
    {
     "data": {
      "text/plain": [
       "superficief     1.163359\n",
       "ft_22_categ    12.083293\n",
       "dtype: float64"
      ]
     },
     "execution_count": 117,
     "metadata": {},
     "output_type": "execute_result"
    }
   ],
   "source": [
    "nan_data[nan_data>0]"
   ]
  },
  {
   "cell_type": "markdown",
   "metadata": {},
   "source": [
    "### box Plots to find outliers"
   ]
  },
  {
   "cell_type": "code",
   "execution_count": 118,
   "metadata": {},
   "outputs": [
    {
     "data": {
      "image/png": "[encoded data removed]",
      "text/plain": [
       "<Figure size 1440x1440 with 1 Axes>"
      ]
     },
     "metadata": {
      "needs_background": "light"
     },
     "output_type": "display_data"
    }
   ],
   "source": [
    "f, ax = plt.subplots(figsize=(20, 20))\n",
    "train_data.boxplot(['ft_2_categ', 'EXPO', 'ft_4_categ','ft_19_categ', 'superficief', 'ft_21_categ', 'ft_22_categ'])\n",
    "plt.show()"
   ]
  },
  {
   "cell_type": "code",
   "execution_count": 119,
   "metadata": {},
   "outputs": [
    {
     "data": {
      "text/plain": [
       "superficief     1.230950\n",
       "ft_22_categ    11.781946\n",
       "code_région          NaN\n",
       "dtype: float64"
      ]
     },
     "execution_count": 119,
     "metadata": {},
     "output_type": "execute_result"
    }
   ],
   "source": [
    "test_nan=(test_data.isnull().sum()/test_data.shape[0])*100\n",
    "test_nan[['superficief','ft_22_categ','code_région']]"
   ]
  },
  {
   "cell_type": "markdown",
   "metadata": {},
   "source": [
    "\n",
    "### Statistical analysis of superficief attribute with value > 100 and < 15000"
   ]
  },
  {
   "cell_type": "code",
   "execution_count": 120,
   "metadata": {},
   "outputs": [
    {
     "data": {
      "text/plain": [
       "count    10110.000000\n",
       "mean      1818.152918\n",
       "std       2272.111284\n",
       "min          1.000000\n",
       "25%        500.000000\n",
       "50%       1002.000000\n",
       "75%       2190.000000\n",
       "max      30745.000000\n",
       "Name: superficief, dtype: float64"
      ]
     },
     "execution_count": 120,
     "metadata": {},
     "output_type": "execute_result"
    }
   ],
   "source": [
    "## superficief\n",
    "train_data['superficief'].describe()"
   ]
  },
  {
   "cell_type": "code",
   "execution_count": 121,
   "metadata": {},
   "outputs": [
    {
     "data": {
      "text/plain": [
       "<matplotlib.axes._subplots.AxesSubplot at 0x7f3b9d375510>"
      ]
     },
     "execution_count": 121,
     "metadata": {},
     "output_type": "execute_result"
    },
    {
     "data": {
      "image/png": "[encoded data removed]",
      "text/plain": [
       "<Figure size 432x288 with 1 Axes>"
      ]
     },
     "metadata": {
      "needs_background": "light"
     },
     "output_type": "display_data"
    }
   ],
   "source": [
    "sns.boxplot(x=train_data['superficief'])"
   ]
  },
  {
   "cell_type": "markdown",
   "metadata": {},
   "source": [
    "There are some outliers in superficief"
   ]
  },
  {
   "cell_type": "code",
   "execution_count": 122,
   "metadata": {},
   "outputs": [
    {
     "data": {
      "image/png": "[encoded data removed]",
      "text/plain": [
       "<Figure size 432x288 with 1 Axes>"
      ]
     },
     "metadata": {
      "needs_background": "light"
     },
     "output_type": "display_data"
    }
   ],
   "source": [
    "sns.distplot(train_data.superficief.dropna(),color='blue')\n",
    "plt.xlabel('Area in sq.m')\n",
    "sns.despine()"
   ]
  },
  {
   "cell_type": "code",
   "execution_count": 123,
   "metadata": {},
   "outputs": [
    {
     "data": {
      "image/png": "[encoded data removed]",
      "text/plain": [
       "<Figure size 432x288 with 1 Axes>"
      ]
     },
     "metadata": {},
     "output_type": "display_data"
    }
   ],
   "source": [
    "sns.set_style('whitegrid',{'access.edgecolor':'0'})\n",
    "x=train_data['login']\n",
    "y=train_data['superficief']\n",
    "plt.xlabel('Login')\n",
    "plt.ylabel('Area in sq m')\n",
    "plt.scatter(x,y)\n",
    "sns.despine()"
   ]
  },
  {
   "cell_type": "markdown",
   "metadata": {},
   "source": [
    "The Maximum users has area between range of 100 to 15000"
   ]
  },
  {
   "cell_type": "code",
   "execution_count": 124,
   "metadata": {},
   "outputs": [
    {
     "data": {
      "text/plain": [
       "count    10021.000000\n",
       "mean      1833.829358\n",
       "std       2276.052092\n",
       "min        104.000000\n",
       "25%        518.000000\n",
       "50%       1022.000000\n",
       "75%       2200.000000\n",
       "max      30745.000000\n",
       "Name: superficief, dtype: float64"
      ]
     },
     "execution_count": 124,
     "metadata": {},
     "output_type": "execute_result"
    }
   ],
   "source": [
    "train_data[train_data.superficief>100]['superficief'].describe()"
   ]
  },
  {
   "cell_type": "code",
   "execution_count": 125,
   "metadata": {},
   "outputs": [
    {
     "data": {
      "text/plain": [
       "count    10068.000000\n",
       "mean      1752.146206\n",
       "std       2021.729641\n",
       "min          1.000000\n",
       "25%        500.000000\n",
       "50%       1000.000000\n",
       "75%       2161.500000\n",
       "max      14950.000000\n",
       "Name: superficief, dtype: float64"
      ]
     },
     "execution_count": 125,
     "metadata": {},
     "output_type": "execute_result"
    }
   ],
   "source": [
    "train_data[train_data.superficief<15000]['superficief'].describe()"
   ]
  },
  {
   "cell_type": "code",
   "execution_count": 126,
   "metadata": {},
   "outputs": [
    {
     "data": {
      "text/plain": [
       "count    10005.000000\n",
       "mean      1768.924138\n",
       "std       2040.424244\n",
       "min        100.000000\n",
       "25%        510.000000\n",
       "50%       1010.000000\n",
       "75%       2184.000000\n",
       "max      15000.000000\n",
       "Name: superficief, dtype: float64"
      ]
     },
     "execution_count": 126,
     "metadata": {},
     "output_type": "execute_result"
    }
   ],
   "source": [
    "train_data.loc[train_data.superficief>15000]=np.nan\n",
    "train_data.loc[train_data.superficief<100]=np.nan\n",
    "train_data.superficief.describe()"
   ]
  },
  {
   "cell_type": "markdown",
   "metadata": {},
   "source": [
    "### Statistical analysis of ft_22_categ attribute with value > 1850 and < 2012"
   ]
  },
  {
   "cell_type": "code",
   "execution_count": 127,
   "metadata": {},
   "outputs": [
    {
     "data": {
      "text/plain": [
       "count    8910.000000\n",
       "mean     1964.968350\n",
       "std        33.640982\n",
       "min      1545.000000\n",
       "25%      1960.000000\n",
       "50%      1969.000000\n",
       "75%      1980.000000\n",
       "max      2016.000000\n",
       "Name: ft_22_categ, dtype: float64"
      ]
     },
     "execution_count": 127,
     "metadata": {},
     "output_type": "execute_result"
    }
   ],
   "source": [
    "train_data.ft_22_categ.describe()"
   ]
  },
  {
   "cell_type": "code",
   "execution_count": 128,
   "metadata": {},
   "outputs": [
    {
     "data": {
      "text/plain": [
       "<matplotlib.axes._subplots.AxesSubplot at 0x7f3b9cfb19d0>"
      ]
     },
     "execution_count": 128,
     "metadata": {},
     "output_type": "execute_result"
    },
    {
     "data": {
      "image/png": "[encoded data removed]",
      "text/plain": [
       "<Figure size 432x288 with 1 Axes>"
      ]
     },
     "metadata": {},
     "output_type": "display_data"
    }
   ],
   "source": [
    "sns.boxplot(x=train_data['ft_22_categ'],color='orange')"
   ]
  },
  {
   "cell_type": "markdown",
   "metadata": {},
   "source": [
    "boxplot shows that the ft_22_categ contain some outliers"
   ]
  },
  {
   "cell_type": "code",
   "execution_count": 129,
   "metadata": {},
   "outputs": [
    {
     "data": {
      "image/png": "[encoded data removed]",
      "text/plain": [
       "<Figure size 432x288 with 1 Axes>"
      ]
     },
     "metadata": {},
     "output_type": "display_data"
    }
   ],
   "source": [
    "sns.distplot(train_data.ft_22_categ.dropna(),color='orange')\n",
    "plt.xlabel('Year in which the house was built')\n",
    "sns.despine()"
   ]
  },
  {
   "cell_type": "code",
   "execution_count": 130,
   "metadata": {
    "scrolled": true
   },
   "outputs": [
    {
     "data": {
      "image/png": "[encoded data removed]",
      "text/plain": [
       "<Figure size 432x288 with 1 Axes>"
      ]
     },
     "metadata": {},
     "output_type": "display_data"
    }
   ],
   "source": [
    "sns.set_style('whitegrid',{'access.edgecolor':'0'})\n",
    "x=train_data['login']\n",
    "y=train_data['ft_22_categ']\n",
    "plt.xlabel('Login')\n",
    "plt.ylabel('Year in which the house is built')\n",
    "plt.scatter(x,y,color='orange')\n",
    "sns.despine()"
   ]
  },
  {
   "cell_type": "code",
   "execution_count": 131,
   "metadata": {
    "scrolled": true
   },
   "outputs": [
    {
     "data": {
      "text/plain": [
       "count    8781.000000\n",
       "mean     1967.354629\n",
       "std        26.096286\n",
       "min      1854.000000\n",
       "25%      1960.000000\n",
       "50%      1970.000000\n",
       "75%      1980.000000\n",
       "max      2016.000000\n",
       "Name: ft_22_categ, dtype: float64"
      ]
     },
     "execution_count": 131,
     "metadata": {},
     "output_type": "execute_result"
    }
   ],
   "source": [
    "train_data[train_data.ft_22_categ>1850]['ft_22_categ'].describe()"
   ]
  },
  {
   "cell_type": "code",
   "execution_count": 132,
   "metadata": {},
   "outputs": [
    {
     "data": {
      "text/plain": [
       "count    8812.000000\n",
       "mean     1964.438153\n",
       "std        33.447434\n",
       "min      1545.000000\n",
       "25%      1960.000000\n",
       "50%      1967.000000\n",
       "75%      1980.000000\n",
       "max      2011.000000\n",
       "Name: ft_22_categ, dtype: float64"
      ]
     },
     "execution_count": 132,
     "metadata": {},
     "output_type": "execute_result"
    }
   ],
   "source": [
    "train_data[train_data.ft_22_categ<2012]['ft_22_categ'].describe()"
   ]
  },
  {
   "cell_type": "code",
   "execution_count": 133,
   "metadata": {
    "scrolled": true
   },
   "outputs": [
    {
     "data": {
      "text/plain": [
       "count    8808.000000\n",
       "mean     1966.344005\n",
       "std        27.681844\n",
       "min      1850.000000\n",
       "25%      1960.000000\n",
       "50%      1970.000000\n",
       "75%      1980.000000\n",
       "max      2012.000000\n",
       "Name: ft_22_categ, dtype: float64"
      ]
     },
     "execution_count": 133,
     "metadata": {},
     "output_type": "execute_result"
    }
   ],
   "source": [
    "train_data.loc[train_data.ft_22_categ>2012]=np.nan\n",
    "train_data.loc[train_data.ft_22_categ<1850]=np.nan\n",
    "train_data.ft_22_categ.describe()"
   ]
  },
  {
   "cell_type": "code",
   "execution_count": 134,
   "metadata": {},
   "outputs": [
    {
     "ename": "AttributeError",
     "evalue": "'DataFrame' object has no attribute 'code_région'",
     "output_type": "error",
     "traceback": [
      "\u001b[0;31m---------------------------------------------------------------------------\u001b[0m",
      "\u001b[0;31mAttributeError\u001b[0m                            Traceback (most recent call last)",
      "\u001b[0;32m<ipython-input-134-af1394929c3b>\u001b[0m in \u001b[0;36m<module>\u001b[0;34m\u001b[0m\n\u001b[0;32m----> 1\u001b[0;31m \u001b[0mtrain_data\u001b[0m\u001b[0;34m.\u001b[0m\u001b[0mcode_région\u001b[0m\u001b[0;34m.\u001b[0m\u001b[0mdescribe\u001b[0m\u001b[0;34m(\u001b[0m\u001b[0;34m)\u001b[0m\u001b[0;34m\u001b[0m\u001b[0;34m\u001b[0m\u001b[0m\n\u001b[0m",
      "\u001b[0;32m~/anaconda3/lib/python3.7/site-packages/pandas/core/generic.py\u001b[0m in \u001b[0;36m__getattr__\u001b[0;34m(self, name)\u001b[0m\n\u001b[1;32m   5177\u001b[0m             \u001b[0;32mif\u001b[0m \u001b[0mself\u001b[0m\u001b[0;34m.\u001b[0m\u001b[0m_info_axis\u001b[0m\u001b[0;34m.\u001b[0m\u001b[0m_can_hold_identifiers_and_holds_name\u001b[0m\u001b[0;34m(\u001b[0m\u001b[0mname\u001b[0m\u001b[0;34m)\u001b[0m\u001b[0;34m:\u001b[0m\u001b[0;34m\u001b[0m\u001b[0;34m\u001b[0m\u001b[0m\n\u001b[1;32m   5178\u001b[0m                 \u001b[0;32mreturn\u001b[0m \u001b[0mself\u001b[0m\u001b[0;34m[\u001b[0m\u001b[0mname\u001b[0m\u001b[0;34m]\u001b[0m\u001b[0;34m\u001b[0m\u001b[0;34m\u001b[0m\u001b[0m\n\u001b[0;32m-> 5179\u001b[0;31m             \u001b[0;32mreturn\u001b[0m \u001b[0mobject\u001b[0m\u001b[0;34m.\u001b[0m\u001b[0m__getattribute__\u001b[0m\u001b[0;34m(\u001b[0m\u001b[0mself\u001b[0m\u001b[0;34m,\u001b[0m \u001b[0mname\u001b[0m\u001b[0;34m)\u001b[0m\u001b[0;34m\u001b[0m\u001b[0;34m\u001b[0m\u001b[0m\n\u001b[0m\u001b[1;32m   5180\u001b[0m \u001b[0;34m\u001b[0m\u001b[0m\n\u001b[1;32m   5181\u001b[0m     \u001b[0;32mdef\u001b[0m \u001b[0m__setattr__\u001b[0m\u001b[0;34m(\u001b[0m\u001b[0mself\u001b[0m\u001b[0;34m,\u001b[0m \u001b[0mname\u001b[0m\u001b[0;34m,\u001b[0m \u001b[0mvalue\u001b[0m\u001b[0;34m)\u001b[0m\u001b[0;34m:\u001b[0m\u001b[0;34m\u001b[0m\u001b[0;34m\u001b[0m\u001b[0m\n",
      "\u001b[0;31mAttributeError\u001b[0m: 'DataFrame' object has no attribute 'code_région'"
     ]
    }
   ],
   "source": [
    "#train_data.code_région.describe()"
   ]
  },
  {
   "cell_type": "code",
   "execution_count": null,
   "metadata": {},
   "outputs": [],
   "source": [
    "#sns.boxplot(x=train_data['code_région'],color='red')"
   ]
  },
  {
   "cell_type": "code",
   "execution_count": null,
   "metadata": {},
   "outputs": [],
   "source": [
    "#sns.distplot(train_data.code_région.dropna(),color='red')\n",
    "#plt.xlabel('Region x')\n",
    "#sns.despine()"
   ]
  },
  {
   "cell_type": "markdown",
   "metadata": {},
   "source": [
    "### Data Visualization"
   ]
  },
  {
   "cell_type": "code",
   "execution_count": 135,
   "metadata": {},
   "outputs": [
    {
     "data": {
      "text/plain": [
       "<matplotlib.collections.PathCollection at 0x7f3b9ccb3b90>"
      ]
     },
     "execution_count": 135,
     "metadata": {},
     "output_type": "execute_result"
    },
    {
     "data": {
      "image/png": "[encoded data removed]",
      "text/plain": [
       "<Figure size 432x288 with 1 Axes>"
      ]
     },
     "metadata": {},
     "output_type": "display_data"
    }
   ],
   "source": [
    "sns.set_style('whitegrid',{'access.edgecolor':'0'})\n",
    "x=train_data['login']\n",
    "y=train_data['ft_2_categ']\n",
    "plt.xlabel('Login')\n",
    "plt.ylabel('Year in which insurance is claimed')\n",
    "plt.scatter(x,y)"
   ]
  },
  {
   "cell_type": "markdown",
   "metadata": {},
   "source": [
    "There no missing data and outliers in the ft_2_categ "
   ]
  },
  {
   "cell_type": "code",
   "execution_count": 136,
   "metadata": {},
   "outputs": [
    {
     "data": {
      "text/plain": [
       "<matplotlib.collections.PathCollection at 0x7f3b9ce17bd0>"
      ]
     },
     "execution_count": 136,
     "metadata": {},
     "output_type": "execute_result"
    },
    {
     "data": {
      "image/png": "[encoded data removed]",
      "text/plain": [
       "<Figure size 432x288 with 1 Axes>"
      ]
     },
     "metadata": {},
     "output_type": "display_data"
    }
   ],
   "source": [
    "sns.set_style('whitegrid',{'access.edgecolor':'0'})\n",
    "y=train_data['ft_2_categ']\n",
    "x=train_data['ft_22_categ']\n",
    "plt.xlabel('Year in which the house is built')\n",
    "plt.ylabel('Year of Insured')\n",
    "plt.scatter(x,y)\n"
   ]
  },
  {
   "cell_type": "markdown",
   "metadata": {},
   "source": [
    " from graph we infer that All house in our train Dataset has Claimed insurace between 2012-2016"
   ]
  },
  {
   "cell_type": "code",
   "execution_count": 137,
   "metadata": {},
   "outputs": [
    {
     "data": {
      "text/plain": [
       "<matplotlib.axes._subplots.AxesSubplot at 0x7f3b9c7a9bd0>"
      ]
     },
     "execution_count": 137,
     "metadata": {},
     "output_type": "execute_result"
    },
    {
     "data": {
      "image/png": "[encoded data removed]",
      "text/plain": [
       "<Figure size 432x288 with 1 Axes>"
      ]
     },
     "metadata": {},
     "output_type": "display_data"
    }
   ],
   "source": [
    "sns.boxplot(x=train_data['ft_2_categ'])"
   ]
  },
  {
   "cell_type": "markdown",
   "metadata": {},
   "source": [
    "There is no outliers in ft_2_categ"
   ]
  },
  {
   "cell_type": "code",
   "execution_count": 138,
   "metadata": {},
   "outputs": [
    {
     "data": {
      "image/png": "[encoded data removed]",
      "text/plain": [
       "<Figure size 432x288 with 1 Axes>"
      ]
     },
     "metadata": {},
     "output_type": "display_data"
    }
   ],
   "source": [
    "sns.distplot(train_data.EXPO.dropna(),color='black')\n",
    "plt.xlabel('Insurance time period')\n",
    "sns.despine()"
   ]
  },
  {
   "cell_type": "markdown",
   "metadata": {},
   "source": [
    "Maximum number of users has claimed their insurance in the period of 1 year"
   ]
  },
  {
   "cell_type": "code",
   "execution_count": 139,
   "metadata": {},
   "outputs": [
    {
     "data": {
      "image/png": "[encoded data removed]",
      "text/plain": [
       "<Figure size 432x288 with 1 Axes>"
      ]
     },
     "metadata": {},
     "output_type": "display_data"
    }
   ],
   "source": [
    "train_data.ft_5_categ.value_counts(dropna=True).plot(kind='bar',color='green',rot=0)\n",
    "plt.xlabel('Category 5')\n",
    "plt.ylabel('Count')\n",
    "sns.despine()"
   ]
  },
  {
   "cell_type": "markdown",
   "metadata": {},
   "source": [
    "ft_5_categ has the highest frequency of V"
   ]
  },
  {
   "cell_type": "code",
   "execution_count": 140,
   "metadata": {},
   "outputs": [
    {
     "data": {
      "image/png": "[encoded data removed]",
      "text/plain": [
       "<Figure size 432x288 with 1 Axes>"
      ]
     },
     "metadata": {},
     "output_type": "display_data"
    }
   ],
   "source": [
    "train_data.ft_4_categ.value_counts(dropna=False).plot(kind='bar',color='pink',rot=0)\n",
    "plt.xlabel('Category 4')\n",
    "plt.ylabel('Count')\n",
    "sns.despine()"
   ]
  },
  {
   "cell_type": "markdown",
   "metadata": {},
   "source": [
    "ft_4_categ has the highest frequency of class 0"
   ]
  },
  {
   "cell_type": "code",
   "execution_count": 141,
   "metadata": {},
   "outputs": [
    {
     "data": {
      "image/png": "[encoded data removed]",
      "text/plain": [
       "<Figure size 432x288 with 1 Axes>"
      ]
     },
     "metadata": {},
     "output_type": "display_data"
    }
   ],
   "source": [
    "train_data.ft_6_categ.value_counts(dropna=False).plot(kind='bar',color='green',rot=0)\n",
    "plt.xlabel('Category 6')\n",
    "plt.ylabel('Count')\n",
    "sns.despine()"
   ]
  },
  {
   "cell_type": "markdown",
   "metadata": {},
   "source": [
    "ft_6_categ is a categorical feature with the highest frequency of class V"
   ]
  },
  {
   "cell_type": "code",
   "execution_count": 142,
   "metadata": {},
   "outputs": [
    {
     "data": {
      "image/png": "[encoded data removed]",
      "text/plain": [
       "<Figure size 432x288 with 1 Axes>"
      ]
     },
     "metadata": {},
     "output_type": "display_data"
    }
   ],
   "source": [
    "train_data.ft_7_categ.value_counts(dropna=False).plot(kind='bar',color='lightblue',rot=0)\n",
    "plt.xlabel('Category 7')\n",
    "plt.ylabel('Count')\n",
    "sns.despine()"
   ]
  },
  {
   "cell_type": "markdown",
   "metadata": {},
   "source": [
    "ft_7_categ is a categorical feature with the highest frequency of class V"
   ]
  },
  {
   "cell_type": "code",
   "execution_count": 143,
   "metadata": {},
   "outputs": [
    {
     "data": {
      "image/png": "[encoded data removed]",
      "text/plain": [
       "<Figure size 432x288 with 1 Axes>"
      ]
     },
     "metadata": {},
     "output_type": "display_data"
    }
   ],
   "source": [
    "train_data.ft_12_categ.value_counts(dropna=False).plot(kind='bar',color='lightgreen',rot=0)\n",
    "plt.xlabel('Category 12')\n",
    "plt.ylabel('Count')\n",
    "sns.despine()\n"
   ]
  },
  {
   "cell_type": "markdown",
   "metadata": {},
   "source": [
    "ft_12_categ is a categorical feature with the highest frequency of class V"
   ]
  },
  {
   "cell_type": "code",
   "execution_count": 144,
   "metadata": {},
   "outputs": [
    {
     "data": {
      "image/png": "[encoded data removed]",
      "text/plain": [
       "<Figure size 432x288 with 1 Axes>"
      ]
     },
     "metadata": {},
     "output_type": "display_data"
    }
   ],
   "source": [
    "train_data.ft_14_categ.value_counts(dropna=False).plot(kind='bar',color='lightgreen',rot=0)\n",
    "plt.xlabel('Category 14')\n",
    "plt.ylabel('Count')\n",
    "sns.despine()"
   ]
  },
  {
   "cell_type": "markdown",
   "metadata": {},
   "source": [
    "ft_14_categ is a categorical feature with the highest frequency of class V"
   ]
  },
  {
   "cell_type": "code",
   "execution_count": 145,
   "metadata": {},
   "outputs": [
    {
     "data": {
      "image/png": "[encoded data removed]",
      "text/plain": [
       "<Figure size 432x288 with 1 Axes>"
      ]
     },
     "metadata": {},
     "output_type": "display_data"
    }
   ],
   "source": [
    "train_data.ft_13_categ.value_counts(dropna=False).plot(kind='bar',color='green',rot=0)\n",
    "plt.xlabel('Category 13')\n",
    "plt.ylabel('Count')\n",
    "sns.despine()\n"
   ]
  },
  {
   "cell_type": "markdown",
   "metadata": {},
   "source": [
    "ft_13_categ is a categorical feature with the highest frequency of class V"
   ]
  },
  {
   "cell_type": "code",
   "execution_count": 146,
   "metadata": {},
   "outputs": [
    {
     "data": {
      "image/png": "[encoded data removed]",
      "text/plain": [
       "<Figure size 432x288 with 1 Axes>"
      ]
     },
     "metadata": {},
     "output_type": "display_data"
    }
   ],
   "source": [
    "train_data.ft_15_categ.replace('AUTRE','OTHER',inplace=True)\n",
    "train_data.ft_15_categ\n",
    "train_data.ft_15_categ.value_counts(dropna=False).plot(kind='bar',color='lightpink',rot=0)\n",
    "plt.xlabel('Category 15')\n",
    "plt.ylabel('Count')\n",
    "sns.despine()\n",
    "plt.show()"
   ]
  },
  {
   "cell_type": "markdown",
   "metadata": {},
   "source": [
    "ft_15_categ is a categorical feature with the highest frequency of class V"
   ]
  },
  {
   "cell_type": "code",
   "execution_count": 147,
   "metadata": {},
   "outputs": [
    {
     "data": {
      "image/png": "[encoded data removed]",
      "text/plain": [
       "<Figure size 432x288 with 1 Axes>"
      ]
     },
     "metadata": {},
     "output_type": "display_data"
    }
   ],
   "source": [
    "train_data.ft_16_categ.replace('IDENTIQUE','IDENTICAL',inplace=True)\n",
    "train_data.ft_16_categ.value_counts(dropna=False).plot(kind='bar',color='red',rot=0)\n",
    "plt.xlabel('Category 16')\n",
    "plt.ylabel('Count')\n",
    "sns.despine()"
   ]
  },
  {
   "cell_type": "markdown",
   "metadata": {},
   "source": [
    "ft_16_categ is a categorical feature with the highest frequency of class V"
   ]
  },
  {
   "cell_type": "code",
   "execution_count": 148,
   "metadata": {},
   "outputs": [
    {
     "data": {
      "image/png": "[encoded data removed]",
      "text/plain": [
       "<Figure size 432x288 with 1 Axes>"
      ]
     },
     "metadata": {},
     "output_type": "display_data"
    }
   ],
   "source": [
    "train_data.ft_17_categ.replace('IDENTIQUE','IDENTICAL',inplace=True)\n",
    "train_data.ft_17_categ.value_counts(dropna=False).plot(kind='bar',color='yellow',rot=0)\n",
    "plt.xlabel('Category 17')\n",
    "plt.ylabel('Count')\n",
    "sns.despine()"
   ]
  },
  {
   "cell_type": "markdown",
   "metadata": {},
   "source": [
    "ft_17_categ is a categorical feature with the highest frequency of class NOT"
   ]
  },
  {
   "cell_type": "code",
   "execution_count": 149,
   "metadata": {},
   "outputs": [
    {
     "data": {
      "image/png": "[encoded data removed]",
      "text/plain": [
       "<Figure size 432x288 with 1 Axes>"
      ]
     },
     "metadata": {},
     "output_type": "display_data"
    }
   ],
   "source": [
    "train_data.ft_18_categ.replace('IDENTIQUE','IDENTICAL',inplace=True)\n",
    "train_data.ft_18_categ.value_counts(dropna=False).plot(kind='bar',color='orange',rot=0)\n",
    "plt.xlabel('Category 18')\n",
    "plt.ylabel('Count')\n",
    "sns.despine()"
   ]
  },
  {
   "cell_type": "markdown",
   "metadata": {},
   "source": [
    "ft_18_categ is a categorical feature with the highest frequency of class base"
   ]
  },
  {
   "cell_type": "code",
   "execution_count": 150,
   "metadata": {},
   "outputs": [
    {
     "data": {
      "text/plain": [
       "<matplotlib.axes._subplots.AxesSubplot at 0x7f3b9d1f0550>"
      ]
     },
     "execution_count": 150,
     "metadata": {},
     "output_type": "execute_result"
    },
    {
     "data": {
      "image/png": "[encoded data removed]",
      "text/plain": [
       "<Figure size 432x288 with 1 Axes>"
      ]
     },
     "metadata": {},
     "output_type": "display_data"
    }
   ],
   "source": [
    "sns.set_style(\"whitegrid\", {'axes.edgecolor': '0'})\n",
    "sns.set_context(\"poster\", font_scale=0.5)\n",
    "train_data.ft_2_categ.value_counts().plot(kind='line', linewidth=1.2, color='red')\n"
   ]
  },
  {
   "cell_type": "markdown",
   "metadata": {},
   "source": [
    "From the above line graph, we infer that the number of houses insured has a drastic decrease from 2012 to 2016"
   ]
  },
  {
   "cell_type": "code",
   "execution_count": 151,
   "metadata": {},
   "outputs": [
    {
     "data": {
      "image/png": "[encoded data removed]",
      "text/plain": [
       "<Figure size 1440x1440 with 6 Axes>"
      ]
     },
     "metadata": {},
     "output_type": "display_data"
    }
   ],
   "source": [
    "f,a=plt.subplots(3,2,figsize=(20,20),sharex=True)\n",
    "sns.despine(left=True)\n",
    "sns.countplot(x=\"ft_5_categ\",data=train_data,color=\"b\",ax=a[0,0])\n",
    "sns.countplot(x=\"ft_6_categ\",data=train_data,color=\"r\",ax=a[0,1])\n",
    "sns.countplot(x=\"ft_12_categ\",data=train_data,color=\"g\",ax=a[1,0])\n",
    "sns.countplot(x=\"ft_14_categ\",data=train_data,color=\"y\",ax=a[1,1])\n",
    "sns.countplot(x=\"ft_13_categ\",data=train_data,color=\"m\",ax=a[2,0])\n",
    "sns.countplot(x=\"ft_17_categ\",data=train_data,color=\"b\",ax=a[2,1])\n",
    "plt.setp(a,yticks=[])\n",
    "plt.tight_layout()"
   ]
  },
  {
   "cell_type": "markdown",
   "metadata": {},
   "source": [
    "This is a comparative study of the features having the same classes namely V,NOT,O"
   ]
  },
  {
   "cell_type": "code",
   "execution_count": 153,
   "metadata": {},
   "outputs": [],
   "source": [
    "#train_data.code_région.value_counts(dropna=False).plot(kind='bar',color='red',rot=90)\n",
    "#plt.xlabel('Region')\n",
    "#plt.ylabel('Count')\n",
    "#sns.despine()"
   ]
  },
  {
   "cell_type": "code",
   "execution_count": null,
   "metadata": {},
   "outputs": [],
   "source": [
    "\"\"\"sns.set_style('whitegrid',{'access.edgecolor':'0'})\n",
    "x=train_data['code_région']\n",
    "y=train_data['superficief']\n",
    "plt.xlabel('Region codes')\n",
    "plt.ylabel('Area of the house')\n",
    "plt.scatter(x,y)\n",
    "\"\"\""
   ]
  },
  {
   "cell_type": "code",
   "execution_count": 154,
   "metadata": {},
   "outputs": [
    {
     "data": {
      "text/plain": [
       "\"sns.set_style('whitegrid',{'access.edgecolor':'0'})\\nx=train_data['code_région']\\ny=train_data['ft_22_categ']\\nplt.xlabel('Region codes')\\nplt.ylabel('Year in which the house was built')\\nplt.scatter(x,y)\\n\""
      ]
     },
     "execution_count": 154,
     "metadata": {},
     "output_type": "execute_result"
    }
   ],
   "source": [
    "\"\"\"sns.set_style('whitegrid',{'access.edgecolor':'0'})\n",
    "x=train_data['code_région']\n",
    "y=train_data['ft_22_categ']\n",
    "plt.xlabel('Region codes')\n",
    "plt.ylabel('Year in which the house was built')\n",
    "plt.scatter(x,y)\n",
    "\"\"\""
   ]
  },
  {
   "cell_type": "code",
   "execution_count": null,
   "metadata": {},
   "outputs": [],
   "source": [
    "\"\"\"target0 = sum(train_data['target'] == 0)\n",
    "target1 = sum(train_data['target'] == 1)\n",
    "\n",
    "target0_region = train_data.loc[train_data['target'] == 0, 'code_région'].value_counts() / target0 * 100\n",
    "target1_region = train_data.loc[train_data['target'] == 1, 'code_région'].value_counts() / target1 * 100\n",
    "width = 0.4\n",
    "target0_region.plot(kind='bar',width=0.4,color='skyblue',rot=0,position=0,label='0')\n",
    "target1_region.plot(kind='bar',width=0.4,color='blue',rot=270,position=1,label='1')\n",
    "plt.legend()\n",
    "plt.xlabel('Region')\n",
    "plt.ylabel('Percentage')\n",
    "sns.despine()\n",
    "plt.show()\"\"\""
   ]
  },
  {
   "cell_type": "code",
   "execution_count": null,
   "metadata": {},
   "outputs": [],
   "source": [
    "target0 = sum(train_data['target'] == 0)\n",
    "target1 = sum(train_data['target'] == 1)\n",
    "\n",
    "target0_region = train_data.loc[train_data['target'] == 0, 'ft_5_categ'].value_counts() / target0 * 100\n",
    "target1_region = train_data.loc[train_data['target'] == 1, 'ft_5_categ'].value_counts() / target1 * 100\n",
    "width = 0.4\n",
    "target0_region.plot(kind='bar',width=0.4,color='orange',rot=0,position=0,label='0')\n",
    "target1_region.plot(kind='bar',width=0.4,color='red',rot=270,position=1,label='1')\n",
    "plt.legend()\n",
    "plt.xlabel('Feature 5')\n",
    "plt.ylabel('Percentage')\n",
    "sns.despine()\n",
    "plt.show()"
   ]
  },
  {
   "cell_type": "code",
   "execution_count": null,
   "metadata": {},
   "outputs": [],
   "source": [
    "target0 = sum(train_data['target'] == 0)\n",
    "target1 = sum(train_data['target'] == 1)\n",
    "\n",
    "target0_region = train_data.loc[train_data['target'] == 0, 'ft_6_categ'].value_counts() / target0 * 100\n",
    "target1_region = train_data.loc[train_data['target'] == 1, 'ft_6_categ'].value_counts() / target1 * 100\n",
    "width = 0.4\n",
    "target0_region.plot(kind='bar',width=0.4,color='orange',rot=0,position=0,label='0')\n",
    "target1_region.plot(kind='bar',width=0.4,color='red',rot=270,position=1,label='1')\n",
    "plt.legend()\n",
    "plt.xlabel('Feature 6')\n",
    "plt.ylabel('Percentage')\n",
    "sns.despine()\n",
    "plt.show()"
   ]
  },
  {
   "cell_type": "code",
   "execution_count": null,
   "metadata": {},
   "outputs": [],
   "source": [
    "sns.set_style('whitegrid',{'access.edgecolor':'0'})\n",
    "x=train_data['code_région']\n",
    "y=train_data['EXPO']\n",
    "plt.xlabel('Region codes')\n",
    "plt.ylabel('Time insured')\n",
    "plt.scatter(x,y)\n"
   ]
  },
  {
   "cell_type": "code",
   "execution_count": null,
   "metadata": {},
   "outputs": [],
   "source": [
    "test_login=test_data['Identifiant']\n",
    "test_login.head()"
   ]
  },
  {
   "cell_type": "markdown",
   "metadata": {},
   "source": [
    "Storing the login attribute which is further used during the final output creation"
   ]
  },
  {
   "cell_type": "code",
   "execution_count": null,
   "metadata": {},
   "outputs": [],
   "source": [
    "train_data['target']=targ"
   ]
  },
  {
   "cell_type": "markdown",
   "metadata": {},
   "source": [
    "### Removing attribute login as it does not support in the prediction"
   ]
  },
  {
   "cell_type": "code",
   "execution_count": null,
   "metadata": {},
   "outputs": [],
   "source": [
    "train_data.drop('Identifiant',axis=1,inplace=True)\n",
    "test_data.drop('Identifiant',axis=1,inplace=True)\n",
    "train_data.head()"
   ]
  },
  {
   "cell_type": "code",
   "execution_count": null,
   "metadata": {},
   "outputs": [],
   "source": [
    "test_data.head()"
   ]
  },
  {
   "cell_type": "code",
   "execution_count": null,
   "metadata": {},
   "outputs": [],
   "source": [
    "nan_data1=train_data.isnull().sum()\n",
    "nan_data1"
   ]
  },
  {
   "cell_type": "markdown",
   "metadata": {},
   "source": [
    "# Data Preprocessing"
   ]
  },
  {
   "cell_type": "markdown",
   "metadata": {},
   "source": [
    "### Data Cleaning"
   ]
  },
  {
   "cell_type": "markdown",
   "metadata": {},
   "source": [
    "### Filling in Missing values"
   ]
  },
  {
   "cell_type": "code",
   "execution_count": null,
   "metadata": {},
   "outputs": [],
   "source": [
    "train_data['superficief']=train_data['superficief'].interpolate(method='linear',limit_direction='forward')"
   ]
  },
  {
   "cell_type": "code",
   "execution_count": null,
   "metadata": {},
   "outputs": [],
   "source": [
    "#train_data['code_région']=train_data['code_région'].fillna(method='bfill').fillna(0)"
   ]
  },
  {
   "cell_type": "code",
   "execution_count": null,
   "metadata": {},
   "outputs": [],
   "source": [
    "train_data['ft_22_categ']=train_data['ft_22_categ'].interpolate(method='linear',limit_direction='forward')"
   ]
  },
  {
   "cell_type": "code",
   "execution_count": null,
   "metadata": {},
   "outputs": [],
   "source": [
    "train_data['ft_24_categ']=train_data.ft_24_categ.replace('> = 10',10)\n",
    "train_data['ft_24_categ']=train_data.ft_24_categ.replace('>=10',10)\n",
    "train_data['ft_24_categ']=train_data['ft_24_categ'].astype('float')\n",
    "train_data['ft_24_categ']=train_data['ft_24_categ'].interpolate(method='linear',limit_direction='forward')"
   ]
  },
  {
   "cell_type": "code",
   "execution_count": null,
   "metadata": {},
   "outputs": [],
   "source": [
    "train_data['ft_2_categ']=train_data['ft_2_categ'].interpolate(method='linear',limit_direction='forward')"
   ]
  },
  {
   "cell_type": "code",
   "execution_count": null,
   "metadata": {},
   "outputs": [],
   "source": [
    "train_data['EXPO']=train_data['EXPO'].interpolate(method='linear',limit_direction='forward')"
   ]
  },
  {
   "cell_type": "code",
   "execution_count": null,
   "metadata": {},
   "outputs": [],
   "source": [
    "train_data['ft_4_categ']=train_data['ft_4_categ'].interpolate(method='linear',limit_direction='forward')"
   ]
  },
  {
   "cell_type": "code",
   "execution_count": null,
   "metadata": {},
   "outputs": [],
   "source": [
    "train_data['ft_21_categ']=train_data['ft_21_categ'].interpolate(method='linear',limit_direction='forward')"
   ]
  },
  {
   "cell_type": "code",
   "execution_count": null,
   "metadata": {},
   "outputs": [],
   "source": [
    "train_data.describe().transpose()"
   ]
  },
  {
   "cell_type": "code",
   "execution_count": null,
   "metadata": {},
   "outputs": [],
   "source": [
    "train_data['ft_5_categ']=train_data['ft_5_categ'].fillna(method='bfill').fillna(0)"
   ]
  },
  {
   "cell_type": "code",
   "execution_count": null,
   "metadata": {},
   "outputs": [],
   "source": [
    "train_data['ft_6_categ']=train_data['ft_6_categ'].fillna(method='bfill').fillna(0)"
   ]
  },
  {
   "cell_type": "code",
   "execution_count": null,
   "metadata": {},
   "outputs": [],
   "source": [
    "train_data['ft_7_categ']=train_data['ft_7_categ'].fillna(method='bfill').fillna(0)"
   ]
  },
  {
   "cell_type": "code",
   "execution_count": null,
   "metadata": {},
   "outputs": [],
   "source": [
    "train_data['ft_8_categ']=train_data['ft_8_categ'].fillna(method='bfill').fillna(0)"
   ]
  },
  {
   "cell_type": "code",
   "execution_count": null,
   "metadata": {},
   "outputs": [],
   "source": [
    "train_data['ft_9_categ']=train_data['ft_9_categ'].fillna(method='bfill').fillna(0)"
   ]
  },
  {
   "cell_type": "code",
   "execution_count": null,
   "metadata": {},
   "outputs": [],
   "source": [
    "train_data['ft_10_categ']=train_data['ft_10_categ'].fillna(method='bfill').fillna(0)"
   ]
  },
  {
   "cell_type": "code",
   "execution_count": null,
   "metadata": {},
   "outputs": [],
   "source": [
    "train_data['ft_11_categ']=train_data['ft_11_categ'].fillna(method='bfill').fillna(0)"
   ]
  },
  {
   "cell_type": "code",
   "execution_count": null,
   "metadata": {},
   "outputs": [],
   "source": [
    "train_data['ft_12_categ']=train_data['ft_12_categ'].fillna(method='bfill').fillna(0)"
   ]
  },
  {
   "cell_type": "code",
   "execution_count": null,
   "metadata": {},
   "outputs": [],
   "source": [
    "train_data['ft_13_categ']=train_data['ft_13_categ'].fillna(method='bfill').fillna(0)"
   ]
  },
  {
   "cell_type": "code",
   "execution_count": null,
   "metadata": {},
   "outputs": [],
   "source": [
    "train_data['ft_14_categ']=train_data['ft_14_categ'].fillna(method='bfill').fillna(0)"
   ]
  },
  {
   "cell_type": "code",
   "execution_count": null,
   "metadata": {},
   "outputs": [],
   "source": [
    "train_data['ft_15_categ']=train_data['ft_15_categ'].fillna(method='bfill').fillna(0)"
   ]
  },
  {
   "cell_type": "code",
   "execution_count": null,
   "metadata": {},
   "outputs": [],
   "source": [
    "train_data['ft_16_categ']=train_data['ft_16_categ'].fillna(method='bfill').fillna(0)"
   ]
  },
  {
   "cell_type": "code",
   "execution_count": null,
   "metadata": {},
   "outputs": [],
   "source": [
    "train_data['ft_17_categ']=train_data['ft_17_categ'].fillna(method='bfill').fillna(0)"
   ]
  },
  {
   "cell_type": "code",
   "execution_count": null,
   "metadata": {},
   "outputs": [],
   "source": [
    "train_data['ft_18_categ']=train_data['ft_18_categ'].fillna(method='bfill').fillna(0)"
   ]
  },
  {
   "cell_type": "code",
   "execution_count": null,
   "metadata": {},
   "outputs": [],
   "source": [
    "train_data['ft_19_categ']=train_data['ft_19_categ'].fillna(method='bfill').fillna(0)"
   ]
  },
  {
   "cell_type": "code",
   "execution_count": null,
   "metadata": {},
   "outputs": [],
   "source": [
    "train_data['ft_23_categ']=train_data['ft_23_categ'].fillna(method='bfill').fillna(0)"
   ]
  },
  {
   "cell_type": "code",
   "execution_count": null,
   "metadata": {},
   "outputs": [],
   "source": [
    "train_data.describe().transpose()"
   ]
  },
  {
   "cell_type": "markdown",
   "metadata": {},
   "source": [
    "### Finding correlation between attributes"
   ]
  },
  {
   "cell_type": "code",
   "execution_count": null,
   "metadata": {},
   "outputs": [],
   "source": [
    "train=train_data\n",
    "train.drop('target',axis=1,inplace=True)"
   ]
  },
  {
   "cell_type": "code",
   "execution_count": null,
   "metadata": {},
   "outputs": [],
   "source": [
    "corr = train.corr()\n",
    "fig, ax = plt.subplots(figsize=(25,25)) \n",
    "sns.heatmap(corr,xticklabels=corr.columns,yticklabels=corr.columns,vmin=-1,vmax=1)"
   ]
  },
  {
   "cell_type": "code",
   "execution_count": null,
   "metadata": {},
   "outputs": [],
   "source": [
    "cmap = cmap=sns.diverging_palette(5, 250, as_cmap=True)\n",
    "\n",
    "def magnify():\n",
    "    return [dict(selector=\"th\",\n",
    "                 props=[(\"font-size\", \"7pt\")]),\n",
    "            dict(selector=\"td\",\n",
    "                 props=[('padding', \"0em 0em\")]),\n",
    "            dict(selector=\"th:hover\",\n",
    "                 props=[(\"font-size\", \"12pt\")]),\n",
    "            dict(selector=\"tr:hover td:hover\",\n",
    "                 props=[('max-width', '200px'),\n",
    "                        ('font-size', '12pt')])\n",
    "]\n",
    "\n",
    "corr.style.background_gradient(cmap, axis=1)\\\n",
    "    .set_properties(**{'max-width': '80px', 'font-size': '10pt'})\\\n",
    "    .set_caption(\"Hover to magify\")\\\n",
    "    .set_precision(2)\\\n",
    "    .set_table_styles(magnify())"
   ]
  },
  {
   "cell_type": "markdown",
   "metadata": {},
   "source": [
    "From the heat maps and correlation matrix it is visible that none of the features are positively or negatively \n",
    "correlated with each other"
   ]
  },
  {
   "cell_type": "markdown",
   "metadata": {},
   "source": [
    "### Data Transformation"
   ]
  },
  {
   "cell_type": "markdown",
   "metadata": {},
   "source": [
    "### Label Encoding Categorical Attributes"
   ]
  },
  {
   "cell_type": "code",
   "execution_count": null,
   "metadata": {},
   "outputs": [],
   "source": [
    "from pandas.api.types import CategoricalDtype\n",
    "def convert_Encoding(df,col):\n",
    "    df[col],_ =pd.factorize(df[col])\n",
    "    return df\n",
    "\n",
    "print(\"Encoding categorical data...\")\n",
    "columns_to_convert = [ 'ft_5_categ','ft_6_categ', 'ft_7_categ','ft_8_categ','ft_9_categ', 'ft_10_categ', 'ft_11_categ', 'ft_12_categ', 'ft_13_categ', 'ft_14_categ','ft_15_categ','ft_16_categ','ft_17_categ','ft_18_categ','ft_23_categ']\n",
    "\n",
    "for column in columns_to_convert:\n",
    "    train_data= convert_Encoding(df=train_data,col=column)\n",
    "print(\"Encoding complete...\")"
   ]
  },
  {
   "cell_type": "code",
   "execution_count": null,
   "metadata": {},
   "outputs": [],
   "source": [
    "train_data.head()"
   ]
  },
  {
   "cell_type": "code",
   "execution_count": null,
   "metadata": {},
   "outputs": [],
   "source": [
    "train_data['target']=targ\n",
    "train_data.columns"
   ]
  },
  {
   "cell_type": "code",
   "execution_count": null,
   "metadata": {},
   "outputs": [],
   "source": [
    "train_data.describe().transpose()"
   ]
  },
  {
   "cell_type": "markdown",
   "metadata": {},
   "source": [
    "### Data Normalization"
   ]
  },
  {
   "cell_type": "code",
   "execution_count": null,
   "metadata": {},
   "outputs": [],
   "source": [
    "sns.distplot(train['ft_7_categ'])"
   ]
  },
  {
   "cell_type": "code",
   "execution_count": null,
   "metadata": {},
   "outputs": [],
   "source": [
    "train_data.ft_7_categ=minmax_scaling(train_data['ft_7_categ'],columns=0)\n",
    "sns.distplot(train_data['ft_7_categ'])"
   ]
  },
  {
   "cell_type": "code",
   "execution_count": null,
   "metadata": {},
   "outputs": [],
   "source": [
    "sns.distplot(train['ft_9_categ'])"
   ]
  },
  {
   "cell_type": "code",
   "execution_count": null,
   "metadata": {},
   "outputs": [],
   "source": [
    "train_data.ft_9_categ=minmax_scaling(train_data['ft_9_categ'],columns=0)\n",
    "sns.distplot(train['ft_9_categ'])"
   ]
  },
  {
   "cell_type": "code",
   "execution_count": null,
   "metadata": {},
   "outputs": [],
   "source": [
    "sns.distplot(train['ft_23_categ'])"
   ]
  },
  {
   "cell_type": "code",
   "execution_count": null,
   "metadata": {},
   "outputs": [],
   "source": [
    "train_data.ft_23_categ=minmax_scaling(train_data['ft_23_categ'],columns=0)\n",
    "sns.distplot(train['ft_23_categ'])"
   ]
  },
  {
   "cell_type": "code",
   "execution_count": null,
   "metadata": {},
   "outputs": [],
   "source": [
    "sns.distplot(train['ft_5_categ'])"
   ]
  },
  {
   "cell_type": "code",
   "execution_count": null,
   "metadata": {},
   "outputs": [],
   "source": [
    "train_data.ft_5_categ=minmax_scaling(train_data['ft_5_categ'],columns=0)\n",
    "sns.distplot(train['ft_5_categ'])"
   ]
  },
  {
   "cell_type": "code",
   "execution_count": null,
   "metadata": {},
   "outputs": [],
   "source": [
    "sns.distplot(train['ft_6_categ'])"
   ]
  },
  {
   "cell_type": "code",
   "execution_count": null,
   "metadata": {},
   "outputs": [],
   "source": [
    "train_data.ft_6_categ=minmax_scaling(train_data['ft_6_categ'],columns=0)\n",
    "sns.distplot(train['ft_6_categ'])"
   ]
  },
  {
   "cell_type": "code",
   "execution_count": null,
   "metadata": {},
   "outputs": [],
   "source": [
    "sns.distplot(train['ft_8_categ'])"
   ]
  },
  {
   "cell_type": "code",
   "execution_count": null,
   "metadata": {},
   "outputs": [],
   "source": [
    "train_data.ft_8_categ=minmax_scaling(train_data['ft_8_categ'],columns=0)\n",
    "sns.distplot(train['ft_8_categ'])"
   ]
  },
  {
   "cell_type": "code",
   "execution_count": null,
   "metadata": {},
   "outputs": [],
   "source": [
    "sns.distplot(train['ft_10_categ'])"
   ]
  },
  {
   "cell_type": "code",
   "execution_count": null,
   "metadata": {},
   "outputs": [],
   "source": [
    "train_data.ft_10_categ=minmax_scaling(train_data['ft_10_categ'],columns=0)\n",
    "sns.distplot(train['ft_10_categ'])"
   ]
  },
  {
   "cell_type": "code",
   "execution_count": null,
   "metadata": {},
   "outputs": [],
   "source": [
    "sns.distplot(train['ft_11_categ'])"
   ]
  },
  {
   "cell_type": "code",
   "execution_count": null,
   "metadata": {},
   "outputs": [],
   "source": [
    "train_data.ft_11_categ=minmax_scaling(train_data['ft_11_categ'],columns=0)\n",
    "sns.distplot(train['ft_11_categ'])"
   ]
  },
  {
   "cell_type": "code",
   "execution_count": null,
   "metadata": {},
   "outputs": [],
   "source": [
    "sns.distplot(train['ft_12_categ'])"
   ]
  },
  {
   "cell_type": "code",
   "execution_count": null,
   "metadata": {},
   "outputs": [],
   "source": [
    "train_data.ft_12_categ=minmax_scaling(train_data['ft_12_categ'],columns=0)\n",
    "sns.distplot(train['ft_12_categ'])"
   ]
  },
  {
   "cell_type": "code",
   "execution_count": null,
   "metadata": {},
   "outputs": [],
   "source": [
    "sns.distplot(train['ft_13_categ'])"
   ]
  },
  {
   "cell_type": "code",
   "execution_count": null,
   "metadata": {},
   "outputs": [],
   "source": [
    "train_data.ft_13_categ=minmax_scaling(train_data['ft_13_categ'],columns=0)\n",
    "sns.distplot(train['ft_13_categ'])"
   ]
  },
  {
   "cell_type": "code",
   "execution_count": null,
   "metadata": {},
   "outputs": [],
   "source": [
    "sns.distplot(train['ft_14_categ'])"
   ]
  },
  {
   "cell_type": "code",
   "execution_count": null,
   "metadata": {},
   "outputs": [],
   "source": [
    "train_data.ft_14_categ=minmax_scaling(train_data['ft_14_categ'],columns=0)\n",
    "sns.distplot(train['ft_14_categ'])"
   ]
  },
  {
   "cell_type": "code",
   "execution_count": null,
   "metadata": {},
   "outputs": [],
   "source": [
    "sns.distplot(train['ft_15_categ'])"
   ]
  },
  {
   "cell_type": "code",
   "execution_count": null,
   "metadata": {},
   "outputs": [],
   "source": [
    "train_data.ft_15_categ=minmax_scaling(train_data['ft_15_categ'],columns=0)\n",
    "sns.distplot(train['ft_15_categ'])"
   ]
  },
  {
   "cell_type": "code",
   "execution_count": null,
   "metadata": {},
   "outputs": [],
   "source": [
    "sns.distplot(train['ft_16_categ'])"
   ]
  },
  {
   "cell_type": "code",
   "execution_count": null,
   "metadata": {},
   "outputs": [],
   "source": [
    "train_data.ft_16_categ=minmax_scaling(train_data['ft_16_categ'],columns=0)\n",
    "sns.distplot(train['ft_16_categ'])"
   ]
  },
  {
   "cell_type": "code",
   "execution_count": null,
   "metadata": {},
   "outputs": [],
   "source": [
    "sns.distplot(train['ft_17_categ'])"
   ]
  },
  {
   "cell_type": "code",
   "execution_count": null,
   "metadata": {},
   "outputs": [],
   "source": [
    "train_data.ft_17_categ=minmax_scaling(train_data['ft_17_categ'],columns=0)\n",
    "sns.distplot(train['ft_17_categ'])"
   ]
  },
  {
   "cell_type": "code",
   "execution_count": null,
   "metadata": {},
   "outputs": [],
   "source": [
    "sns.distplot(train['ft_18_categ'])"
   ]
  },
  {
   "cell_type": "code",
   "execution_count": null,
   "metadata": {},
   "outputs": [],
   "source": [
    "train_data.ft_18_categ=minmax_scaling(train_data['ft_18_categ'],columns=0)\n",
    "sns.distplot(train['ft_18_categ'])"
   ]
  },
  {
   "cell_type": "code",
   "execution_count": null,
   "metadata": {},
   "outputs": [],
   "source": [
    "sns.distplot(train['ft_19_categ'])"
   ]
  },
  {
   "cell_type": "code",
   "execution_count": null,
   "metadata": {},
   "outputs": [],
   "source": [
    "train_data.ft_19_categ=minmax_scaling(train_data['ft_19_categ'],columns=0)\n",
    "sns.distplot(train['ft_19_categ'])"
   ]
  },
  {
   "cell_type": "code",
   "execution_count": null,
   "metadata": {},
   "outputs": [],
   "source": [
    "sns.distplot(train['ft_21_categ'])"
   ]
  },
  {
   "cell_type": "code",
   "execution_count": null,
   "metadata": {},
   "outputs": [],
   "source": [
    "train_data.ft_21_categ=minmax_scaling(train_data['ft_21_categ'],columns=0)\n",
    "sns.distplot(train['ft_21_categ'])"
   ]
  },
  {
   "cell_type": "code",
   "execution_count": null,
   "metadata": {},
   "outputs": [],
   "source": [
    "sns.distplot(train['ft_24_categ'])"
   ]
  },
  {
   "cell_type": "code",
   "execution_count": null,
   "metadata": {},
   "outputs": [],
   "source": [
    "train_data.ft_24_categ=minmax_scaling(train_data['ft_24_categ'],columns=0)\n",
    "sns.distplot(train['ft_24_categ'])"
   ]
  },
  {
   "cell_type": "code",
   "execution_count": null,
   "metadata": {},
   "outputs": [],
   "source": [
    "sns.distplot(train['superficief'])"
   ]
  },
  {
   "cell_type": "code",
   "execution_count": null,
   "metadata": {},
   "outputs": [],
   "source": [
    "train_data['superficief']=minmax_scaling(train_data['superficief'],columns=0)\n",
    "sns.distplot(train['superficief'])"
   ]
  },
  {
   "cell_type": "code",
   "execution_count": null,
   "metadata": {},
   "outputs": [],
   "source": [
    "train_data.describe().transpose()"
   ]
  },
  {
   "cell_type": "code",
   "execution_count": null,
   "metadata": {},
   "outputs": [],
   "source": [
    "train_data.shape[0]"
   ]
  },
  {
   "cell_type": "code",
   "execution_count": null,
   "metadata": {},
   "outputs": [],
   "source": [
    "train_data.columns"
   ]
  },
  {
   "cell_type": "markdown",
   "metadata": {},
   "source": [
    "### Test Dataset"
   ]
  },
  {
   "cell_type": "code",
   "execution_count": null,
   "metadata": {},
   "outputs": [],
   "source": [
    "test_data.loc[test_data.superficief>15000]=np.nan\n",
    "test_data.loc[test_data.superficief<100]=np.nan"
   ]
  },
  {
   "cell_type": "code",
   "execution_count": null,
   "metadata": {},
   "outputs": [],
   "source": [
    "test_data.loc[test_data.ft_22_categ>2012]=np.nan\n",
    "test_data.loc[test_data.ft_22_categ<1850]=np.nan"
   ]
  },
  {
   "cell_type": "code",
   "execution_count": null,
   "metadata": {},
   "outputs": [],
   "source": [
    "nan_data2=test_data.isnull().sum()\n",
    "nan_data2"
   ]
  },
  {
   "cell_type": "markdown",
   "metadata": {},
   "source": [
    "### Filling the missing values"
   ]
  },
  {
   "cell_type": "code",
   "execution_count": null,
   "metadata": {},
   "outputs": [],
   "source": [
    "test_data['superficief']=test_data['superficief'].interpolate(method='linear',limit_direction='forward')"
   ]
  },
  {
   "cell_type": "code",
   "execution_count": null,
   "metadata": {},
   "outputs": [],
   "source": [
    "test_data['ft_22_categ']=test_data['ft_22_categ'].interpolate(method='linear',limit_direction='forward')"
   ]
  },
  {
   "cell_type": "code",
   "execution_count": null,
   "metadata": {},
   "outputs": [],
   "source": [
    "test_data['ft_23_categ']=test_data['ft_23_categ'].interpolate(method='linear',limit_direction='forward')"
   ]
  },
  {
   "cell_type": "code",
   "execution_count": null,
   "metadata": {},
   "outputs": [],
   "source": [
    "test_data['ft_24_categ']=test_data.ft_24_categ.replace('> = 10',10)\n",
    "test_data['ft_24_categ']=test_data.ft_24_categ.replace('>=10',10)\n",
    "test_data['ft_24_categ']=test_data['ft_24_categ'].astype('float')\n",
    "test_data['ft_24_categ']=test_data['ft_24_categ'].interpolate(method='linear',limit_direction='forward')"
   ]
  },
  {
   "cell_type": "code",
   "execution_count": null,
   "metadata": {},
   "outputs": [],
   "source": [
    "test_data['ft_21_categ']=test_data['ft_21_categ'].interpolate(method='linear',limit_direction='forward')"
   ]
  },
  {
   "cell_type": "code",
   "execution_count": null,
   "metadata": {},
   "outputs": [],
   "source": [
    "test_data['ft_19_categ']=test_data['ft_19_categ'].interpolate(method='linear',limit_direction='forward')"
   ]
  },
  {
   "cell_type": "code",
   "execution_count": null,
   "metadata": {},
   "outputs": [],
   "source": [
    "test_data['EXPO']=test_data['EXPO'].interpolate(method='linear',limit_direction='forward')"
   ]
  },
  {
   "cell_type": "code",
   "execution_count": null,
   "metadata": {},
   "outputs": [],
   "source": [
    "test_data['code_région']=test_data['code_région'].fillna(method='bfill').fillna(0)"
   ]
  },
  {
   "cell_type": "code",
   "execution_count": null,
   "metadata": {},
   "outputs": [],
   "source": [
    "test_data['ft_2_categ']=test_data['ft_2_categ'].interpolate(method='linear',limit_direction='forward')"
   ]
  },
  {
   "cell_type": "code",
   "execution_count": null,
   "metadata": {},
   "outputs": [],
   "source": [
    "test_data['ft_4_categ']=test_data['ft_4_categ'].interpolate(method='linear',limit_direction='forward')"
   ]
  },
  {
   "cell_type": "code",
   "execution_count": null,
   "metadata": {},
   "outputs": [],
   "source": [
    "test_data['ft_5_categ']=test_data['ft_5_categ'].fillna(method='bfill').fillna(0)\n",
    "test_data['ft_6_categ']=test_data['ft_6_categ'].fillna(method='bfill').fillna(0)\n",
    "test_data['ft_7_categ']=test_data['ft_7_categ'].fillna(method='bfill').fillna(0)\n",
    "test_data['ft_8_categ']=test_data['ft_8_categ'].fillna(method='bfill').fillna(0)\n",
    "test_data['ft_9_categ']=test_data['ft_9_categ'].fillna(method='bfill').fillna(0)\n",
    "test_data['ft_10_categ']=test_data['ft_10_categ'].fillna(method='bfill').fillna(0)\n",
    "test_data['ft_11_categ']=test_data['ft_11_categ'].fillna(method='bfill').fillna(0)\n",
    "test_data['ft_12_categ']=test_data['ft_12_categ'].fillna(method='bfill').fillna(0)\n",
    "test_data['ft_13_categ']=test_data['ft_13_categ'].fillna(method='bfill').fillna(0)\n",
    "test_data['ft_14_categ']=test_data['ft_14_categ'].fillna(method='bfill').fillna(0)\n",
    "test_data['ft_15_categ']=test_data['ft_15_categ'].fillna(method='bfill').fillna(0)\n",
    "test_data['ft_16_categ']=test_data['ft_16_categ'].fillna(method='bfill').fillna(0)\n",
    "test_data['ft_17_categ']=test_data['ft_17_categ'].fillna(method='bfill').fillna(0)\n",
    "test_data['ft_18_categ']=test_data['ft_18_categ'].fillna(method='bfill').fillna(0)\n",
    "test_data['ft_23_categ']=test_data['ft_23_categ'].fillna(method='bfill').fillna(0)"
   ]
  },
  {
   "cell_type": "markdown",
   "metadata": {},
   "source": [
    "### Label Encoding For Categorical Attributes"
   ]
  },
  {
   "cell_type": "code",
   "execution_count": null,
   "metadata": {},
   "outputs": [],
   "source": [
    "from pandas.api.types import CategoricalDtype\n",
    "def convert_Encoding(df,col):\n",
    "    df[col],_ =pd.factorize(df[col])\n",
    "    return df\n",
    "\n",
    "print(\"Encoding categorical data...\")\n",
    "columns_to_convert = [ 'ft_5_categ','ft_6_categ', 'ft_7_categ','ft_8_categ','ft_9_categ', 'ft_10_categ', 'ft_11_categ', 'ft_12_categ', 'ft_13_categ', 'ft_14_categ','ft_15_categ','ft_16_categ','ft_17_categ','ft_18_categ','ft_23_categ']\n",
    "\n",
    "for column in columns_to_convert:\n",
    "    test_data= convert_Encoding(df=test_data,col=column)\n",
    "print(\"Encoding complete...\")"
   ]
  },
  {
   "cell_type": "markdown",
   "metadata": {},
   "source": [
    "### Data Normalization"
   ]
  },
  {
   "cell_type": "code",
   "execution_count": null,
   "metadata": {},
   "outputs": [],
   "source": [
    "test_data.ft_4_categ=minmax_scaling(test_data['ft_4_categ'],columns=0)"
   ]
  },
  {
   "cell_type": "code",
   "execution_count": null,
   "metadata": {},
   "outputs": [],
   "source": [
    "test_data['superficief']=minmax_scaling(test_data['superficief'],columns=0)"
   ]
  },
  {
   "cell_type": "code",
   "execution_count": null,
   "metadata": {},
   "outputs": [],
   "source": [
    "test_data.ft_7_categ=minmax_scaling(test_data['ft_7_categ'],columns=0)"
   ]
  },
  {
   "cell_type": "code",
   "execution_count": null,
   "metadata": {},
   "outputs": [],
   "source": [
    "test_data.ft_9_categ=minmax_scaling(test_data['ft_9_categ'],columns=0)"
   ]
  },
  {
   "cell_type": "code",
   "execution_count": null,
   "metadata": {},
   "outputs": [],
   "source": [
    "test_data.ft_23_categ=minmax_scaling(test_data['ft_23_categ'],columns=0)"
   ]
  },
  {
   "cell_type": "code",
   "execution_count": null,
   "metadata": {},
   "outputs": [],
   "source": [
    "test_data.ft_5_categ=minmax_scaling(test_data['ft_5_categ'],columns=0)\n",
    "test_data.ft_6_categ=minmax_scaling(test_data['ft_6_categ'],columns=0)\n",
    "test_data.ft_8_categ=minmax_scaling(test_data['ft_8_categ'],columns=0)\n",
    "test_data.ft_10_categ=minmax_scaling(test_data['ft_10_categ'],columns=0)\n",
    "test_data.ft_11_categ=minmax_scaling(test_data['ft_11_categ'],columns=0)\n",
    "test_data.ft_12_categ=minmax_scaling(test_data['ft_12_categ'],columns=0)\n",
    "test_data.ft_13_categ=minmax_scaling(test_data['ft_13_categ'],columns=0)\n",
    "test_data.ft_14_categ=minmax_scaling(test_data['ft_14_categ'],columns=0)\n",
    "test_data.ft_15_categ=minmax_scaling(test_data['ft_15_categ'],columns=0)\n",
    "test_data.ft_16_categ=minmax_scaling(test_data['ft_16_categ'],columns=0)\n",
    "test_data.ft_17_categ=minmax_scaling(test_data['ft_17_categ'],columns=0)\n",
    "test_data.ft_18_categ=minmax_scaling(test_data['ft_18_categ'],columns=0)\n",
    "test_data.ft_19_categ=minmax_scaling(test_data['ft_19_categ'],columns=0)\n",
    "test_data.ft_21_categ=minmax_scaling(test_data['ft_21_categ'],columns=0)"
   ]
  },
  {
   "cell_type": "code",
   "execution_count": null,
   "metadata": {},
   "outputs": [],
   "source": [
    "test_data.describe().transpose()"
   ]
  },
  {
   "cell_type": "code",
   "execution_count": null,
   "metadata": {},
   "outputs": [],
   "source": [
    "test_data.columns"
   ]
  },
  {
   "cell_type": "code",
   "execution_count": null,
   "metadata": {},
   "outputs": [],
   "source": [
    "test_data.head()"
   ]
  },
  {
   "cell_type": "code",
   "execution_count": null,
   "metadata": {},
   "outputs": [],
   "source": [
    "test_data.shape[0]"
   ]
  },
  {
   "cell_type": "markdown",
   "metadata": {},
   "source": [
    "### Feature Selection"
   ]
  },
  {
   "cell_type": "code",
   "execution_count": null,
   "metadata": {},
   "outputs": [],
   "source": [
    "plt.figure(figsize=(50,25))\n",
    "cor = train_data.corr()\n",
    "sns.heatmap(cor, annot=True, cmap=plt.cm.Reds)\n",
    "plt.show()"
   ]
  },
  {
   "cell_type": "markdown",
   "metadata": {},
   "source": [
    "From the heatmap, it is visible that none of the attributes are correlated with the target variable"
   ]
  },
  {
   "cell_type": "code",
   "execution_count": null,
   "metadata": {},
   "outputs": [],
   "source": [
    "target=train_data['target']\n",
    "train=train_data\n",
    "train.drop('target',axis=1,inplace=True)"
   ]
  },
  {
   "cell_type": "code",
   "execution_count": null,
   "metadata": {},
   "outputs": [],
   "source": [
    "from sklearn.linear_model import RidgeCV, LassoCV, Ridge, Lasso\n",
    "reg = LassoCV()\n",
    "reg.fit(train, target)\n",
    "print(\"Best alpha using built-in LassoCV: %f\" % reg.alpha_)\n",
    "print(\"Best score using built-in LassoCV: %f\" %reg.score(train,target))\n",
    "coef = pd.Series(reg.coef_, index = train.columns)"
   ]
  },
  {
   "cell_type": "code",
   "execution_count": null,
   "metadata": {},
   "outputs": [],
   "source": [
    "print(\"Lasso picked \" + str(sum(coef != 0)) + \" variables and eliminated the other \" +  str(sum(coef == 0)) + \" variables\")"
   ]
  },
  {
   "cell_type": "code",
   "execution_count": null,
   "metadata": {},
   "outputs": [],
   "source": [
    "imp_coef = coef.sort_values()\n",
    "print(imp_coef)\n",
    "import matplotlib\n",
    "matplotlib.rcParams['figure.figsize'] = (8.0, 10.0)\n",
    "imp_coef.plot(kind = \"bar\")\n",
    "plt.title(\"Feature importance using Lasso Model\")"
   ]
  },
  {
   "cell_type": "code",
   "execution_count": null,
   "metadata": {},
   "outputs": [],
   "source": [
    "train1=train_data[['ft_18_categ','ft_2_categ','ft_13_categ','ft_7_categ','ft_15_categ','ft_19_categ','ft_24_categ','ft_21_categ','EXPO','superficief']]\n",
    "train1.head()"
   ]
  },
  {
   "cell_type": "markdown",
   "metadata": {},
   "source": [
    "### Model Implementation"
   ]
  },
  {
   "cell_type": "code",
   "execution_count": null,
   "metadata": {},
   "outputs": [],
   "source": [
    "from xgboost.sklearn import XGBClassifier\n",
    "from sklearn.metrics import mean_squared_error"
   ]
  },
  {
   "cell_type": "code",
   "execution_count": null,
   "metadata": {},
   "outputs": [],
   "source": [
    "X=train_data.iloc[:,:]\n",
    "Y=train_datay.iloc[:,-1]"
   ]
  },
  {
   "cell_type": "code",
   "execution_count": null,
   "metadata": {},
   "outputs": [],
   "source": [
    "#params={'objective':'binary:logistic','max_depth':6,'learning_rate':0.05,'n_estimators':200,}\n",
    "#model1=XGBClassifier(**params).fit(X,Y)\n",
    "model2 = XGBClassifier(silent=False, \n",
    "                      scale_pos_weight=1,\n",
    "                      learning_rate=0.05,  \n",
    "                      colsample_bytree = 0.4,\n",
    "                      subsample = 0.8,\n",
    "                      objective='binary:logistic', \n",
    "                      n_estimators=200, \n",
    "                      reg_alpha = 0.3,\n",
    "                      max_depth=4, \n",
    "                      gamma=10)\n",
    "model2.fit(X,Y)\n",
    "y_preds=model2.predict(test_data)\n",
    "print(y_preds)"
   ]
  },
  {
   "cell_type": "code",
   "execution_count": null,
   "metadata": {},
   "outputs": [],
   "source": [
    "#test_login=test_login.tolist()\n",
    "test_login=np.array(test_login)\n",
    "test_login.shape"
   ]
  },
  {
   "cell_type": "code",
   "execution_count": null,
   "metadata": {},
   "outputs": [],
   "source": [
    "df=pd.DataFrame({'login':test_login})\n",
    "df['TARGET']=y_preds\n",
    "print(df)"
   ]
  },
  {
   "cell_type": "code",
   "execution_count": null,
   "metadata": {},
   "outputs": [],
   "source": [
    "export_csv=df.to_csv(r'/home/ubuntu/Desktop/DMA Project/y_test.csv',index=None,header=True)"
   ]
  },
  {
   "cell_type": "code",
   "execution_count": null,
   "metadata": {},
   "outputs": [],
   "source": [
    "from sklearn.model_selection import train_test_split\n",
    "xTrain, xTest, yTrain, yTest = train_test_split(train1, target, test_size = 0.2, random_state = 0)"
   ]
  },
  {
   "cell_type": "code",
   "execution_count": null,
   "metadata": {},
   "outputs": [],
   "source": [
    "from sklearn.linear_model import LogisticRegression\n",
    "lr=LogisticRegression()\n",
    "lr.fit(xTrain,yTrain)\n",
    "y_pred=lr.predict(xTest)"
   ]
  },
  {
   "cell_type": "code",
   "execution_count": null,
   "metadata": {},
   "outputs": [],
   "source": [
    "from sklearn.metrics import accuracy_score , precision_score , recall_score , f1_score\n",
    "accuracy=accuracy_score(yTest,y_pred)\n",
    "print('Accuracy: %f' %accuracy)\n",
    "precision=precision_score(yTest,y_pred)\n",
    "print('Precision: %f' %precision)\n",
    "recall=recall_score(yTest,y_pred)\n",
    "print('Recall :%f' %recall)\n",
    "f1=f1_score(yTest,y_pred)\n",
    "print('F1 Score :%f' %f1)"
   ]
  },
  {
   "cell_type": "code",
   "execution_count": null,
   "metadata": {},
   "outputs": [],
   "source": [
    "from sklearn.linear_model import LogisticRegression\n",
    "lr=LogisticRegression()\n",
    "lr.fit(train,target)\n",
    "y_pred=lr.predict(test_data)"
   ]
  },
  {
   "cell_type": "code",
   "execution_count": null,
   "metadata": {},
   "outputs": [],
   "source": [
    "y_pred"
   ]
  },
  {
   "cell_type": "code",
   "execution_count": null,
   "metadata": {},
   "outputs": [],
   "source": [
    "df=pd.DataFrame({'Identifiant':test_login})\n",
    "df['target']=y_pred\n",
    "df"
   ]
  },
  {
   "cell_type": "code",
   "execution_count": null,
   "metadata": {},
   "outputs": [],
   "source": [
    "export_csv=df.to_csv(r'/home/ubuntu/Desktop/DMA Project/dataset/y_test.csv',index=True,header=True)"
   ]
  },
  {
   "cell_type": "code",
   "execution_count": null,
   "metadata": {},
   "outputs": [],
   "source": [
    "y_test=pd.merge(test_data1,df,how='outer',on='Identifiant')\n",
    "y_test.drop('Index',axis=1,inplace=True)\n",
    "y_test.head()"
   ]
  },
  {
   "cell_type": "code",
   "execution_count": null,
   "metadata": {},
   "outputs": [],
   "source": [
    "export_csv=y_test.to_csv(r'/home/ubuntu/Desktop/DMA Project/dataset/Y_test.csv',index=True,header=True)"
   ]
  },
  {
   "cell_type": "markdown",
   "metadata": {},
   "source": [
    "### References"
   ]
  },
  {
   "cell_type": "markdown",
   "metadata": {},
   "source": [
    "https://www.datacamp.com/community/tutorials/xgboost-in-python"
   ]
  },
  {
   "cell_type": "markdown",
   "metadata": {},
   "source": [
    "https://www.quora.com/What-kind-of-test-should-I-use-to-test-the-correlation-between-categorical-and-numeric-variables"
   ]
  },
  {
   "cell_type": "markdown",
   "metadata": {},
   "source": [
    "https://www.analyticsvidhya.com/blog/2016/03/complete-guide-parameter-tuning-xgboost-with-codes-python/"
   ]
  },
  {
   "cell_type": "markdown",
   "metadata": {},
   "source": [
    "https://heartbeat.fritz.ai/boosting-your-machine-learning-models-using-xgboost-d2cabb3e948f"
   ]
  },
  {
   "cell_type": "markdown",
   "metadata": {},
   "source": [
    "https://hackernoon.com/data-cleaning-3c3e37f358dc"
   ]
  },
  {
   "cell_type": "markdown",
   "metadata": {},
   "source": [
    "https://www.stackabuse.com/applying-wrapper-methods-in-python-for-feature-selection/"
   ]
  },
  {
   "cell_type": "markdown",
   "metadata": {},
   "source": [
    "https://hackernoon.com/what-steps-should-one-take-while-doing-data-preprocessing-502c993e1caa"
   ]
  },
  {
   "cell_type": "markdown",
   "metadata": {},
   "source": [
    "https://hub.packtpub.com/4-ways-implement-feature-selection-python-machine-learning/"
   ]
  },
  {
   "cell_type": "markdown",
   "metadata": {},
   "source": [
    "https://www.datacamp.com/community/tutorials/feature-selection-python"
   ]
  }
 ],
 "metadata": {
  "kernelspec": {
   "display_name": "Python 3",
   "language": "python",
   "name": "python3"
  },
  "language_info": {
   "codemirror_mode": {
    "name": "ipython",
    "version": 3
   },
   "file_extension": ".py",
   "mimetype": "text/x-python",
   "name": "python",
   "nbconvert_exporter": "python",
   "pygments_lexer": "ipython3",
   "version": "3.7.4"
  }
 },
 "nbformat": 4,
 "nbformat_minor": 2
}
