{
 "cells": [
  {
   "cell_type": "code",
   "execution_count": 4,
   "metadata": {
    "scrolled": true
   },
   "outputs": [],
   "source": [
    "import numpy as np\n",
    "import pandas as pd\n",
    "import datetime\n",
    "import matplotlib.pyplot as plt\n",
    "%matplotlib inline\n",
    "import seaborn as sns\n",
    "import warnings\n",
    "warnings.filterwarnings(\"ignore\")\n",
    "from scipy import stats\n",
    "from mlxtend.preprocessing import minmax_scaling"
   ]
  },
  {
   "cell_type": "code",
   "execution_count": 5,
   "metadata": {},
   "outputs": [
    {
     "data": {
      "text/html": [
       "<div>\n",
       "<style scoped>\n",
       "    .dataframe tbody tr th:only-of-type {\n",
       "        vertical-align: middle;\n",
       "    }\n",
       "\n",
       "    .dataframe tbody tr th {\n",
       "        vertical-align: top;\n",
       "    }\n",
       "\n",
       "    .dataframe thead th {\n",
       "        text-align: right;\n",
       "    }\n",
       "</style>\n",
       "<table border=\"1\" class=\"dataframe\">\n",
       "  <thead>\n",
       "    <tr style=\"text-align: right;\">\n",
       "      <th></th>\n",
       "      <th>login</th>\n",
       "      <th>ft_2_categ</th>\n",
       "      <th>EXPO</th>\n",
       "      <th>ft_4_categ</th>\n",
       "      <th>ft_5_categ</th>\n",
       "      <th>ft_6_categ</th>\n",
       "      <th>ft_7_categ</th>\n",
       "      <th>ft_8_categ</th>\n",
       "      <th>ft_9_categ</th>\n",
       "      <th>ft_10_categ</th>\n",
       "      <th>...</th>\n",
       "      <th>ft_16_categ</th>\n",
       "      <th>ft_17_categ</th>\n",
       "      <th>ft_18_categ</th>\n",
       "      <th>ft_19_categ</th>\n",
       "      <th>superficief</th>\n",
       "      <th>ft_21_categ</th>\n",
       "      <th>ft_22_categ</th>\n",
       "      <th>ft_23_categ</th>\n",
       "      <th>ft_24_categ</th>\n",
       "      <th>Insee</th>\n",
       "    </tr>\n",
       "  </thead>\n",
       "  <tbody>\n",
       "    <tr>\n",
       "      <td>0</td>\n",
       "      <td>18702</td>\n",
       "      <td>2014</td>\n",
       "      <td>1.000000</td>\n",
       "      <td>0</td>\n",
       "      <td>V</td>\n",
       "      <td>NOT</td>\n",
       "      <td>1</td>\n",
       "      <td>O</td>\n",
       "      <td>1</td>\n",
       "      <td>O</td>\n",
       "      <td>...</td>\n",
       "      <td>IDENTICAL</td>\n",
       "      <td>V</td>\n",
       "      <td>based</td>\n",
       "      <td>2</td>\n",
       "      <td>1351.0</td>\n",
       "      <td>4</td>\n",
       "      <td>2012.0</td>\n",
       "      <td>0</td>\n",
       "      <td>2</td>\n",
       "      <td>65440</td>\n",
       "    </tr>\n",
       "    <tr>\n",
       "      <td>1</td>\n",
       "      <td>3877</td>\n",
       "      <td>2014</td>\n",
       "      <td>1.000000</td>\n",
       "      <td>0</td>\n",
       "      <td>V</td>\n",
       "      <td>V</td>\n",
       "      <td>V</td>\n",
       "      <td>V</td>\n",
       "      <td>V</td>\n",
       "      <td>V</td>\n",
       "      <td>...</td>\n",
       "      <td>V</td>\n",
       "      <td>NOT</td>\n",
       "      <td>based</td>\n",
       "      <td>2</td>\n",
       "      <td>1972.0</td>\n",
       "      <td>2</td>\n",
       "      <td>1980.0</td>\n",
       "      <td>0</td>\n",
       "      <td>0</td>\n",
       "      <td>14341</td>\n",
       "    </tr>\n",
       "    <tr>\n",
       "      <td>2</td>\n",
       "      <td>4942</td>\n",
       "      <td>2013</td>\n",
       "      <td>1.000000</td>\n",
       "      <td>1</td>\n",
       "      <td>V</td>\n",
       "      <td>V</td>\n",
       "      <td>V</td>\n",
       "      <td>V</td>\n",
       "      <td>V</td>\n",
       "      <td>V</td>\n",
       "      <td>...</td>\n",
       "      <td>V</td>\n",
       "      <td>NOT</td>\n",
       "      <td>based</td>\n",
       "      <td>2</td>\n",
       "      <td>1630.0</td>\n",
       "      <td>4</td>\n",
       "      <td>NaN</td>\n",
       "      <td>0</td>\n",
       "      <td>0</td>\n",
       "      <td>75109</td>\n",
       "    </tr>\n",
       "    <tr>\n",
       "      <td>3</td>\n",
       "      <td>13428</td>\n",
       "      <td>2013</td>\n",
       "      <td>0.246575</td>\n",
       "      <td>0</td>\n",
       "      <td>NOT</td>\n",
       "      <td>V</td>\n",
       "      <td>V</td>\n",
       "      <td>V</td>\n",
       "      <td>V</td>\n",
       "      <td>V</td>\n",
       "      <td>...</td>\n",
       "      <td>V</td>\n",
       "      <td>NOT</td>\n",
       "      <td>based</td>\n",
       "      <td>2</td>\n",
       "      <td>532.0</td>\n",
       "      <td>3</td>\n",
       "      <td>NaN</td>\n",
       "      <td>0</td>\n",
       "      <td>0</td>\n",
       "      <td>92004</td>\n",
       "    </tr>\n",
       "    <tr>\n",
       "      <td>4</td>\n",
       "      <td>17137</td>\n",
       "      <td>2015</td>\n",
       "      <td>1.000000</td>\n",
       "      <td>0</td>\n",
       "      <td>V</td>\n",
       "      <td>NOT</td>\n",
       "      <td>2</td>\n",
       "      <td>O</td>\n",
       "      <td>1</td>\n",
       "      <td>O</td>\n",
       "      <td>...</td>\n",
       "      <td>IDENTICAL</td>\n",
       "      <td>V</td>\n",
       "      <td>based</td>\n",
       "      <td>2</td>\n",
       "      <td>1050.0</td>\n",
       "      <td>2</td>\n",
       "      <td>1972.0</td>\n",
       "      <td>0</td>\n",
       "      <td>4</td>\n",
       "      <td>59340</td>\n",
       "    </tr>\n",
       "  </tbody>\n",
       "</table>\n",
       "<p>5 rows × 25 columns</p>\n",
       "</div>"
      ],
      "text/plain": [
       "   login  ft_2_categ      EXPO  ft_4_categ ft_5_categ ft_6_categ ft_7_categ  \\\n",
       "0  18702        2014  1.000000           0          V        NOT          1   \n",
       "1   3877        2014  1.000000           0          V          V          V   \n",
       "2   4942        2013  1.000000           1          V          V          V   \n",
       "3  13428        2013  0.246575           0        NOT          V          V   \n",
       "4  17137        2015  1.000000           0          V        NOT          2   \n",
       "\n",
       "  ft_8_categ ft_9_categ ft_10_categ  ... ft_16_categ ft_17_categ ft_18_categ  \\\n",
       "0          O          1           O  ...   IDENTICAL           V       based   \n",
       "1          V          V           V  ...           V         NOT       based   \n",
       "2          V          V           V  ...           V         NOT       based   \n",
       "3          V          V           V  ...           V         NOT       based   \n",
       "4          O          1           O  ...   IDENTICAL           V       based   \n",
       "\n",
       "  ft_19_categ superficief ft_21_categ ft_22_categ ft_23_categ  ft_24_categ  \\\n",
       "0           2      1351.0           4      2012.0           0            2   \n",
       "1           2      1972.0           2      1980.0           0            0   \n",
       "2           2      1630.0           4         NaN           0            0   \n",
       "3           2       532.0           3         NaN           0            0   \n",
       "4           2      1050.0           2      1972.0           0            4   \n",
       "\n",
       "   Insee  \n",
       "0  65440  \n",
       "1  14341  \n",
       "2  75109  \n",
       "3  92004  \n",
       "4  59340  \n",
       "\n",
       "[5 rows x 25 columns]"
      ]
     },
     "execution_count": 5,
     "metadata": {},
     "output_type": "execute_result"
    }
   ],
   "source": [
    "# Loading the train datasets\n",
    "train_datax=pd.read_csv('x_train.csv')\n",
    "train_datax.drop('Index',axis=1,inplace=True)\n",
    "train_datax.head()"
   ]
  },
  {
   "cell_type": "code",
   "execution_count": 6,
   "metadata": {},
   "outputs": [
    {
     "data": {
      "text/html": [
       "<div>\n",
       "<style scoped>\n",
       "    .dataframe tbody tr th:only-of-type {\n",
       "        vertical-align: middle;\n",
       "    }\n",
       "\n",
       "    .dataframe tbody tr th {\n",
       "        vertical-align: top;\n",
       "    }\n",
       "\n",
       "    .dataframe thead th {\n",
       "        text-align: right;\n",
       "    }\n",
       "</style>\n",
       "<table border=\"1\" class=\"dataframe\">\n",
       "  <thead>\n",
       "    <tr style=\"text-align: right;\">\n",
       "      <th></th>\n",
       "      <th>login</th>\n",
       "      <th>TARGET</th>\n",
       "    </tr>\n",
       "  </thead>\n",
       "  <tbody>\n",
       "    <tr>\n",
       "      <td>0</td>\n",
       "      <td>18702</td>\n",
       "      <td>0</td>\n",
       "    </tr>\n",
       "    <tr>\n",
       "      <td>1</td>\n",
       "      <td>3877</td>\n",
       "      <td>1</td>\n",
       "    </tr>\n",
       "    <tr>\n",
       "      <td>2</td>\n",
       "      <td>4942</td>\n",
       "      <td>0</td>\n",
       "    </tr>\n",
       "    <tr>\n",
       "      <td>3</td>\n",
       "      <td>13428</td>\n",
       "      <td>0</td>\n",
       "    </tr>\n",
       "    <tr>\n",
       "      <td>4</td>\n",
       "      <td>17137</td>\n",
       "      <td>0</td>\n",
       "    </tr>\n",
       "  </tbody>\n",
       "</table>\n",
       "</div>"
      ],
      "text/plain": [
       "   login  TARGET\n",
       "0  18702       0\n",
       "1   3877       1\n",
       "2   4942       0\n",
       "3  13428       0\n",
       "4  17137       0"
      ]
     },
     "execution_count": 6,
     "metadata": {},
     "output_type": "execute_result"
    }
   ],
   "source": [
    "train_datay=pd.read_csv('y_train.csv')\n",
    "train_datay.drop('Index',axis=1,inplace=True)\n",
    "train_datay.head()"
   ]
  },
  {
   "cell_type": "code",
   "execution_count": 7,
   "metadata": {},
   "outputs": [
    {
     "data": {
      "text/html": [
       "<div>\n",
       "<style scoped>\n",
       "    .dataframe tbody tr th:only-of-type {\n",
       "        vertical-align: middle;\n",
       "    }\n",
       "\n",
       "    .dataframe tbody tr th {\n",
       "        vertical-align: top;\n",
       "    }\n",
       "\n",
       "    .dataframe thead th {\n",
       "        text-align: right;\n",
       "    }\n",
       "</style>\n",
       "<table border=\"1\" class=\"dataframe\">\n",
       "  <thead>\n",
       "    <tr style=\"text-align: right;\">\n",
       "      <th></th>\n",
       "      <th>login</th>\n",
       "      <th>ft_2_categ</th>\n",
       "      <th>EXPO</th>\n",
       "      <th>ft_4_categ</th>\n",
       "      <th>ft_5_categ</th>\n",
       "      <th>ft_6_categ</th>\n",
       "      <th>ft_7_categ</th>\n",
       "      <th>ft_8_categ</th>\n",
       "      <th>ft_9_categ</th>\n",
       "      <th>ft_10_categ</th>\n",
       "      <th>...</th>\n",
       "      <th>ft_17_categ</th>\n",
       "      <th>ft_18_categ</th>\n",
       "      <th>ft_19_categ</th>\n",
       "      <th>superficief</th>\n",
       "      <th>ft_21_categ</th>\n",
       "      <th>ft_22_categ</th>\n",
       "      <th>ft_23_categ</th>\n",
       "      <th>ft_24_categ</th>\n",
       "      <th>Insee</th>\n",
       "      <th>TARGET</th>\n",
       "    </tr>\n",
       "  </thead>\n",
       "  <tbody>\n",
       "    <tr>\n",
       "      <td>0</td>\n",
       "      <td>18702</td>\n",
       "      <td>2014</td>\n",
       "      <td>1.000000</td>\n",
       "      <td>0</td>\n",
       "      <td>V</td>\n",
       "      <td>NOT</td>\n",
       "      <td>1</td>\n",
       "      <td>O</td>\n",
       "      <td>1</td>\n",
       "      <td>O</td>\n",
       "      <td>...</td>\n",
       "      <td>V</td>\n",
       "      <td>based</td>\n",
       "      <td>2</td>\n",
       "      <td>1351.0</td>\n",
       "      <td>4</td>\n",
       "      <td>2012.0</td>\n",
       "      <td>0</td>\n",
       "      <td>2</td>\n",
       "      <td>65440</td>\n",
       "      <td>0</td>\n",
       "    </tr>\n",
       "    <tr>\n",
       "      <td>1</td>\n",
       "      <td>3877</td>\n",
       "      <td>2014</td>\n",
       "      <td>1.000000</td>\n",
       "      <td>0</td>\n",
       "      <td>V</td>\n",
       "      <td>V</td>\n",
       "      <td>V</td>\n",
       "      <td>V</td>\n",
       "      <td>V</td>\n",
       "      <td>V</td>\n",
       "      <td>...</td>\n",
       "      <td>NOT</td>\n",
       "      <td>based</td>\n",
       "      <td>2</td>\n",
       "      <td>1972.0</td>\n",
       "      <td>2</td>\n",
       "      <td>1980.0</td>\n",
       "      <td>0</td>\n",
       "      <td>0</td>\n",
       "      <td>14341</td>\n",
       "      <td>1</td>\n",
       "    </tr>\n",
       "    <tr>\n",
       "      <td>2</td>\n",
       "      <td>4942</td>\n",
       "      <td>2013</td>\n",
       "      <td>1.000000</td>\n",
       "      <td>1</td>\n",
       "      <td>V</td>\n",
       "      <td>V</td>\n",
       "      <td>V</td>\n",
       "      <td>V</td>\n",
       "      <td>V</td>\n",
       "      <td>V</td>\n",
       "      <td>...</td>\n",
       "      <td>NOT</td>\n",
       "      <td>based</td>\n",
       "      <td>2</td>\n",
       "      <td>1630.0</td>\n",
       "      <td>4</td>\n",
       "      <td>NaN</td>\n",
       "      <td>0</td>\n",
       "      <td>0</td>\n",
       "      <td>75109</td>\n",
       "      <td>0</td>\n",
       "    </tr>\n",
       "    <tr>\n",
       "      <td>3</td>\n",
       "      <td>13428</td>\n",
       "      <td>2013</td>\n",
       "      <td>0.246575</td>\n",
       "      <td>0</td>\n",
       "      <td>NOT</td>\n",
       "      <td>V</td>\n",
       "      <td>V</td>\n",
       "      <td>V</td>\n",
       "      <td>V</td>\n",
       "      <td>V</td>\n",
       "      <td>...</td>\n",
       "      <td>NOT</td>\n",
       "      <td>based</td>\n",
       "      <td>2</td>\n",
       "      <td>532.0</td>\n",
       "      <td>3</td>\n",
       "      <td>NaN</td>\n",
       "      <td>0</td>\n",
       "      <td>0</td>\n",
       "      <td>92004</td>\n",
       "      <td>0</td>\n",
       "    </tr>\n",
       "    <tr>\n",
       "      <td>4</td>\n",
       "      <td>17137</td>\n",
       "      <td>2015</td>\n",
       "      <td>1.000000</td>\n",
       "      <td>0</td>\n",
       "      <td>V</td>\n",
       "      <td>NOT</td>\n",
       "      <td>2</td>\n",
       "      <td>O</td>\n",
       "      <td>1</td>\n",
       "      <td>O</td>\n",
       "      <td>...</td>\n",
       "      <td>V</td>\n",
       "      <td>based</td>\n",
       "      <td>2</td>\n",
       "      <td>1050.0</td>\n",
       "      <td>2</td>\n",
       "      <td>1972.0</td>\n",
       "      <td>0</td>\n",
       "      <td>4</td>\n",
       "      <td>59340</td>\n",
       "      <td>0</td>\n",
       "    </tr>\n",
       "  </tbody>\n",
       "</table>\n",
       "<p>5 rows × 26 columns</p>\n",
       "</div>"
      ],
      "text/plain": [
       "   login  ft_2_categ      EXPO  ft_4_categ ft_5_categ ft_6_categ ft_7_categ  \\\n",
       "0  18702        2014  1.000000           0          V        NOT          1   \n",
       "1   3877        2014  1.000000           0          V          V          V   \n",
       "2   4942        2013  1.000000           1          V          V          V   \n",
       "3  13428        2013  0.246575           0        NOT          V          V   \n",
       "4  17137        2015  1.000000           0          V        NOT          2   \n",
       "\n",
       "  ft_8_categ ft_9_categ ft_10_categ  ... ft_17_categ ft_18_categ ft_19_categ  \\\n",
       "0          O          1           O  ...           V       based           2   \n",
       "1          V          V           V  ...         NOT       based           2   \n",
       "2          V          V           V  ...         NOT       based           2   \n",
       "3          V          V           V  ...         NOT       based           2   \n",
       "4          O          1           O  ...           V       based           2   \n",
       "\n",
       "  superficief ft_21_categ ft_22_categ ft_23_categ ft_24_categ  Insee  TARGET  \n",
       "0      1351.0           4      2012.0           0           2  65440       0  \n",
       "1      1972.0           2      1980.0           0           0  14341       1  \n",
       "2      1630.0           4         NaN           0           0  75109       0  \n",
       "3       532.0           3         NaN           0           0  92004       0  \n",
       "4      1050.0           2      1972.0           0           4  59340       0  \n",
       "\n",
       "[5 rows x 26 columns]"
      ]
     },
     "execution_count": 7,
     "metadata": {},
     "output_type": "execute_result"
    }
   ],
   "source": [
    "train_data=pd.merge(train_datax,train_datay,on='login',how='outer')\n",
    "train_data.head() "
   ]
  },
  {
   "cell_type": "code",
   "execution_count": 8,
   "metadata": {},
   "outputs": [
    {
     "data": {
      "text/html": [
       "<div>\n",
       "<style scoped>\n",
       "    .dataframe tbody tr th:only-of-type {\n",
       "        vertical-align: middle;\n",
       "    }\n",
       "\n",
       "    .dataframe tbody tr th {\n",
       "        vertical-align: top;\n",
       "    }\n",
       "\n",
       "    .dataframe thead th {\n",
       "        text-align: right;\n",
       "    }\n",
       "</style>\n",
       "<table border=\"1\" class=\"dataframe\">\n",
       "  <thead>\n",
       "    <tr style=\"text-align: right;\">\n",
       "      <th></th>\n",
       "      <th>login</th>\n",
       "      <th>ft_2_categ</th>\n",
       "      <th>EXPO</th>\n",
       "      <th>ft_4_categ</th>\n",
       "      <th>ft_5_categ</th>\n",
       "      <th>ft_6_categ</th>\n",
       "      <th>ft_7_categ</th>\n",
       "      <th>ft_8_categ</th>\n",
       "      <th>ft_9_categ</th>\n",
       "      <th>ft_10_categ</th>\n",
       "      <th>...</th>\n",
       "      <th>ft_16_categ</th>\n",
       "      <th>ft_17_categ</th>\n",
       "      <th>ft_18_categ</th>\n",
       "      <th>ft_19_categ</th>\n",
       "      <th>superficief</th>\n",
       "      <th>ft_21_categ</th>\n",
       "      <th>ft_22_categ</th>\n",
       "      <th>ft_23_categ</th>\n",
       "      <th>ft_24_categ</th>\n",
       "      <th>Insee</th>\n",
       "    </tr>\n",
       "  </thead>\n",
       "  <tbody>\n",
       "    <tr>\n",
       "      <td>0</td>\n",
       "      <td>16872</td>\n",
       "      <td>2012</td>\n",
       "      <td>1.000000</td>\n",
       "      <td>1</td>\n",
       "      <td>V</td>\n",
       "      <td>NOT</td>\n",
       "      <td>1</td>\n",
       "      <td>O</td>\n",
       "      <td>1</td>\n",
       "      <td>O</td>\n",
       "      <td>...</td>\n",
       "      <td>IDENTICAL</td>\n",
       "      <td>V</td>\n",
       "      <td>effpi</td>\n",
       "      <td>2</td>\n",
       "      <td>2682.0</td>\n",
       "      <td>2</td>\n",
       "      <td>1970.0</td>\n",
       "      <td>0</td>\n",
       "      <td>4</td>\n",
       "      <td>78383</td>\n",
       "    </tr>\n",
       "    <tr>\n",
       "      <td>1</td>\n",
       "      <td>16852</td>\n",
       "      <td>2012</td>\n",
       "      <td>1.000000</td>\n",
       "      <td>1</td>\n",
       "      <td>V</td>\n",
       "      <td>NOT</td>\n",
       "      <td>1</td>\n",
       "      <td>O</td>\n",
       "      <td>1</td>\n",
       "      <td>O</td>\n",
       "      <td>...</td>\n",
       "      <td>IDENTICAL</td>\n",
       "      <td>V</td>\n",
       "      <td>based</td>\n",
       "      <td>2</td>\n",
       "      <td>2925.0</td>\n",
       "      <td>2</td>\n",
       "      <td>1960.0</td>\n",
       "      <td>0</td>\n",
       "      <td>6</td>\n",
       "      <td>78242</td>\n",
       "    </tr>\n",
       "    <tr>\n",
       "      <td>2</td>\n",
       "      <td>598</td>\n",
       "      <td>2014</td>\n",
       "      <td>1.000000</td>\n",
       "      <td>1</td>\n",
       "      <td>V</td>\n",
       "      <td>V</td>\n",
       "      <td>V</td>\n",
       "      <td>V</td>\n",
       "      <td>V</td>\n",
       "      <td>V</td>\n",
       "      <td>...</td>\n",
       "      <td>V</td>\n",
       "      <td>NOT</td>\n",
       "      <td>based</td>\n",
       "      <td>2</td>\n",
       "      <td>525.0</td>\n",
       "      <td>4</td>\n",
       "      <td>1960.0</td>\n",
       "      <td>0</td>\n",
       "      <td>0</td>\n",
       "      <td>75120</td>\n",
       "    </tr>\n",
       "    <tr>\n",
       "      <td>3</td>\n",
       "      <td>4516</td>\n",
       "      <td>2013</td>\n",
       "      <td>0.161644</td>\n",
       "      <td>0</td>\n",
       "      <td>NOT</td>\n",
       "      <td>V</td>\n",
       "      <td>V</td>\n",
       "      <td>V</td>\n",
       "      <td>V</td>\n",
       "      <td>V</td>\n",
       "      <td>...</td>\n",
       "      <td>V</td>\n",
       "      <td>NOT</td>\n",
       "      <td>based</td>\n",
       "      <td>2</td>\n",
       "      <td>443.0</td>\n",
       "      <td>2</td>\n",
       "      <td>1980.0</td>\n",
       "      <td>0</td>\n",
       "      <td>0</td>\n",
       "      <td>11901</td>\n",
       "    </tr>\n",
       "    <tr>\n",
       "      <td>4</td>\n",
       "      <td>7939</td>\n",
       "      <td>2013</td>\n",
       "      <td>1.000000</td>\n",
       "      <td>0</td>\n",
       "      <td>NOT</td>\n",
       "      <td>V</td>\n",
       "      <td>V</td>\n",
       "      <td>V</td>\n",
       "      <td>V</td>\n",
       "      <td>V</td>\n",
       "      <td>...</td>\n",
       "      <td>V</td>\n",
       "      <td>NOT</td>\n",
       "      <td>based</td>\n",
       "      <td>2</td>\n",
       "      <td>1070.0</td>\n",
       "      <td>1</td>\n",
       "      <td>NaN</td>\n",
       "      <td>0</td>\n",
       "      <td>0</td>\n",
       "      <td>42330</td>\n",
       "    </tr>\n",
       "  </tbody>\n",
       "</table>\n",
       "<p>5 rows × 25 columns</p>\n",
       "</div>"
      ],
      "text/plain": [
       "   login  ft_2_categ      EXPO  ft_4_categ ft_5_categ ft_6_categ ft_7_categ  \\\n",
       "0  16872        2012  1.000000           1          V        NOT          1   \n",
       "1  16852        2012  1.000000           1          V        NOT          1   \n",
       "2    598        2014  1.000000           1          V          V          V   \n",
       "3   4516        2013  0.161644           0        NOT          V          V   \n",
       "4   7939        2013  1.000000           0        NOT          V          V   \n",
       "\n",
       "  ft_8_categ ft_9_categ ft_10_categ  ... ft_16_categ ft_17_categ ft_18_categ  \\\n",
       "0          O          1           O  ...   IDENTICAL           V       effpi   \n",
       "1          O          1           O  ...   IDENTICAL           V       based   \n",
       "2          V          V           V  ...           V         NOT       based   \n",
       "3          V          V           V  ...           V         NOT       based   \n",
       "4          V          V           V  ...           V         NOT       based   \n",
       "\n",
       "  ft_19_categ superficief ft_21_categ ft_22_categ ft_23_categ  ft_24_categ  \\\n",
       "0           2      2682.0           2      1970.0           0            4   \n",
       "1           2      2925.0           2      1960.0           0            6   \n",
       "2           2       525.0           4      1960.0           0            0   \n",
       "3           2       443.0           2      1980.0           0            0   \n",
       "4           2      1070.0           1         NaN           0            0   \n",
       "\n",
       "   Insee  \n",
       "0  78383  \n",
       "1  78242  \n",
       "2  75120  \n",
       "3  11901  \n",
       "4  42330  \n",
       "\n",
       "[5 rows x 25 columns]"
      ]
     },
     "execution_count": 8,
     "metadata": {},
     "output_type": "execute_result"
    }
   ],
   "source": [
    "# Loading the test dataset\n",
    "test_data=pd.read_csv('x_test.csv')\n",
    "test_data.drop('Index',axis=1,inplace=True)\n",
    "test_data.head()"
   ]
  },
  {
   "cell_type": "code",
   "execution_count": 9,
   "metadata": {},
   "outputs": [
    {
     "name": "stdout",
     "output_type": "stream",
     "text": [
      "Total size of train data: 10229\n",
      "Total size of test data: 3412\n",
      "Total size of dataset: 13641\n"
     ]
    }
   ],
   "source": [
    "# Size of dataset\n",
    "print(\"Total size of train data:\",train_data.shape[0])\n",
    "print(\"Total size of test data:\",test_data.shape[0])\n",
    "print(\"Total size of dataset:\",train_data.shape[0]+test_data.shape[0])"
   ]
  },
  {
   "cell_type": "code",
   "execution_count": 10,
   "metadata": {},
   "outputs": [
    {
     "data": {
      "text/plain": [
       "login           0.000000\n",
       "ft_2_categ      0.000000\n",
       "EXPO            0.000000\n",
       "ft_4_categ      0.000000\n",
       "ft_5_categ      0.000000\n",
       "ft_6_categ      0.000000\n",
       "ft_7_categ      0.000000\n",
       "ft_8_categ      0.000000\n",
       "ft_9_categ      0.000000\n",
       "ft_10_categ     0.000000\n",
       "ft_11_categ     0.000000\n",
       "ft_12_categ     0.000000\n",
       "ft_13_categ     0.000000\n",
       "ft_14_categ     0.000000\n",
       "ft_15_categ     0.000000\n",
       "ft_16_categ     0.000000\n",
       "ft_17_categ     0.000000\n",
       "ft_18_categ     0.000000\n",
       "ft_19_categ     0.000000\n",
       "superficief     1.163359\n",
       "ft_21_categ     0.000000\n",
       "ft_22_categ    12.083293\n",
       "ft_23_categ     0.000000\n",
       "ft_24_categ     0.000000\n",
       "Insee           1.124255\n",
       "TARGET          0.000000\n",
       "dtype: float64"
      ]
     },
     "execution_count": 10,
     "metadata": {},
     "output_type": "execute_result"
    }
   ],
   "source": [
    "# Percentage of missing data\n",
    "nan_data=(train_data.isnull().sum()/train_data.shape[0])*100\n",
    "nan_data"
   ]
  },
  {
   "cell_type": "code",
   "execution_count": 11,
   "metadata": {},
   "outputs": [
    {
     "data": {
      "text/plain": [
       "superficief     1.163359\n",
       "ft_22_categ    12.083293\n",
       "Insee           1.124255\n",
       "dtype: float64"
      ]
     },
     "execution_count": 11,
     "metadata": {},
     "output_type": "execute_result"
    }
   ],
   "source": [
    "nan_data[nan_data>0]"
   ]
  },
  {
   "cell_type": "code",
   "execution_count": 12,
   "metadata": {},
   "outputs": [
    {
     "data": {
      "text/plain": [
       "superficief     1.230950\n",
       "ft_22_categ    11.781946\n",
       "Insee           1.143025\n",
       "dtype: float64"
      ]
     },
     "execution_count": 12,
     "metadata": {},
     "output_type": "execute_result"
    }
   ],
   "source": [
    "test_nan=(test_data.isnull().sum()/test_data.shape[0])*100\n",
    "test_nan[['superficief','ft_22_categ','Insee']]"
   ]
  },
  {
   "cell_type": "code",
   "execution_count": 13,
   "metadata": {},
   "outputs": [
    {
     "data": {
      "text/plain": [
       "count    10110.000000\n",
       "mean      1818.152918\n",
       "std       2272.111284\n",
       "min          1.000000\n",
       "25%        500.000000\n",
       "50%       1002.000000\n",
       "75%       2190.000000\n",
       "max      30745.000000\n",
       "Name: superficief, dtype: float64"
      ]
     },
     "execution_count": 13,
     "metadata": {},
     "output_type": "execute_result"
    }
   ],
   "source": [
    "## superficief\n",
    "train_data['superficief'].describe()"
   ]
  },
  {
   "cell_type": "code",
   "execution_count": 14,
   "metadata": {},
   "outputs": [
    {
     "data": {
      "text/plain": [
       "<matplotlib.axes._subplots.AxesSubplot at 0x7fccbda93090>"
      ]
     },
     "execution_count": 14,
     "metadata": {},
     "output_type": "execute_result"
    },
    {
     "data": {
      "image/png": "[encoded data removed]",
      "text/plain": [
       "<Figure size 432x288 with 1 Axes>"
      ]
     },
     "metadata": {
      "needs_background": "light"
     },
     "output_type": "display_data"
    }
   ],
   "source": [
    "sns.boxplot(x=train_data['superficief'])"
   ]
  },
  {
   "cell_type": "code",
   "execution_count": 15,
   "metadata": {},
   "outputs": [
    {
     "data": {
      "image/png": "[encoded data removed]",
      "text/plain": [
       "<Figure size 432x288 with 1 Axes>"
      ]
     },
     "metadata": {
      "needs_background": "light"
     },
     "output_type": "display_data"
    }
   ],
   "source": [
    "sns.distplot(train_data.superficief.dropna(),color='blue')\n",
    "plt.xlabel('Area in sq.m')\n",
    "sns.despine()"
   ]
  },
  {
   "cell_type": "code",
   "execution_count": 16,
   "metadata": {},
   "outputs": [
    {
     "data": {
      "image/png": "[encoded data removed]",
      "text/plain": [
       "<Figure size 432x288 with 1 Axes>"
      ]
     },
     "metadata": {},
     "output_type": "display_data"
    }
   ],
   "source": [
    "sns.set_style('whitegrid',{'access.edgecolor':'0'})\n",
    "x=train_data['login']\n",
    "y=train_data['superficief']\n",
    "plt.xlabel('Login')\n",
    "plt.ylabel('Area in sq m')\n",
    "plt.scatter(x,y)\n",
    "sns.despine()"
   ]
  },
  {
   "cell_type": "code",
   "execution_count": 17,
   "metadata": {},
   "outputs": [
    {
     "data": {
      "text/plain": [
       "count    10021.000000\n",
       "mean      1833.829358\n",
       "std       2276.052092\n",
       "min        104.000000\n",
       "25%        518.000000\n",
       "50%       1022.000000\n",
       "75%       2200.000000\n",
       "max      30745.000000\n",
       "Name: superficief, dtype: float64"
      ]
     },
     "execution_count": 17,
     "metadata": {},
     "output_type": "execute_result"
    }
   ],
   "source": [
    "train_data[train_data.superficief>100]['superficief'].describe()"
   ]
  },
  {
   "cell_type": "code",
   "execution_count": 18,
   "metadata": {},
   "outputs": [
    {
     "data": {
      "text/plain": [
       "count    10068.000000\n",
       "mean      1752.146206\n",
       "std       2021.729641\n",
       "min          1.000000\n",
       "25%        500.000000\n",
       "50%       1000.000000\n",
       "75%       2161.500000\n",
       "max      14950.000000\n",
       "Name: superficief, dtype: float64"
      ]
     },
     "execution_count": 18,
     "metadata": {},
     "output_type": "execute_result"
    }
   ],
   "source": [
    "train_data[train_data.superficief<15000]['superficief'].describe()"
   ]
  },
  {
   "cell_type": "code",
   "execution_count": 19,
   "metadata": {},
   "outputs": [
    {
     "data": {
      "text/plain": [
       "count    10005.000000\n",
       "mean      1768.924138\n",
       "std       2040.424244\n",
       "min        100.000000\n",
       "25%        510.000000\n",
       "50%       1010.000000\n",
       "75%       2184.000000\n",
       "max      15000.000000\n",
       "Name: superficief, dtype: float64"
      ]
     },
     "execution_count": 19,
     "metadata": {},
     "output_type": "execute_result"
    }
   ],
   "source": [
    "train_data.loc[train_data.superficief>15000]=np.nan\n",
    "train_data.loc[train_data.superficief<100]=np.nan\n",
    "train_data.superficief.describe()"
   ]
  },
  {
   "cell_type": "code",
   "execution_count": 20,
   "metadata": {},
   "outputs": [
    {
     "data": {
      "text/plain": [
       "count    8910.000000\n",
       "mean     1964.968350\n",
       "std        33.640982\n",
       "min      1545.000000\n",
       "25%      1960.000000\n",
       "50%      1969.000000\n",
       "75%      1980.000000\n",
       "max      2016.000000\n",
       "Name: ft_22_categ, dtype: float64"
      ]
     },
     "execution_count": 20,
     "metadata": {},
     "output_type": "execute_result"
    }
   ],
   "source": [
    "train_data.ft_22_categ.describe()"
   ]
  },
  {
   "cell_type": "code",
   "execution_count": 21,
   "metadata": {},
   "outputs": [
    {
     "data": {
      "text/plain": [
       "<matplotlib.axes._subplots.AxesSubplot at 0x7fccb8566850>"
      ]
     },
     "execution_count": 21,
     "metadata": {},
     "output_type": "execute_result"
    },
    {
     "data": {
      "image/png": "[encoded data removed]",
      "text/plain": [
       "<Figure size 432x288 with 1 Axes>"
      ]
     },
     "metadata": {},
     "output_type": "display_data"
    }
   ],
   "source": [
    "sns.boxplot(x=train_data['ft_22_categ'],color='orange')"
   ]
  },
  {
   "cell_type": "code",
   "execution_count": 22,
   "metadata": {},
   "outputs": [
    {
     "data": {
      "image/png": "[encoded data removed]",
      "text/plain": [
       "<Figure size 432x288 with 1 Axes>"
      ]
     },
     "metadata": {},
     "output_type": "display_data"
    }
   ],
   "source": [
    "sns.distplot(train_data.ft_22_categ.dropna(),color='orange')\n",
    "plt.xlabel('Year in which the house was built')\n",
    "sns.despine()"
   ]
  },
  {
   "cell_type": "code",
   "execution_count": 23,
   "metadata": {
    "scrolled": true
   },
   "outputs": [
    {
     "data": {
      "image/png": "[encoded data removed]",
      "text/plain": [
       "<Figure size 432x288 with 1 Axes>"
      ]
     },
     "metadata": {},
     "output_type": "display_data"
    }
   ],
   "source": [
    "sns.set_style('whitegrid',{'access.edgecolor':'0'})\n",
    "x=train_data['login']\n",
    "y=train_data['ft_22_categ']\n",
    "plt.xlabel('Login')\n",
    "plt.ylabel('Year in which the house is built')\n",
    "plt.scatter(x,y,color='orange')\n",
    "sns.despine()"
   ]
  },
  {
   "cell_type": "code",
   "execution_count": 24,
   "metadata": {
    "scrolled": true
   },
   "outputs": [
    {
     "data": {
      "text/plain": [
       "count    8781.000000\n",
       "mean     1967.354629\n",
       "std        26.096286\n",
       "min      1854.000000\n",
       "25%      1960.000000\n",
       "50%      1970.000000\n",
       "75%      1980.000000\n",
       "max      2016.000000\n",
       "Name: ft_22_categ, dtype: float64"
      ]
     },
     "execution_count": 24,
     "metadata": {},
     "output_type": "execute_result"
    }
   ],
   "source": [
    "train_data[train_data.ft_22_categ>1850]['ft_22_categ'].describe()"
   ]
  },
  {
   "cell_type": "code",
   "execution_count": 25,
   "metadata": {},
   "outputs": [
    {
     "data": {
      "text/plain": [
       "count    8812.000000\n",
       "mean     1964.438153\n",
       "std        33.447434\n",
       "min      1545.000000\n",
       "25%      1960.000000\n",
       "50%      1967.000000\n",
       "75%      1980.000000\n",
       "max      2011.000000\n",
       "Name: ft_22_categ, dtype: float64"
      ]
     },
     "execution_count": 25,
     "metadata": {},
     "output_type": "execute_result"
    }
   ],
   "source": [
    "train_data[train_data.ft_22_categ<2012]['ft_22_categ'].describe()"
   ]
  },
  {
   "cell_type": "code",
   "execution_count": 26,
   "metadata": {},
   "outputs": [
    {
     "data": {
      "text/plain": [
       "count    8808.000000\n",
       "mean     1966.344005\n",
       "std        27.681844\n",
       "min      1850.000000\n",
       "25%      1960.000000\n",
       "50%      1970.000000\n",
       "75%      1980.000000\n",
       "max      2012.000000\n",
       "Name: ft_22_categ, dtype: float64"
      ]
     },
     "execution_count": 26,
     "metadata": {},
     "output_type": "execute_result"
    }
   ],
   "source": [
    "train_data.loc[train_data.ft_22_categ>2012]=np.nan\n",
    "train_data.loc[train_data.ft_22_categ<1850]=np.nan\n",
    "train_data.ft_22_categ.describe()"
   ]
  },
  {
   "cell_type": "code",
   "execution_count": 27,
   "metadata": {},
   "outputs": [
    {
     "data": {
      "text/plain": [
       "count     9915\n",
       "unique    1489\n",
       "top       6088\n",
       "freq       235\n",
       "Name: Insee, dtype: object"
      ]
     },
     "execution_count": 27,
     "metadata": {},
     "output_type": "execute_result"
    }
   ],
   "source": [
    "train_data.Insee.describe()"
   ]
  },
  {
   "cell_type": "code",
   "execution_count": 28,
   "metadata": {},
   "outputs": [
    {
     "data": {
      "text/plain": [
       "<matplotlib.collections.PathCollection at 0x7fccb8399850>"
      ]
     },
     "execution_count": 28,
     "metadata": {},
     "output_type": "execute_result"
    },
    {
     "data": {
      "image/png": "[encoded data removed]",
      "text/plain": [
       "<Figure size 432x288 with 1 Axes>"
      ]
     },
     "metadata": {},
     "output_type": "display_data"
    }
   ],
   "source": [
    "# Data Visualization\n",
    "sns.set_style('whitegrid',{'access.edgecolor':'0'})\n",
    "x=train_data['login']\n",
    "y=train_data['ft_2_categ']\n",
    "plt.xlabel('Login')\n",
    "plt.ylabel('Year in which insurance is claimed')\n",
    "plt.scatter(x,y)"
   ]
  },
  {
   "cell_type": "code",
   "execution_count": 29,
   "metadata": {},
   "outputs": [
    {
     "data": {
      "text/plain": [
       "<matplotlib.collections.PathCollection at 0x7fccb84913d0>"
      ]
     },
     "execution_count": 29,
     "metadata": {},
     "output_type": "execute_result"
    },
    {
     "data": {
      "image/png": "[encoded data removed]",
      "text/plain": [
       "<Figure size 432x288 with 1 Axes>"
      ]
     },
     "metadata": {},
     "output_type": "display_data"
    }
   ],
   "source": [
    "sns.set_style('whitegrid',{'access.edgecolor':'0'})\n",
    "y=train_data['ft_2_categ']\n",
    "x=train_data['ft_22_categ']\n",
    "plt.xlabel('Year in which the house is built')\n",
    "plt.ylabel('Year of Insured')\n",
    "plt.scatter(x,y)\n"
   ]
  },
  {
   "cell_type": "code",
   "execution_count": 30,
   "metadata": {},
   "outputs": [
    {
     "data": {
      "text/plain": [
       "<matplotlib.axes._subplots.AxesSubplot at 0x7fccb8491f50>"
      ]
     },
     "execution_count": 30,
     "metadata": {},
     "output_type": "execute_result"
    },
    {
     "data": {
      "image/png": "[encoded data removed]",
      "text/plain": [
       "<Figure size 432x288 with 1 Axes>"
      ]
     },
     "metadata": {},
     "output_type": "display_data"
    }
   ],
   "source": [
    "sns.boxplot(x=train_data['ft_2_categ'])"
   ]
  },
  {
   "cell_type": "code",
   "execution_count": 31,
   "metadata": {},
   "outputs": [
    {
     "data": {
      "image/png": "[encoded data removed]",
      "text/plain": [
       "<Figure size 432x288 with 1 Axes>"
      ]
     },
     "metadata": {},
     "output_type": "display_data"
    }
   ],
   "source": [
    "sns.distplot(train_data.EXPO.dropna(),color='black')\n",
    "plt.xlabel('Insurance time period')\n",
    "sns.despine()"
   ]
  },
  {
   "cell_type": "code",
   "execution_count": 32,
   "metadata": {},
   "outputs": [
    {
     "data": {
      "image/png": "[encoded data removed]",
      "text/plain": [
       "<Figure size 432x288 with 1 Axes>"
      ]
     },
     "metadata": {},
     "output_type": "display_data"
    }
   ],
   "source": [
    "train_data.ft_5_categ.value_counts(dropna=True).plot(kind='bar',color='green',rot=0)\n",
    "plt.xlabel('Category 5')\n",
    "plt.ylabel('Count')\n",
    "sns.despine()"
   ]
  },
  {
   "cell_type": "code",
   "execution_count": 33,
   "metadata": {},
   "outputs": [
    {
     "data": {
      "image/png": "[encoded data removed]",
      "text/plain": [
       "<Figure size 432x288 with 1 Axes>"
      ]
     },
     "metadata": {},
     "output_type": "display_data"
    }
   ],
   "source": [
    "train_data.ft_4_categ.value_counts(dropna=False).plot(kind='bar',color='pink',rot=0)\n",
    "plt.xlabel('Category 4')\n",
    "plt.ylabel('Count')\n",
    "sns.despine()"
   ]
  },
  {
   "cell_type": "code",
   "execution_count": 34,
   "metadata": {},
   "outputs": [
    {
     "data": {
      "image/png": "[encoded data removed]",
      "text/plain": [
       "<Figure size 432x288 with 1 Axes>"
      ]
     },
     "metadata": {},
     "output_type": "display_data"
    }
   ],
   "source": [
    "train_data.ft_6_categ.value_counts(dropna=False).plot(kind='bar',color='green',rot=0)\n",
    "plt.xlabel('Category 6')\n",
    "plt.ylabel('Count')\n",
    "sns.despine()"
   ]
  },
  {
   "cell_type": "code",
   "execution_count": 35,
   "metadata": {},
   "outputs": [
    {
     "data": {
      "image/png": "[encoded data removed]",
      "text/plain": [
       "<Figure size 432x288 with 1 Axes>"
      ]
     },
     "metadata": {},
     "output_type": "display_data"
    }
   ],
   "source": [
    "train_data.ft_7_categ.value_counts(dropna=False).plot(kind='bar',color='lightblue',rot=0)\n",
    "plt.xlabel('Category 7')\n",
    "plt.ylabel('Count')\n",
    "sns.despine()"
   ]
  },
  {
   "cell_type": "code",
   "execution_count": 36,
   "metadata": {},
   "outputs": [
    {
     "data": {
      "image/png": "[encoded data removed]",
      "text/plain": [
       "<Figure size 432x288 with 1 Axes>"
      ]
     },
     "metadata": {},
     "output_type": "display_data"
    }
   ],
   "source": [
    "train_data.ft_12_categ.value_counts(dropna=False).plot(kind='bar',color='lightgreen',rot=0)\n",
    "plt.xlabel('Category 12')\n",
    "plt.ylabel('Count')\n",
    "sns.despine()\n"
   ]
  },
  {
   "cell_type": "code",
   "execution_count": 37,
   "metadata": {},
   "outputs": [
    {
     "data": {
      "text/html": [
       "<div>\n",
       "<style scoped>\n",
       "    .dataframe tbody tr th:only-of-type {\n",
       "        vertical-align: middle;\n",
       "    }\n",
       "\n",
       "    .dataframe tbody tr th {\n",
       "        vertical-align: top;\n",
       "    }\n",
       "\n",
       "    .dataframe thead th {\n",
       "        text-align: right;\n",
       "    }\n",
       "</style>\n",
       "<table border=\"1\" class=\"dataframe\">\n",
       "  <thead>\n",
       "    <tr style=\"text-align: right;\">\n",
       "      <th></th>\n",
       "      <th>count</th>\n",
       "      <th>mean</th>\n",
       "      <th>std</th>\n",
       "      <th>min</th>\n",
       "      <th>25%</th>\n",
       "      <th>50%</th>\n",
       "      <th>75%</th>\n",
       "      <th>max</th>\n",
       "    </tr>\n",
       "  </thead>\n",
       "  <tbody>\n",
       "    <tr>\n",
       "      <td>login</td>\n",
       "      <td>10022.0</td>\n",
       "      <td>9914.408501</td>\n",
       "      <td>5602.210746</td>\n",
       "      <td>0.0</td>\n",
       "      <td>5150.25</td>\n",
       "      <td>9780.5</td>\n",
       "      <td>14844.75</td>\n",
       "      <td>19995.0</td>\n",
       "    </tr>\n",
       "    <tr>\n",
       "      <td>ft_2_categ</td>\n",
       "      <td>10022.0</td>\n",
       "      <td>2013.637797</td>\n",
       "      <td>1.379971</td>\n",
       "      <td>2012.0</td>\n",
       "      <td>2012.00</td>\n",
       "      <td>2013.0</td>\n",
       "      <td>2015.00</td>\n",
       "      <td>2016.0</td>\n",
       "    </tr>\n",
       "    <tr>\n",
       "      <td>EXPO</td>\n",
       "      <td>10022.0</td>\n",
       "      <td>0.914973</td>\n",
       "      <td>0.231599</td>\n",
       "      <td>0.0</td>\n",
       "      <td>1.00</td>\n",
       "      <td>1.0</td>\n",
       "      <td>1.00</td>\n",
       "      <td>1.0</td>\n",
       "    </tr>\n",
       "    <tr>\n",
       "      <td>ft_4_categ</td>\n",
       "      <td>10022.0</td>\n",
       "      <td>0.281181</td>\n",
       "      <td>0.449598</td>\n",
       "      <td>0.0</td>\n",
       "      <td>0.00</td>\n",
       "      <td>0.0</td>\n",
       "      <td>1.00</td>\n",
       "      <td>1.0</td>\n",
       "    </tr>\n",
       "    <tr>\n",
       "      <td>ft_19_categ</td>\n",
       "      <td>10022.0</td>\n",
       "      <td>1.939932</td>\n",
       "      <td>0.237624</td>\n",
       "      <td>1.0</td>\n",
       "      <td>2.00</td>\n",
       "      <td>2.0</td>\n",
       "      <td>2.00</td>\n",
       "      <td>2.0</td>\n",
       "    </tr>\n",
       "    <tr>\n",
       "      <td>superficief</td>\n",
       "      <td>9911.0</td>\n",
       "      <td>1774.125719</td>\n",
       "      <td>2046.238631</td>\n",
       "      <td>100.0</td>\n",
       "      <td>510.00</td>\n",
       "      <td>1013.0</td>\n",
       "      <td>2188.00</td>\n",
       "      <td>15000.0</td>\n",
       "    </tr>\n",
       "    <tr>\n",
       "      <td>ft_21_categ</td>\n",
       "      <td>10022.0</td>\n",
       "      <td>2.238775</td>\n",
       "      <td>0.961675</td>\n",
       "      <td>1.0</td>\n",
       "      <td>2.00</td>\n",
       "      <td>2.0</td>\n",
       "      <td>3.00</td>\n",
       "      <td>4.0</td>\n",
       "    </tr>\n",
       "    <tr>\n",
       "      <td>ft_22_categ</td>\n",
       "      <td>8808.0</td>\n",
       "      <td>1966.344005</td>\n",
       "      <td>27.681844</td>\n",
       "      <td>1850.0</td>\n",
       "      <td>1960.00</td>\n",
       "      <td>1970.0</td>\n",
       "      <td>1980.00</td>\n",
       "      <td>2012.0</td>\n",
       "    </tr>\n",
       "    <tr>\n",
       "      <td>TARGET</td>\n",
       "      <td>10022.0</td>\n",
       "      <td>0.227500</td>\n",
       "      <td>0.419239</td>\n",
       "      <td>0.0</td>\n",
       "      <td>0.00</td>\n",
       "      <td>0.0</td>\n",
       "      <td>0.00</td>\n",
       "      <td>1.0</td>\n",
       "    </tr>\n",
       "  </tbody>\n",
       "</table>\n",
       "</div>"
      ],
      "text/plain": [
       "               count         mean          std     min      25%     50%  \\\n",
       "login        10022.0  9914.408501  5602.210746     0.0  5150.25  9780.5   \n",
       "ft_2_categ   10022.0  2013.637797     1.379971  2012.0  2012.00  2013.0   \n",
       "EXPO         10022.0     0.914973     0.231599     0.0     1.00     1.0   \n",
       "ft_4_categ   10022.0     0.281181     0.449598     0.0     0.00     0.0   \n",
       "ft_19_categ  10022.0     1.939932     0.237624     1.0     2.00     2.0   \n",
       "superficief   9911.0  1774.125719  2046.238631   100.0   510.00  1013.0   \n",
       "ft_21_categ  10022.0     2.238775     0.961675     1.0     2.00     2.0   \n",
       "ft_22_categ   8808.0  1966.344005    27.681844  1850.0  1960.00  1970.0   \n",
       "TARGET       10022.0     0.227500     0.419239     0.0     0.00     0.0   \n",
       "\n",
       "                  75%      max  \n",
       "login        14844.75  19995.0  \n",
       "ft_2_categ    2015.00   2016.0  \n",
       "EXPO             1.00      1.0  \n",
       "ft_4_categ       1.00      1.0  \n",
       "ft_19_categ      2.00      2.0  \n",
       "superficief   2188.00  15000.0  \n",
       "ft_21_categ      3.00      4.0  \n",
       "ft_22_categ   1980.00   2012.0  \n",
       "TARGET           0.00      1.0  "
      ]
     },
     "execution_count": 37,
     "metadata": {},
     "output_type": "execute_result"
    }
   ],
   "source": [
    "train_data.describe().transpose()"
   ]
  },
  {
   "cell_type": "code",
   "execution_count": 38,
   "metadata": {},
   "outputs": [
    {
     "data": {
      "image/png": "[encoded data removed]",
      "text/plain": [
       "<Figure size 432x288 with 1 Axes>"
      ]
     },
     "metadata": {},
     "output_type": "display_data"
    }
   ],
   "source": [
    "train_data.ft_14_categ.value_counts(dropna=False).plot(kind='bar',color='lightgreen',rot=0)\n",
    "plt.xlabel('Category 14')\n",
    "plt.ylabel('Count')\n",
    "sns.despine()"
   ]
  },
  {
   "cell_type": "code",
   "execution_count": 39,
   "metadata": {},
   "outputs": [
    {
     "data": {
      "image/png": "[encoded data removed]",
      "text/plain": [
       "<Figure size 432x288 with 1 Axes>"
      ]
     },
     "metadata": {},
     "output_type": "display_data"
    }
   ],
   "source": [
    "train_data.ft_13_categ.value_counts(dropna=False).plot(kind='bar',color='green',rot=0)\n",
    "plt.xlabel('Category 13')\n",
    "plt.ylabel('Count')\n",
    "sns.despine()\n"
   ]
  },
  {
   "cell_type": "code",
   "execution_count": 40,
   "metadata": {},
   "outputs": [
    {
     "data": {
      "image/png": "[encoded data removed]",
      "text/plain": [
       "<Figure size 432x288 with 1 Axes>"
      ]
     },
     "metadata": {},
     "output_type": "display_data"
    }
   ],
   "source": [
    "train_data.ft_15_categ.replace('AUTRE','OTHER',inplace=True)\n",
    "train_data.ft_15_categ\n",
    "train_data.ft_15_categ.value_counts(dropna=False).plot(kind='bar',color='lightpink',rot=0)\n",
    "plt.xlabel('Category 15')\n",
    "plt.ylabel('Count')\n",
    "sns.despine()\n",
    "plt.show()"
   ]
  },
  {
   "cell_type": "code",
   "execution_count": 41,
   "metadata": {},
   "outputs": [
    {
     "data": {
      "image/png": "[encoded data removed]",
      "text/plain": [
       "<Figure size 432x288 with 1 Axes>"
      ]
     },
     "metadata": {},
     "output_type": "display_data"
    }
   ],
   "source": [
    "train_data.ft_16_categ.replace('IDENTIQUE','IDENTICAL',inplace=True)\n",
    "train_data.ft_16_categ.value_counts(dropna=False).plot(kind='bar',color='red',rot=0)\n",
    "plt.xlabel('Category 16')\n",
    "plt.ylabel('Count')\n",
    "sns.despine()"
   ]
  },
  {
   "cell_type": "code",
   "execution_count": 42,
   "metadata": {},
   "outputs": [
    {
     "data": {
      "image/png": "[encoded data removed]",
      "text/plain": [
       "<Figure size 432x288 with 1 Axes>"
      ]
     },
     "metadata": {},
     "output_type": "display_data"
    }
   ],
   "source": [
    "train_data.ft_17_categ.replace('IDENTIQUE','IDENTICAL',inplace=True)\n",
    "train_data.ft_17_categ.value_counts(dropna=False).plot(kind='bar',color='yellow',rot=0)\n",
    "plt.xlabel('Category 17')\n",
    "plt.ylabel('Count')\n",
    "sns.despine()"
   ]
  },
  {
   "cell_type": "code",
   "execution_count": 43,
   "metadata": {},
   "outputs": [
    {
     "data": {
      "image/png": "[encoded data removed]",
      "text/plain": [
       "<Figure size 432x288 with 1 Axes>"
      ]
     },
     "metadata": {},
     "output_type": "display_data"
    }
   ],
   "source": [
    "train_data.ft_18_categ.replace('IDENTIQUE','IDENTICAL',inplace=True)\n",
    "train_data.ft_18_categ.value_counts(dropna=False).plot(kind='bar',color='orange',rot=0)\n",
    "plt.xlabel('Category 18')\n",
    "plt.ylabel('Count')\n",
    "sns.despine()"
   ]
  },
  {
   "cell_type": "code",
   "execution_count": 44,
   "metadata": {},
   "outputs": [
    {
     "data": {
      "text/plain": [
       "<matplotlib.axes._subplots.AxesSubplot at 0x7fccb864b5d0>"
      ]
     },
     "execution_count": 44,
     "metadata": {},
     "output_type": "execute_result"
    },
    {
     "data": {
      "image/png": "[encoded data removed]",
      "text/plain": [
       "<Figure size 432x288 with 1 Axes>"
      ]
     },
     "metadata": {},
     "output_type": "display_data"
    }
   ],
   "source": [
    "sns.set_style(\"whitegrid\", {'axes.edgecolor': '0'})\n",
    "sns.set_context(\"poster\", font_scale=1.1)\n",
    "train_data.ft_2_categ.value_counts().plot(kind='line', linewidth=1.2, color='red')\n"
   ]
  },
  {
   "cell_type": "code",
   "execution_count": 45,
   "metadata": {},
   "outputs": [
    {
     "data": {
      "image/png": "[encoded data removed]",
      "text/plain": [
       "<Figure size 1440x1440 with 6 Axes>"
      ]
     },
     "metadata": {},
     "output_type": "display_data"
    }
   ],
   "source": [
    "f,a=plt.subplots(3,2,figsize=(20,20),sharex=True)\n",
    "sns.despine(left=True)\n",
    "sns.countplot(x=\"ft_5_categ\",data=train_data,color=\"b\",ax=a[0,0])\n",
    "sns.countplot(x=\"ft_6_categ\",data=train_data,color=\"r\",ax=a[0,1])\n",
    "sns.countplot(x=\"ft_12_categ\",data=train_data,color=\"g\",ax=a[1,0])\n",
    "sns.countplot(x=\"ft_14_categ\",data=train_data,color=\"y\",ax=a[1,1])\n",
    "sns.countplot(x=\"ft_13_categ\",data=train_data,color=\"m\",ax=a[2,0])\n",
    "sns.countplot(x=\"ft_17_categ\",data=train_data,color=\"b\",ax=a[2,1])\n",
    "plt.setp(a,yticks=[])\n",
    "plt.tight_layout()"
   ]
  },
  {
   "cell_type": "code",
   "execution_count": 46,
   "metadata": {},
   "outputs": [
    {
     "data": {
      "text/html": [
       "<div>\n",
       "<style scoped>\n",
       "    .dataframe tbody tr th:only-of-type {\n",
       "        vertical-align: middle;\n",
       "    }\n",
       "\n",
       "    .dataframe tbody tr th {\n",
       "        vertical-align: top;\n",
       "    }\n",
       "\n",
       "    .dataframe thead th {\n",
       "        text-align: right;\n",
       "    }\n",
       "</style>\n",
       "<table border=\"1\" class=\"dataframe\">\n",
       "  <thead>\n",
       "    <tr style=\"text-align: right;\">\n",
       "      <th></th>\n",
       "      <th>ft_2_categ</th>\n",
       "      <th>EXPO</th>\n",
       "      <th>ft_4_categ</th>\n",
       "      <th>ft_5_categ</th>\n",
       "      <th>ft_6_categ</th>\n",
       "      <th>ft_7_categ</th>\n",
       "      <th>ft_8_categ</th>\n",
       "      <th>ft_9_categ</th>\n",
       "      <th>ft_10_categ</th>\n",
       "      <th>ft_11_categ</th>\n",
       "      <th>...</th>\n",
       "      <th>ft_17_categ</th>\n",
       "      <th>ft_18_categ</th>\n",
       "      <th>ft_19_categ</th>\n",
       "      <th>superficief</th>\n",
       "      <th>ft_21_categ</th>\n",
       "      <th>ft_22_categ</th>\n",
       "      <th>ft_23_categ</th>\n",
       "      <th>ft_24_categ</th>\n",
       "      <th>Insee</th>\n",
       "      <th>TARGET</th>\n",
       "    </tr>\n",
       "  </thead>\n",
       "  <tbody>\n",
       "    <tr>\n",
       "      <td>0</td>\n",
       "      <td>2014.0</td>\n",
       "      <td>1.000000</td>\n",
       "      <td>0.0</td>\n",
       "      <td>V</td>\n",
       "      <td>NOT</td>\n",
       "      <td>1</td>\n",
       "      <td>O</td>\n",
       "      <td>1</td>\n",
       "      <td>O</td>\n",
       "      <td>NOT</td>\n",
       "      <td>...</td>\n",
       "      <td>V</td>\n",
       "      <td>based</td>\n",
       "      <td>2.0</td>\n",
       "      <td>1351.0</td>\n",
       "      <td>4.0</td>\n",
       "      <td>2012.0</td>\n",
       "      <td>0</td>\n",
       "      <td>2</td>\n",
       "      <td>65440</td>\n",
       "      <td>0.0</td>\n",
       "    </tr>\n",
       "    <tr>\n",
       "      <td>1</td>\n",
       "      <td>2014.0</td>\n",
       "      <td>1.000000</td>\n",
       "      <td>0.0</td>\n",
       "      <td>V</td>\n",
       "      <td>V</td>\n",
       "      <td>V</td>\n",
       "      <td>V</td>\n",
       "      <td>V</td>\n",
       "      <td>V</td>\n",
       "      <td>V</td>\n",
       "      <td>...</td>\n",
       "      <td>NOT</td>\n",
       "      <td>based</td>\n",
       "      <td>2.0</td>\n",
       "      <td>1972.0</td>\n",
       "      <td>2.0</td>\n",
       "      <td>1980.0</td>\n",
       "      <td>0</td>\n",
       "      <td>0</td>\n",
       "      <td>14341</td>\n",
       "      <td>1.0</td>\n",
       "    </tr>\n",
       "    <tr>\n",
       "      <td>2</td>\n",
       "      <td>2013.0</td>\n",
       "      <td>1.000000</td>\n",
       "      <td>1.0</td>\n",
       "      <td>V</td>\n",
       "      <td>V</td>\n",
       "      <td>V</td>\n",
       "      <td>V</td>\n",
       "      <td>V</td>\n",
       "      <td>V</td>\n",
       "      <td>V</td>\n",
       "      <td>...</td>\n",
       "      <td>NOT</td>\n",
       "      <td>based</td>\n",
       "      <td>2.0</td>\n",
       "      <td>1630.0</td>\n",
       "      <td>4.0</td>\n",
       "      <td>NaN</td>\n",
       "      <td>0</td>\n",
       "      <td>0</td>\n",
       "      <td>75109</td>\n",
       "      <td>0.0</td>\n",
       "    </tr>\n",
       "    <tr>\n",
       "      <td>3</td>\n",
       "      <td>2013.0</td>\n",
       "      <td>0.246575</td>\n",
       "      <td>0.0</td>\n",
       "      <td>NOT</td>\n",
       "      <td>V</td>\n",
       "      <td>V</td>\n",
       "      <td>V</td>\n",
       "      <td>V</td>\n",
       "      <td>V</td>\n",
       "      <td>V</td>\n",
       "      <td>...</td>\n",
       "      <td>NOT</td>\n",
       "      <td>based</td>\n",
       "      <td>2.0</td>\n",
       "      <td>532.0</td>\n",
       "      <td>3.0</td>\n",
       "      <td>NaN</td>\n",
       "      <td>0</td>\n",
       "      <td>0</td>\n",
       "      <td>92004</td>\n",
       "      <td>0.0</td>\n",
       "    </tr>\n",
       "    <tr>\n",
       "      <td>4</td>\n",
       "      <td>2015.0</td>\n",
       "      <td>1.000000</td>\n",
       "      <td>0.0</td>\n",
       "      <td>V</td>\n",
       "      <td>NOT</td>\n",
       "      <td>2</td>\n",
       "      <td>O</td>\n",
       "      <td>1</td>\n",
       "      <td>O</td>\n",
       "      <td>NOT</td>\n",
       "      <td>...</td>\n",
       "      <td>V</td>\n",
       "      <td>based</td>\n",
       "      <td>2.0</td>\n",
       "      <td>1050.0</td>\n",
       "      <td>2.0</td>\n",
       "      <td>1972.0</td>\n",
       "      <td>0</td>\n",
       "      <td>4</td>\n",
       "      <td>59340</td>\n",
       "      <td>0.0</td>\n",
       "    </tr>\n",
       "  </tbody>\n",
       "</table>\n",
       "<p>5 rows × 25 columns</p>\n",
       "</div>"
      ],
      "text/plain": [
       "   ft_2_categ      EXPO  ft_4_categ ft_5_categ ft_6_categ ft_7_categ  \\\n",
       "0      2014.0  1.000000         0.0          V        NOT          1   \n",
       "1      2014.0  1.000000         0.0          V          V          V   \n",
       "2      2013.0  1.000000         1.0          V          V          V   \n",
       "3      2013.0  0.246575         0.0        NOT          V          V   \n",
       "4      2015.0  1.000000         0.0          V        NOT          2   \n",
       "\n",
       "  ft_8_categ ft_9_categ ft_10_categ ft_11_categ  ... ft_17_categ ft_18_categ  \\\n",
       "0          O          1           O         NOT  ...           V       based   \n",
       "1          V          V           V           V  ...         NOT       based   \n",
       "2          V          V           V           V  ...         NOT       based   \n",
       "3          V          V           V           V  ...         NOT       based   \n",
       "4          O          1           O         NOT  ...           V       based   \n",
       "\n",
       "  ft_19_categ superficief ft_21_categ ft_22_categ ft_23_categ  ft_24_categ  \\\n",
       "0         2.0      1351.0         4.0      2012.0           0            2   \n",
       "1         2.0      1972.0         2.0      1980.0           0            0   \n",
       "2         2.0      1630.0         4.0         NaN           0            0   \n",
       "3         2.0       532.0         3.0         NaN           0            0   \n",
       "4         2.0      1050.0         2.0      1972.0           0            4   \n",
       "\n",
       "   Insee  TARGET  \n",
       "0  65440     0.0  \n",
       "1  14341     1.0  \n",
       "2  75109     0.0  \n",
       "3  92004     0.0  \n",
       "4  59340     0.0  \n",
       "\n",
       "[5 rows x 25 columns]"
      ]
     },
     "execution_count": 46,
     "metadata": {},
     "output_type": "execute_result"
    }
   ],
   "source": [
    "# Removing attribute login as it does not support in the prediction\n",
    "train_data.drop('login',axis=1,inplace=True)\n",
    "test_data.drop('login',axis=1,inplace=True)\n",
    "train_data.head()"
   ]
  },
  {
   "cell_type": "code",
   "execution_count": 47,
   "metadata": {},
   "outputs": [
    {
     "data": {
      "text/html": [
       "<div>\n",
       "<style scoped>\n",
       "    .dataframe tbody tr th:only-of-type {\n",
       "        vertical-align: middle;\n",
       "    }\n",
       "\n",
       "    .dataframe tbody tr th {\n",
       "        vertical-align: top;\n",
       "    }\n",
       "\n",
       "    .dataframe thead th {\n",
       "        text-align: right;\n",
       "    }\n",
       "</style>\n",
       "<table border=\"1\" class=\"dataframe\">\n",
       "  <thead>\n",
       "    <tr style=\"text-align: right;\">\n",
       "      <th></th>\n",
       "      <th>ft_2_categ</th>\n",
       "      <th>EXPO</th>\n",
       "      <th>ft_4_categ</th>\n",
       "      <th>ft_5_categ</th>\n",
       "      <th>ft_6_categ</th>\n",
       "      <th>ft_7_categ</th>\n",
       "      <th>ft_8_categ</th>\n",
       "      <th>ft_9_categ</th>\n",
       "      <th>ft_10_categ</th>\n",
       "      <th>ft_11_categ</th>\n",
       "      <th>...</th>\n",
       "      <th>ft_16_categ</th>\n",
       "      <th>ft_17_categ</th>\n",
       "      <th>ft_18_categ</th>\n",
       "      <th>ft_19_categ</th>\n",
       "      <th>superficief</th>\n",
       "      <th>ft_21_categ</th>\n",
       "      <th>ft_22_categ</th>\n",
       "      <th>ft_23_categ</th>\n",
       "      <th>ft_24_categ</th>\n",
       "      <th>Insee</th>\n",
       "    </tr>\n",
       "  </thead>\n",
       "  <tbody>\n",
       "    <tr>\n",
       "      <td>0</td>\n",
       "      <td>2012</td>\n",
       "      <td>1.000000</td>\n",
       "      <td>1</td>\n",
       "      <td>V</td>\n",
       "      <td>NOT</td>\n",
       "      <td>1</td>\n",
       "      <td>O</td>\n",
       "      <td>1</td>\n",
       "      <td>O</td>\n",
       "      <td>NOT</td>\n",
       "      <td>...</td>\n",
       "      <td>IDENTICAL</td>\n",
       "      <td>V</td>\n",
       "      <td>effpi</td>\n",
       "      <td>2</td>\n",
       "      <td>2682.0</td>\n",
       "      <td>2</td>\n",
       "      <td>1970.0</td>\n",
       "      <td>0</td>\n",
       "      <td>4</td>\n",
       "      <td>78383</td>\n",
       "    </tr>\n",
       "    <tr>\n",
       "      <td>1</td>\n",
       "      <td>2012</td>\n",
       "      <td>1.000000</td>\n",
       "      <td>1</td>\n",
       "      <td>V</td>\n",
       "      <td>NOT</td>\n",
       "      <td>1</td>\n",
       "      <td>O</td>\n",
       "      <td>1</td>\n",
       "      <td>O</td>\n",
       "      <td>NOT</td>\n",
       "      <td>...</td>\n",
       "      <td>IDENTICAL</td>\n",
       "      <td>V</td>\n",
       "      <td>based</td>\n",
       "      <td>2</td>\n",
       "      <td>2925.0</td>\n",
       "      <td>2</td>\n",
       "      <td>1960.0</td>\n",
       "      <td>0</td>\n",
       "      <td>6</td>\n",
       "      <td>78242</td>\n",
       "    </tr>\n",
       "    <tr>\n",
       "      <td>2</td>\n",
       "      <td>2014</td>\n",
       "      <td>1.000000</td>\n",
       "      <td>1</td>\n",
       "      <td>V</td>\n",
       "      <td>V</td>\n",
       "      <td>V</td>\n",
       "      <td>V</td>\n",
       "      <td>V</td>\n",
       "      <td>V</td>\n",
       "      <td>V</td>\n",
       "      <td>...</td>\n",
       "      <td>V</td>\n",
       "      <td>NOT</td>\n",
       "      <td>based</td>\n",
       "      <td>2</td>\n",
       "      <td>525.0</td>\n",
       "      <td>4</td>\n",
       "      <td>1960.0</td>\n",
       "      <td>0</td>\n",
       "      <td>0</td>\n",
       "      <td>75120</td>\n",
       "    </tr>\n",
       "    <tr>\n",
       "      <td>3</td>\n",
       "      <td>2013</td>\n",
       "      <td>0.161644</td>\n",
       "      <td>0</td>\n",
       "      <td>NOT</td>\n",
       "      <td>V</td>\n",
       "      <td>V</td>\n",
       "      <td>V</td>\n",
       "      <td>V</td>\n",
       "      <td>V</td>\n",
       "      <td>V</td>\n",
       "      <td>...</td>\n",
       "      <td>V</td>\n",
       "      <td>NOT</td>\n",
       "      <td>based</td>\n",
       "      <td>2</td>\n",
       "      <td>443.0</td>\n",
       "      <td>2</td>\n",
       "      <td>1980.0</td>\n",
       "      <td>0</td>\n",
       "      <td>0</td>\n",
       "      <td>11901</td>\n",
       "    </tr>\n",
       "    <tr>\n",
       "      <td>4</td>\n",
       "      <td>2013</td>\n",
       "      <td>1.000000</td>\n",
       "      <td>0</td>\n",
       "      <td>NOT</td>\n",
       "      <td>V</td>\n",
       "      <td>V</td>\n",
       "      <td>V</td>\n",
       "      <td>V</td>\n",
       "      <td>V</td>\n",
       "      <td>V</td>\n",
       "      <td>...</td>\n",
       "      <td>V</td>\n",
       "      <td>NOT</td>\n",
       "      <td>based</td>\n",
       "      <td>2</td>\n",
       "      <td>1070.0</td>\n",
       "      <td>1</td>\n",
       "      <td>NaN</td>\n",
       "      <td>0</td>\n",
       "      <td>0</td>\n",
       "      <td>42330</td>\n",
       "    </tr>\n",
       "  </tbody>\n",
       "</table>\n",
       "<p>5 rows × 24 columns</p>\n",
       "</div>"
      ],
      "text/plain": [
       "   ft_2_categ      EXPO  ft_4_categ ft_5_categ ft_6_categ ft_7_categ  \\\n",
       "0        2012  1.000000           1          V        NOT          1   \n",
       "1        2012  1.000000           1          V        NOT          1   \n",
       "2        2014  1.000000           1          V          V          V   \n",
       "3        2013  0.161644           0        NOT          V          V   \n",
       "4        2013  1.000000           0        NOT          V          V   \n",
       "\n",
       "  ft_8_categ ft_9_categ ft_10_categ ft_11_categ  ... ft_16_categ ft_17_categ  \\\n",
       "0          O          1           O         NOT  ...   IDENTICAL           V   \n",
       "1          O          1           O         NOT  ...   IDENTICAL           V   \n",
       "2          V          V           V           V  ...           V         NOT   \n",
       "3          V          V           V           V  ...           V         NOT   \n",
       "4          V          V           V           V  ...           V         NOT   \n",
       "\n",
       "  ft_18_categ ft_19_categ superficief ft_21_categ ft_22_categ  ft_23_categ  \\\n",
       "0       effpi           2      2682.0           2      1970.0            0   \n",
       "1       based           2      2925.0           2      1960.0            0   \n",
       "2       based           2       525.0           4      1960.0            0   \n",
       "3       based           2       443.0           2      1980.0            0   \n",
       "4       based           2      1070.0           1         NaN            0   \n",
       "\n",
       "   ft_24_categ  Insee  \n",
       "0            4  78383  \n",
       "1            6  78242  \n",
       "2            0  75120  \n",
       "3            0  11901  \n",
       "4            0  42330  \n",
       "\n",
       "[5 rows x 24 columns]"
      ]
     },
     "execution_count": 47,
     "metadata": {},
     "output_type": "execute_result"
    }
   ],
   "source": [
    "test_data.head()"
   ]
  },
  {
   "cell_type": "code",
   "execution_count": 48,
   "metadata": {},
   "outputs": [
    {
     "data": {
      "text/plain": [
       "ft_2_categ      207\n",
       "EXPO            207\n",
       "ft_4_categ      207\n",
       "ft_5_categ      207\n",
       "ft_6_categ      207\n",
       "ft_7_categ      207\n",
       "ft_8_categ      207\n",
       "ft_9_categ      207\n",
       "ft_10_categ     207\n",
       "ft_11_categ     207\n",
       "ft_12_categ     207\n",
       "ft_13_categ     207\n",
       "ft_14_categ     207\n",
       "ft_15_categ     207\n",
       "ft_16_categ     207\n",
       "ft_17_categ     207\n",
       "ft_18_categ     207\n",
       "ft_19_categ     207\n",
       "superficief     318\n",
       "ft_21_categ     207\n",
       "ft_22_categ    1421\n",
       "ft_23_categ     207\n",
       "ft_24_categ     207\n",
       "Insee           314\n",
       "TARGET          207\n",
       "dtype: int64"
      ]
     },
     "execution_count": 48,
     "metadata": {},
     "output_type": "execute_result"
    }
   ],
   "source": [
    "nan_data1=train_data.isnull().sum()\n",
    "nan_data1"
   ]
  },
  {
   "cell_type": "code",
   "execution_count": 49,
   "metadata": {},
   "outputs": [],
   "source": [
    "train_data['superficief']=train_data['superficief'].interpolate(method='linear',limit_direction='forward')"
   ]
  },
  {
   "cell_type": "code",
   "execution_count": 50,
   "metadata": {},
   "outputs": [],
   "source": [
    "train_data['Insee']=train_data.Insee.fillna(method='bfill').fillna(0)"
   ]
  },
  {
   "cell_type": "code",
   "execution_count": 51,
   "metadata": {},
   "outputs": [],
   "source": [
    "train_data['ft_22_categ']=train_data['ft_22_categ'].interpolate(method='linear',limit_direction='forward')"
   ]
  },
  {
   "cell_type": "code",
   "execution_count": 52,
   "metadata": {},
   "outputs": [],
   "source": [
    "train_data['ft_23_categ']=train_data.ft_23_categ.replace('V',np.nan)"
   ]
  },
  {
   "cell_type": "code",
   "execution_count": 53,
   "metadata": {},
   "outputs": [],
   "source": [
    "train_data['ft_23_categ']=train_data['ft_23_categ'].astype('float')"
   ]
  },
  {
   "cell_type": "code",
   "execution_count": 54,
   "metadata": {},
   "outputs": [
    {
     "data": {
      "text/plain": [
       "count    9915.000000\n",
       "mean        0.067474\n",
       "std         0.191777\n",
       "min         0.000000\n",
       "25%         0.000000\n",
       "50%         0.000000\n",
       "75%         0.000000\n",
       "max         2.000000\n",
       "Name: ft_23_categ, dtype: float64"
      ]
     },
     "execution_count": 54,
     "metadata": {},
     "output_type": "execute_result"
    }
   ],
   "source": [
    "train_data['ft_23_categ'].describe()"
   ]
  },
  {
   "cell_type": "code",
   "execution_count": 55,
   "metadata": {},
   "outputs": [],
   "source": [
    "train_data['ft_23_categ']=train_data['ft_23_categ'].interpolate(method='linear',limit_direction='forward')"
   ]
  },
  {
   "cell_type": "code",
   "execution_count": 56,
   "metadata": {},
   "outputs": [],
   "source": [
    "train_data['ft_24_categ']=train_data.ft_24_categ.replace('> = 10',10)\n",
    "train_data['ft_24_categ']=train_data.ft_24_categ.replace('>=10',10)\n",
    "train_data['ft_24_categ']=train_data['ft_24_categ'].astype('float')\n",
    "train_data['ft_24_categ']=train_data['ft_24_categ'].interpolate(method='linear',limit_direction='forward')"
   ]
  },
  {
   "cell_type": "code",
   "execution_count": 57,
   "metadata": {},
   "outputs": [],
   "source": [
    "train_data['ft_7_categ']=train_data.ft_7_categ.replace('V',np.nan)\n",
    "train_data['ft_7_categ']=train_data['ft_7_categ'].astype('float')\n",
    "train_data['ft_7_categ']=train_data['ft_7_categ'].interpolate(method='linear',limit_direction='forward')"
   ]
  },
  {
   "cell_type": "code",
   "execution_count": 58,
   "metadata": {},
   "outputs": [],
   "source": [
    "train_data['ft_9_categ']=train_data.ft_9_categ.replace('V',np.nan)\n",
    "train_data['ft_9_categ']=train_data['ft_9_categ'].astype('float')\n",
    "train_data['ft_9_categ']=train_data['ft_9_categ'].interpolate(method='linear',limit_direction='forward')"
   ]
  },
  {
   "cell_type": "code",
   "execution_count": 59,
   "metadata": {},
   "outputs": [],
   "source": [
    "train_data['ft_2_categ']=train_data['ft_2_categ'].interpolate(method='linear',limit_direction='forward')"
   ]
  },
  {
   "cell_type": "code",
   "execution_count": 60,
   "metadata": {},
   "outputs": [],
   "source": [
    "train_data['EXPO']=train_data['EXPO'].interpolate(method='linear',limit_direction='forward')"
   ]
  },
  {
   "cell_type": "code",
   "execution_count": 61,
   "metadata": {},
   "outputs": [],
   "source": [
    "train_data['ft_4_categ']=train_data['ft_4_categ'].interpolate(method='linear',limit_direction='forward')"
   ]
  },
  {
   "cell_type": "code",
   "execution_count": 62,
   "metadata": {},
   "outputs": [],
   "source": [
    "train_data['ft_5_categ']=train_data['ft_5_categ'].interpolate(method='linear',limit_direction='forward')"
   ]
  },
  {
   "cell_type": "code",
   "execution_count": 63,
   "metadata": {},
   "outputs": [],
   "source": [
    "train_data['ft_6_categ']=train_data['ft_6_categ'].interpolate(method='linear',limit_direction='forward')"
   ]
  },
  {
   "cell_type": "code",
   "execution_count": 64,
   "metadata": {},
   "outputs": [],
   "source": [
    "train_data['ft_8_categ']=train_data['ft_8_categ'].interpolate(method='linear',limit_direction='forward')"
   ]
  },
  {
   "cell_type": "code",
   "execution_count": 65,
   "metadata": {},
   "outputs": [],
   "source": [
    "train_data['ft_10_categ']=train_data['ft_10_categ'].interpolate(method='linear',limit_direction='forward')"
   ]
  },
  {
   "cell_type": "code",
   "execution_count": 66,
   "metadata": {},
   "outputs": [],
   "source": [
    "train_data['ft_11_categ']=train_data['ft_11_categ'].interpolate(method='linear',limit_direction='forward')"
   ]
  },
  {
   "cell_type": "code",
   "execution_count": 67,
   "metadata": {},
   "outputs": [],
   "source": [
    "train_data['ft_12_categ']=train_data['ft_12_categ'].interpolate(method='linear',limit_direction='forward')"
   ]
  },
  {
   "cell_type": "code",
   "execution_count": 68,
   "metadata": {},
   "outputs": [],
   "source": [
    "train_data['ft_13_categ']=train_data['ft_13_categ'].interpolate(method='linear',limit_direction='forward')"
   ]
  },
  {
   "cell_type": "code",
   "execution_count": 69,
   "metadata": {},
   "outputs": [],
   "source": [
    "train_data['ft_14_categ']=train_data['ft_14_categ'].interpolate(method='linear',limit_direction='forward')"
   ]
  },
  {
   "cell_type": "code",
   "execution_count": 70,
   "metadata": {},
   "outputs": [],
   "source": [
    "train_data['ft_15_categ']=train_data['ft_15_categ'].interpolate(method='linear',limit_direction='forward')"
   ]
  },
  {
   "cell_type": "code",
   "execution_count": 71,
   "metadata": {},
   "outputs": [],
   "source": [
    "train_data['ft_16_categ']=train_data['ft_16_categ'].interpolate(method='linear',limit_direction='forward')"
   ]
  },
  {
   "cell_type": "code",
   "execution_count": 72,
   "metadata": {},
   "outputs": [],
   "source": [
    "train_data['ft_17_categ']=train_data['ft_17_categ'].interpolate(method='linear',limit_direction='forward')"
   ]
  },
  {
   "cell_type": "code",
   "execution_count": 73,
   "metadata": {},
   "outputs": [],
   "source": [
    "train_data['ft_18_categ']=train_data['ft_18_categ'].interpolate(method='linear',limit_direction='forward')"
   ]
  },
  {
   "cell_type": "code",
   "execution_count": 74,
   "metadata": {},
   "outputs": [],
   "source": [
    "train_data['ft_19_categ']=train_data['ft_19_categ'].interpolate(method='linear',limit_direction='forward')"
   ]
  },
  {
   "cell_type": "code",
   "execution_count": 75,
   "metadata": {},
   "outputs": [],
   "source": [
    "train_data['ft_21_categ']=train_data['ft_21_categ'].interpolate(method='linear',limit_direction='forward')"
   ]
  },
  {
   "cell_type": "code",
   "execution_count": 76,
   "metadata": {},
   "outputs": [],
   "source": [
    "train_data['TARGET']=train_data['TARGET'].interpolate(method='linear',limit_direction='forward')"
   ]
  },
  {
   "cell_type": "code",
   "execution_count": 77,
   "metadata": {},
   "outputs": [
    {
     "data": {
      "text/html": [
       "<div>\n",
       "<style scoped>\n",
       "    .dataframe tbody tr th:only-of-type {\n",
       "        vertical-align: middle;\n",
       "    }\n",
       "\n",
       "    .dataframe tbody tr th {\n",
       "        vertical-align: top;\n",
       "    }\n",
       "\n",
       "    .dataframe thead th {\n",
       "        text-align: right;\n",
       "    }\n",
       "</style>\n",
       "<table border=\"1\" class=\"dataframe\">\n",
       "  <thead>\n",
       "    <tr style=\"text-align: right;\">\n",
       "      <th></th>\n",
       "      <th>count</th>\n",
       "      <th>mean</th>\n",
       "      <th>std</th>\n",
       "      <th>min</th>\n",
       "      <th>25%</th>\n",
       "      <th>50%</th>\n",
       "      <th>75%</th>\n",
       "      <th>max</th>\n",
       "    </tr>\n",
       "  </thead>\n",
       "  <tbody>\n",
       "    <tr>\n",
       "      <td>ft_2_categ</td>\n",
       "      <td>10229.0</td>\n",
       "      <td>2013.636524</td>\n",
       "      <td>1.372438</td>\n",
       "      <td>2012.0</td>\n",
       "      <td>2012.0</td>\n",
       "      <td>2013.0</td>\n",
       "      <td>2015.000000</td>\n",
       "      <td>2016.0</td>\n",
       "    </tr>\n",
       "    <tr>\n",
       "      <td>EXPO</td>\n",
       "      <td>10229.0</td>\n",
       "      <td>0.915155</td>\n",
       "      <td>0.230248</td>\n",
       "      <td>0.0</td>\n",
       "      <td>1.0</td>\n",
       "      <td>1.0</td>\n",
       "      <td>1.000000</td>\n",
       "      <td>1.0</td>\n",
       "    </tr>\n",
       "    <tr>\n",
       "      <td>ft_4_categ</td>\n",
       "      <td>10229.0</td>\n",
       "      <td>0.280428</td>\n",
       "      <td>0.447198</td>\n",
       "      <td>0.0</td>\n",
       "      <td>0.0</td>\n",
       "      <td>0.0</td>\n",
       "      <td>1.000000</td>\n",
       "      <td>1.0</td>\n",
       "    </tr>\n",
       "    <tr>\n",
       "      <td>ft_7_categ</td>\n",
       "      <td>10229.0</td>\n",
       "      <td>1.379069</td>\n",
       "      <td>0.543525</td>\n",
       "      <td>1.0</td>\n",
       "      <td>1.0</td>\n",
       "      <td>1.0</td>\n",
       "      <td>1.714286</td>\n",
       "      <td>3.0</td>\n",
       "    </tr>\n",
       "    <tr>\n",
       "      <td>ft_9_categ</td>\n",
       "      <td>10229.0</td>\n",
       "      <td>1.001369</td>\n",
       "      <td>0.037410</td>\n",
       "      <td>1.0</td>\n",
       "      <td>1.0</td>\n",
       "      <td>1.0</td>\n",
       "      <td>1.000000</td>\n",
       "      <td>3.0</td>\n",
       "    </tr>\n",
       "    <tr>\n",
       "      <td>ft_19_categ</td>\n",
       "      <td>10229.0</td>\n",
       "      <td>1.939828</td>\n",
       "      <td>0.236644</td>\n",
       "      <td>1.0</td>\n",
       "      <td>2.0</td>\n",
       "      <td>2.0</td>\n",
       "      <td>2.000000</td>\n",
       "      <td>2.0</td>\n",
       "    </tr>\n",
       "    <tr>\n",
       "      <td>superficief</td>\n",
       "      <td>10229.0</td>\n",
       "      <td>1775.074983</td>\n",
       "      <td>2034.474213</td>\n",
       "      <td>100.0</td>\n",
       "      <td>520.0</td>\n",
       "      <td>1025.0</td>\n",
       "      <td>2190.000000</td>\n",
       "      <td>15000.0</td>\n",
       "    </tr>\n",
       "    <tr>\n",
       "      <td>ft_21_categ</td>\n",
       "      <td>10229.0</td>\n",
       "      <td>2.238342</td>\n",
       "      <td>0.956217</td>\n",
       "      <td>1.0</td>\n",
       "      <td>2.0</td>\n",
       "      <td>2.0</td>\n",
       "      <td>3.000000</td>\n",
       "      <td>4.0</td>\n",
       "    </tr>\n",
       "    <tr>\n",
       "      <td>ft_22_categ</td>\n",
       "      <td>10229.0</td>\n",
       "      <td>1966.399355</td>\n",
       "      <td>26.809675</td>\n",
       "      <td>1850.0</td>\n",
       "      <td>1960.0</td>\n",
       "      <td>1970.0</td>\n",
       "      <td>1980.000000</td>\n",
       "      <td>2012.0</td>\n",
       "    </tr>\n",
       "    <tr>\n",
       "      <td>ft_23_categ</td>\n",
       "      <td>10229.0</td>\n",
       "      <td>0.067920</td>\n",
       "      <td>0.190618</td>\n",
       "      <td>0.0</td>\n",
       "      <td>0.0</td>\n",
       "      <td>0.0</td>\n",
       "      <td>0.000000</td>\n",
       "      <td>2.0</td>\n",
       "    </tr>\n",
       "    <tr>\n",
       "      <td>ft_24_categ</td>\n",
       "      <td>10229.0</td>\n",
       "      <td>1.858393</td>\n",
       "      <td>2.427788</td>\n",
       "      <td>0.0</td>\n",
       "      <td>0.0</td>\n",
       "      <td>0.0</td>\n",
       "      <td>4.000000</td>\n",
       "      <td>10.0</td>\n",
       "    </tr>\n",
       "    <tr>\n",
       "      <td>TARGET</td>\n",
       "      <td>10229.0</td>\n",
       "      <td>0.227295</td>\n",
       "      <td>0.417176</td>\n",
       "      <td>0.0</td>\n",
       "      <td>0.0</td>\n",
       "      <td>0.0</td>\n",
       "      <td>0.000000</td>\n",
       "      <td>1.0</td>\n",
       "    </tr>\n",
       "  </tbody>\n",
       "</table>\n",
       "</div>"
      ],
      "text/plain": [
       "               count         mean          std     min     25%     50%  \\\n",
       "ft_2_categ   10229.0  2013.636524     1.372438  2012.0  2012.0  2013.0   \n",
       "EXPO         10229.0     0.915155     0.230248     0.0     1.0     1.0   \n",
       "ft_4_categ   10229.0     0.280428     0.447198     0.0     0.0     0.0   \n",
       "ft_7_categ   10229.0     1.379069     0.543525     1.0     1.0     1.0   \n",
       "ft_9_categ   10229.0     1.001369     0.037410     1.0     1.0     1.0   \n",
       "ft_19_categ  10229.0     1.939828     0.236644     1.0     2.0     2.0   \n",
       "superficief  10229.0  1775.074983  2034.474213   100.0   520.0  1025.0   \n",
       "ft_21_categ  10229.0     2.238342     0.956217     1.0     2.0     2.0   \n",
       "ft_22_categ  10229.0  1966.399355    26.809675  1850.0  1960.0  1970.0   \n",
       "ft_23_categ  10229.0     0.067920     0.190618     0.0     0.0     0.0   \n",
       "ft_24_categ  10229.0     1.858393     2.427788     0.0     0.0     0.0   \n",
       "TARGET       10229.0     0.227295     0.417176     0.0     0.0     0.0   \n",
       "\n",
       "                     75%      max  \n",
       "ft_2_categ   2015.000000   2016.0  \n",
       "EXPO            1.000000      1.0  \n",
       "ft_4_categ      1.000000      1.0  \n",
       "ft_7_categ      1.714286      3.0  \n",
       "ft_9_categ      1.000000      3.0  \n",
       "ft_19_categ     2.000000      2.0  \n",
       "superficief  2190.000000  15000.0  \n",
       "ft_21_categ     3.000000      4.0  \n",
       "ft_22_categ  1980.000000   2012.0  \n",
       "ft_23_categ     0.000000      2.0  \n",
       "ft_24_categ     4.000000     10.0  \n",
       "TARGET          0.000000      1.0  "
      ]
     },
     "execution_count": 77,
     "metadata": {},
     "output_type": "execute_result"
    }
   ],
   "source": [
    "train_data.describe().transpose()"
   ]
  },
  {
   "cell_type": "code",
   "execution_count": 78,
   "metadata": {},
   "outputs": [],
   "source": [
    "target=train_data['TARGET']\n",
    "train_data.drop('TARGET',axis=1,inplace=True)"
   ]
  },
  {
   "cell_type": "code",
   "execution_count": 79,
   "metadata": {},
   "outputs": [
    {
     "name": "stdout",
     "output_type": "stream",
     "text": [
      "One Hot Encoding categorical data...\n",
      "One Hot Encoding categorical data...complete\n"
     ]
    }
   ],
   "source": [
    "def convert_to_binary(df, column_to_convert):\n",
    "    categories = list(df[column_to_convert].drop_duplicates())\n",
    "\n",
    "    for category in categories:\n",
    "        cat_name = str(category).replace(\" \", \"_\").replace(\"(\", \"\").replace(\")\", \"\").replace(\"/\", \"_\").replace(\"-\", \"\").lower()\n",
    "        col_name = column_to_convert[:5] + '_' + cat_name[:10]\n",
    "        df[col_name] = 0\n",
    "        df.loc[(df[column_to_convert] == category), col_name] = 1\n",
    "\n",
    "    return df\n",
    "\n",
    "# One Hot Encoding\n",
    "print(\"One Hot Encoding categorical data...\")\n",
    "columns_to_convert = [ 'ft_5_categ','ft_6_categ', 'ft_8_categ', 'ft_10_categ', 'ft_11_categ', 'ft_12_categ', 'ft_13_categ', 'ft_14_categ','ft_15_categ','ft_16_categ','ft_17_categ','ft_18_categ']\n",
    "\n",
    "for column in columns_to_convert:\n",
    "    train_data= convert_to_binary(df=train_data, column_to_convert=column)\n",
    "    train_data.drop(column, axis=1, inplace=True)\n",
    "print(\"One Hot Encoding categorical data...complete\")"
   ]
  },
  {
   "cell_type": "code",
   "execution_count": 80,
   "metadata": {},
   "outputs": [
    {
     "data": {
      "text/html": [
       "<div>\n",
       "<style scoped>\n",
       "    .dataframe tbody tr th:only-of-type {\n",
       "        vertical-align: middle;\n",
       "    }\n",
       "\n",
       "    .dataframe tbody tr th {\n",
       "        vertical-align: top;\n",
       "    }\n",
       "\n",
       "    .dataframe thead th {\n",
       "        text-align: right;\n",
       "    }\n",
       "</style>\n",
       "<table border=\"1\" class=\"dataframe\">\n",
       "  <thead>\n",
       "    <tr style=\"text-align: right;\">\n",
       "      <th></th>\n",
       "      <th>ft_2_categ</th>\n",
       "      <th>EXPO</th>\n",
       "      <th>ft_4_categ</th>\n",
       "      <th>ft_7_categ</th>\n",
       "      <th>ft_9_categ</th>\n",
       "      <th>ft_19_categ</th>\n",
       "      <th>superficief</th>\n",
       "      <th>ft_21_categ</th>\n",
       "      <th>ft_22_categ</th>\n",
       "      <th>ft_23_categ</th>\n",
       "      <th>...</th>\n",
       "      <th>ft_17_o</th>\n",
       "      <th>ft_17_n</th>\n",
       "      <th>ft_18_based</th>\n",
       "      <th>ft_18_effpi</th>\n",
       "      <th>ft_18_v</th>\n",
       "      <th>ft_18_pi</th>\n",
       "      <th>ft_18_eff</th>\n",
       "      <th>ft_18_nan</th>\n",
       "      <th>ft_18_base</th>\n",
       "      <th>TARGET</th>\n",
       "    </tr>\n",
       "  </thead>\n",
       "  <tbody>\n",
       "    <tr>\n",
       "      <td>0</td>\n",
       "      <td>2014.0</td>\n",
       "      <td>1.000000</td>\n",
       "      <td>0.0</td>\n",
       "      <td>1.00</td>\n",
       "      <td>1.0</td>\n",
       "      <td>2.0</td>\n",
       "      <td>1351.0</td>\n",
       "      <td>4.0</td>\n",
       "      <td>2012.000000</td>\n",
       "      <td>0.0</td>\n",
       "      <td>...</td>\n",
       "      <td>0</td>\n",
       "      <td>0</td>\n",
       "      <td>1</td>\n",
       "      <td>0</td>\n",
       "      <td>0</td>\n",
       "      <td>0</td>\n",
       "      <td>0</td>\n",
       "      <td>0</td>\n",
       "      <td>0</td>\n",
       "      <td>0.0</td>\n",
       "    </tr>\n",
       "    <tr>\n",
       "      <td>1</td>\n",
       "      <td>2014.0</td>\n",
       "      <td>1.000000</td>\n",
       "      <td>0.0</td>\n",
       "      <td>1.25</td>\n",
       "      <td>1.0</td>\n",
       "      <td>2.0</td>\n",
       "      <td>1972.0</td>\n",
       "      <td>2.0</td>\n",
       "      <td>1980.000000</td>\n",
       "      <td>0.0</td>\n",
       "      <td>...</td>\n",
       "      <td>0</td>\n",
       "      <td>0</td>\n",
       "      <td>1</td>\n",
       "      <td>0</td>\n",
       "      <td>0</td>\n",
       "      <td>0</td>\n",
       "      <td>0</td>\n",
       "      <td>0</td>\n",
       "      <td>0</td>\n",
       "      <td>1.0</td>\n",
       "    </tr>\n",
       "    <tr>\n",
       "      <td>2</td>\n",
       "      <td>2013.0</td>\n",
       "      <td>1.000000</td>\n",
       "      <td>1.0</td>\n",
       "      <td>1.50</td>\n",
       "      <td>1.0</td>\n",
       "      <td>2.0</td>\n",
       "      <td>1630.0</td>\n",
       "      <td>4.0</td>\n",
       "      <td>1977.333333</td>\n",
       "      <td>0.0</td>\n",
       "      <td>...</td>\n",
       "      <td>0</td>\n",
       "      <td>0</td>\n",
       "      <td>1</td>\n",
       "      <td>0</td>\n",
       "      <td>0</td>\n",
       "      <td>0</td>\n",
       "      <td>0</td>\n",
       "      <td>0</td>\n",
       "      <td>0</td>\n",
       "      <td>0.0</td>\n",
       "    </tr>\n",
       "    <tr>\n",
       "      <td>3</td>\n",
       "      <td>2013.0</td>\n",
       "      <td>0.246575</td>\n",
       "      <td>0.0</td>\n",
       "      <td>1.75</td>\n",
       "      <td>1.0</td>\n",
       "      <td>2.0</td>\n",
       "      <td>532.0</td>\n",
       "      <td>3.0</td>\n",
       "      <td>1974.666667</td>\n",
       "      <td>0.0</td>\n",
       "      <td>...</td>\n",
       "      <td>0</td>\n",
       "      <td>0</td>\n",
       "      <td>1</td>\n",
       "      <td>0</td>\n",
       "      <td>0</td>\n",
       "      <td>0</td>\n",
       "      <td>0</td>\n",
       "      <td>0</td>\n",
       "      <td>0</td>\n",
       "      <td>0.0</td>\n",
       "    </tr>\n",
       "    <tr>\n",
       "      <td>4</td>\n",
       "      <td>2015.0</td>\n",
       "      <td>1.000000</td>\n",
       "      <td>0.0</td>\n",
       "      <td>2.00</td>\n",
       "      <td>1.0</td>\n",
       "      <td>2.0</td>\n",
       "      <td>1050.0</td>\n",
       "      <td>2.0</td>\n",
       "      <td>1972.000000</td>\n",
       "      <td>0.0</td>\n",
       "      <td>...</td>\n",
       "      <td>0</td>\n",
       "      <td>0</td>\n",
       "      <td>1</td>\n",
       "      <td>0</td>\n",
       "      <td>0</td>\n",
       "      <td>0</td>\n",
       "      <td>0</td>\n",
       "      <td>0</td>\n",
       "      <td>0</td>\n",
       "      <td>0.0</td>\n",
       "    </tr>\n",
       "  </tbody>\n",
       "</table>\n",
       "<p>5 rows × 70 columns</p>\n",
       "</div>"
      ],
      "text/plain": [
       "   ft_2_categ      EXPO  ft_4_categ  ft_7_categ  ft_9_categ  ft_19_categ  \\\n",
       "0      2014.0  1.000000         0.0        1.00         1.0          2.0   \n",
       "1      2014.0  1.000000         0.0        1.25         1.0          2.0   \n",
       "2      2013.0  1.000000         1.0        1.50         1.0          2.0   \n",
       "3      2013.0  0.246575         0.0        1.75         1.0          2.0   \n",
       "4      2015.0  1.000000         0.0        2.00         1.0          2.0   \n",
       "\n",
       "   superficief  ft_21_categ  ft_22_categ  ft_23_categ  ...  ft_17_o ft_17_n  \\\n",
       "0       1351.0          4.0  2012.000000          0.0  ...        0       0   \n",
       "1       1972.0          2.0  1980.000000          0.0  ...        0       0   \n",
       "2       1630.0          4.0  1977.333333          0.0  ...        0       0   \n",
       "3        532.0          3.0  1974.666667          0.0  ...        0       0   \n",
       "4       1050.0          2.0  1972.000000          0.0  ...        0       0   \n",
       "\n",
       "   ft_18_based  ft_18_effpi  ft_18_v  ft_18_pi  ft_18_eff  ft_18_nan  \\\n",
       "0            1            0        0         0          0          0   \n",
       "1            1            0        0         0          0          0   \n",
       "2            1            0        0         0          0          0   \n",
       "3            1            0        0         0          0          0   \n",
       "4            1            0        0         0          0          0   \n",
       "\n",
       "   ft_18_base  TARGET  \n",
       "0           0     0.0  \n",
       "1           0     1.0  \n",
       "2           0     0.0  \n",
       "3           0     0.0  \n",
       "4           0     0.0  \n",
       "\n",
       "[5 rows x 70 columns]"
      ]
     },
     "execution_count": 80,
     "metadata": {},
     "output_type": "execute_result"
    }
   ],
   "source": [
    "train_data['TARGET']=target\n",
    "train_data.head()"
   ]
  },
  {
   "cell_type": "code",
   "execution_count": 81,
   "metadata": {},
   "outputs": [
    {
     "data": {
      "text/html": [
       "<div>\n",
       "<style scoped>\n",
       "    .dataframe tbody tr th:only-of-type {\n",
       "        vertical-align: middle;\n",
       "    }\n",
       "\n",
       "    .dataframe tbody tr th {\n",
       "        vertical-align: top;\n",
       "    }\n",
       "\n",
       "    .dataframe thead th {\n",
       "        text-align: right;\n",
       "    }\n",
       "</style>\n",
       "<table border=\"1\" class=\"dataframe\">\n",
       "  <thead>\n",
       "    <tr style=\"text-align: right;\">\n",
       "      <th></th>\n",
       "      <th>count</th>\n",
       "      <th>mean</th>\n",
       "      <th>std</th>\n",
       "      <th>min</th>\n",
       "      <th>25%</th>\n",
       "      <th>50%</th>\n",
       "      <th>75%</th>\n",
       "      <th>max</th>\n",
       "    </tr>\n",
       "  </thead>\n",
       "  <tbody>\n",
       "    <tr>\n",
       "      <td>ft_2_categ</td>\n",
       "      <td>10229.0</td>\n",
       "      <td>2013.636524</td>\n",
       "      <td>1.372438</td>\n",
       "      <td>2012.0</td>\n",
       "      <td>2012.0</td>\n",
       "      <td>2013.0</td>\n",
       "      <td>2015.000000</td>\n",
       "      <td>2016.0</td>\n",
       "    </tr>\n",
       "    <tr>\n",
       "      <td>EXPO</td>\n",
       "      <td>10229.0</td>\n",
       "      <td>0.915155</td>\n",
       "      <td>0.230248</td>\n",
       "      <td>0.0</td>\n",
       "      <td>1.0</td>\n",
       "      <td>1.0</td>\n",
       "      <td>1.000000</td>\n",
       "      <td>1.0</td>\n",
       "    </tr>\n",
       "    <tr>\n",
       "      <td>ft_4_categ</td>\n",
       "      <td>10229.0</td>\n",
       "      <td>0.280428</td>\n",
       "      <td>0.447198</td>\n",
       "      <td>0.0</td>\n",
       "      <td>0.0</td>\n",
       "      <td>0.0</td>\n",
       "      <td>1.000000</td>\n",
       "      <td>1.0</td>\n",
       "    </tr>\n",
       "    <tr>\n",
       "      <td>ft_7_categ</td>\n",
       "      <td>10229.0</td>\n",
       "      <td>1.379069</td>\n",
       "      <td>0.543525</td>\n",
       "      <td>1.0</td>\n",
       "      <td>1.0</td>\n",
       "      <td>1.0</td>\n",
       "      <td>1.714286</td>\n",
       "      <td>3.0</td>\n",
       "    </tr>\n",
       "    <tr>\n",
       "      <td>ft_9_categ</td>\n",
       "      <td>10229.0</td>\n",
       "      <td>1.001369</td>\n",
       "      <td>0.037410</td>\n",
       "      <td>1.0</td>\n",
       "      <td>1.0</td>\n",
       "      <td>1.0</td>\n",
       "      <td>1.000000</td>\n",
       "      <td>3.0</td>\n",
       "    </tr>\n",
       "    <tr>\n",
       "      <td>...</td>\n",
       "      <td>...</td>\n",
       "      <td>...</td>\n",
       "      <td>...</td>\n",
       "      <td>...</td>\n",
       "      <td>...</td>\n",
       "      <td>...</td>\n",
       "      <td>...</td>\n",
       "      <td>...</td>\n",
       "    </tr>\n",
       "    <tr>\n",
       "      <td>ft_18_pi</td>\n",
       "      <td>10229.0</td>\n",
       "      <td>0.096197</td>\n",
       "      <td>0.294876</td>\n",
       "      <td>0.0</td>\n",
       "      <td>0.0</td>\n",
       "      <td>0.0</td>\n",
       "      <td>0.000000</td>\n",
       "      <td>1.0</td>\n",
       "    </tr>\n",
       "    <tr>\n",
       "      <td>ft_18_eff</td>\n",
       "      <td>10229.0</td>\n",
       "      <td>0.010949</td>\n",
       "      <td>0.104069</td>\n",
       "      <td>0.0</td>\n",
       "      <td>0.0</td>\n",
       "      <td>0.0</td>\n",
       "      <td>0.000000</td>\n",
       "      <td>1.0</td>\n",
       "    </tr>\n",
       "    <tr>\n",
       "      <td>ft_18_nan</td>\n",
       "      <td>10229.0</td>\n",
       "      <td>0.000000</td>\n",
       "      <td>0.000000</td>\n",
       "      <td>0.0</td>\n",
       "      <td>0.0</td>\n",
       "      <td>0.0</td>\n",
       "      <td>0.000000</td>\n",
       "      <td>0.0</td>\n",
       "    </tr>\n",
       "    <tr>\n",
       "      <td>ft_18_base</td>\n",
       "      <td>10229.0</td>\n",
       "      <td>0.636621</td>\n",
       "      <td>0.480996</td>\n",
       "      <td>0.0</td>\n",
       "      <td>0.0</td>\n",
       "      <td>1.0</td>\n",
       "      <td>1.000000</td>\n",
       "      <td>1.0</td>\n",
       "    </tr>\n",
       "    <tr>\n",
       "      <td>TARGET</td>\n",
       "      <td>10229.0</td>\n",
       "      <td>0.227295</td>\n",
       "      <td>0.417176</td>\n",
       "      <td>0.0</td>\n",
       "      <td>0.0</td>\n",
       "      <td>0.0</td>\n",
       "      <td>0.000000</td>\n",
       "      <td>1.0</td>\n",
       "    </tr>\n",
       "  </tbody>\n",
       "</table>\n",
       "<p>69 rows × 8 columns</p>\n",
       "</div>"
      ],
      "text/plain": [
       "              count         mean       std     min     25%     50%  \\\n",
       "ft_2_categ  10229.0  2013.636524  1.372438  2012.0  2012.0  2013.0   \n",
       "EXPO        10229.0     0.915155  0.230248     0.0     1.0     1.0   \n",
       "ft_4_categ  10229.0     0.280428  0.447198     0.0     0.0     0.0   \n",
       "ft_7_categ  10229.0     1.379069  0.543525     1.0     1.0     1.0   \n",
       "ft_9_categ  10229.0     1.001369  0.037410     1.0     1.0     1.0   \n",
       "...             ...          ...       ...     ...     ...     ...   \n",
       "ft_18_pi    10229.0     0.096197  0.294876     0.0     0.0     0.0   \n",
       "ft_18_eff   10229.0     0.010949  0.104069     0.0     0.0     0.0   \n",
       "ft_18_nan   10229.0     0.000000  0.000000     0.0     0.0     0.0   \n",
       "ft_18_base  10229.0     0.636621  0.480996     0.0     0.0     1.0   \n",
       "TARGET      10229.0     0.227295  0.417176     0.0     0.0     0.0   \n",
       "\n",
       "                    75%     max  \n",
       "ft_2_categ  2015.000000  2016.0  \n",
       "EXPO           1.000000     1.0  \n",
       "ft_4_categ     1.000000     1.0  \n",
       "ft_7_categ     1.714286     3.0  \n",
       "ft_9_categ     1.000000     3.0  \n",
       "...                 ...     ...  \n",
       "ft_18_pi       0.000000     1.0  \n",
       "ft_18_eff      0.000000     1.0  \n",
       "ft_18_nan      0.000000     0.0  \n",
       "ft_18_base     1.000000     1.0  \n",
       "TARGET         0.000000     1.0  \n",
       "\n",
       "[69 rows x 8 columns]"
      ]
     },
     "execution_count": 81,
     "metadata": {},
     "output_type": "execute_result"
    }
   ],
   "source": [
    "train_data.describe().transpose()"
   ]
  },
  {
   "cell_type": "code",
   "execution_count": 82,
   "metadata": {},
   "outputs": [],
   "source": [
    "train_data.ft_2_categ=minmax_scaling(train_data['ft_2_categ'],columns=0)"
   ]
  },
  {
   "cell_type": "code",
   "execution_count": 83,
   "metadata": {},
   "outputs": [],
   "source": [
    "train_data.EXPO=minmax_scaling(train_data['EXPO'],columns=0)"
   ]
  },
  {
   "cell_type": "code",
   "execution_count": 84,
   "metadata": {},
   "outputs": [],
   "source": [
    "train_data.ft_4_categ=minmax_scaling(train_data['ft_4_categ'],columns=0)"
   ]
  },
  {
   "cell_type": "code",
   "execution_count": 85,
   "metadata": {},
   "outputs": [],
   "source": [
    "train_data.ft_7_categ=minmax_scaling(train_data['ft_7_categ'],columns=0)"
   ]
  },
  {
   "cell_type": "code",
   "execution_count": 86,
   "metadata": {},
   "outputs": [],
   "source": [
    "train_data.ft_9_categ=minmax_scaling(train_data['ft_9_categ'],columns=0)"
   ]
  },
  {
   "cell_type": "code",
   "execution_count": 87,
   "metadata": {},
   "outputs": [],
   "source": [
    "train_data.ft_19_categ=minmax_scaling(train_data['ft_19_categ'],columns=0)"
   ]
  },
  {
   "cell_type": "code",
   "execution_count": 88,
   "metadata": {},
   "outputs": [],
   "source": [
    "train_data.superficief=minmax_scaling(train_data['superficief'],columns=0)"
   ]
  },
  {
   "cell_type": "code",
   "execution_count": 89,
   "metadata": {},
   "outputs": [],
   "source": [
    "train_data.ft_21_categ=minmax_scaling(train_data['ft_21_categ'],columns=0)"
   ]
  },
  {
   "cell_type": "code",
   "execution_count": 90,
   "metadata": {},
   "outputs": [],
   "source": [
    "train_data.ft_22_categ=minmax_scaling(train_data['ft_22_categ'],columns=0)"
   ]
  },
  {
   "cell_type": "code",
   "execution_count": 91,
   "metadata": {},
   "outputs": [],
   "source": [
    "train_data.ft_23_categ=minmax_scaling(train_data['ft_23_categ'],columns=0)"
   ]
  },
  {
   "cell_type": "code",
   "execution_count": 92,
   "metadata": {},
   "outputs": [],
   "source": [
    "train_data.ft_24_categ=minmax_scaling(train_data['ft_24_categ'],columns=0)"
   ]
  },
  {
   "cell_type": "code",
   "execution_count": 93,
   "metadata": {},
   "outputs": [
    {
     "data": {
      "text/html": [
       "<div>\n",
       "<style scoped>\n",
       "    .dataframe tbody tr th:only-of-type {\n",
       "        vertical-align: middle;\n",
       "    }\n",
       "\n",
       "    .dataframe tbody tr th {\n",
       "        vertical-align: top;\n",
       "    }\n",
       "\n",
       "    .dataframe thead th {\n",
       "        text-align: right;\n",
       "    }\n",
       "</style>\n",
       "<table border=\"1\" class=\"dataframe\">\n",
       "  <thead>\n",
       "    <tr style=\"text-align: right;\">\n",
       "      <th></th>\n",
       "      <th>count</th>\n",
       "      <th>mean</th>\n",
       "      <th>std</th>\n",
       "      <th>min</th>\n",
       "      <th>25%</th>\n",
       "      <th>50%</th>\n",
       "      <th>75%</th>\n",
       "      <th>max</th>\n",
       "    </tr>\n",
       "  </thead>\n",
       "  <tbody>\n",
       "    <tr>\n",
       "      <td>ft_2_categ</td>\n",
       "      <td>10229.0</td>\n",
       "      <td>0.409131</td>\n",
       "      <td>0.343109</td>\n",
       "      <td>0.0</td>\n",
       "      <td>0.0</td>\n",
       "      <td>0.25</td>\n",
       "      <td>0.750000</td>\n",
       "      <td>1.0</td>\n",
       "    </tr>\n",
       "    <tr>\n",
       "      <td>EXPO</td>\n",
       "      <td>10229.0</td>\n",
       "      <td>0.915155</td>\n",
       "      <td>0.230248</td>\n",
       "      <td>0.0</td>\n",
       "      <td>1.0</td>\n",
       "      <td>1.00</td>\n",
       "      <td>1.000000</td>\n",
       "      <td>1.0</td>\n",
       "    </tr>\n",
       "    <tr>\n",
       "      <td>ft_4_categ</td>\n",
       "      <td>10229.0</td>\n",
       "      <td>0.280428</td>\n",
       "      <td>0.447198</td>\n",
       "      <td>0.0</td>\n",
       "      <td>0.0</td>\n",
       "      <td>0.00</td>\n",
       "      <td>1.000000</td>\n",
       "      <td>1.0</td>\n",
       "    </tr>\n",
       "    <tr>\n",
       "      <td>ft_7_categ</td>\n",
       "      <td>10229.0</td>\n",
       "      <td>0.189535</td>\n",
       "      <td>0.271763</td>\n",
       "      <td>0.0</td>\n",
       "      <td>0.0</td>\n",
       "      <td>0.00</td>\n",
       "      <td>0.357143</td>\n",
       "      <td>1.0</td>\n",
       "    </tr>\n",
       "    <tr>\n",
       "      <td>ft_9_categ</td>\n",
       "      <td>10229.0</td>\n",
       "      <td>0.000684</td>\n",
       "      <td>0.018705</td>\n",
       "      <td>0.0</td>\n",
       "      <td>0.0</td>\n",
       "      <td>0.00</td>\n",
       "      <td>0.000000</td>\n",
       "      <td>1.0</td>\n",
       "    </tr>\n",
       "    <tr>\n",
       "      <td>...</td>\n",
       "      <td>...</td>\n",
       "      <td>...</td>\n",
       "      <td>...</td>\n",
       "      <td>...</td>\n",
       "      <td>...</td>\n",
       "      <td>...</td>\n",
       "      <td>...</td>\n",
       "      <td>...</td>\n",
       "    </tr>\n",
       "    <tr>\n",
       "      <td>ft_18_pi</td>\n",
       "      <td>10229.0</td>\n",
       "      <td>0.096197</td>\n",
       "      <td>0.294876</td>\n",
       "      <td>0.0</td>\n",
       "      <td>0.0</td>\n",
       "      <td>0.00</td>\n",
       "      <td>0.000000</td>\n",
       "      <td>1.0</td>\n",
       "    </tr>\n",
       "    <tr>\n",
       "      <td>ft_18_eff</td>\n",
       "      <td>10229.0</td>\n",
       "      <td>0.010949</td>\n",
       "      <td>0.104069</td>\n",
       "      <td>0.0</td>\n",
       "      <td>0.0</td>\n",
       "      <td>0.00</td>\n",
       "      <td>0.000000</td>\n",
       "      <td>1.0</td>\n",
       "    </tr>\n",
       "    <tr>\n",
       "      <td>ft_18_nan</td>\n",
       "      <td>10229.0</td>\n",
       "      <td>0.000000</td>\n",
       "      <td>0.000000</td>\n",
       "      <td>0.0</td>\n",
       "      <td>0.0</td>\n",
       "      <td>0.00</td>\n",
       "      <td>0.000000</td>\n",
       "      <td>0.0</td>\n",
       "    </tr>\n",
       "    <tr>\n",
       "      <td>ft_18_base</td>\n",
       "      <td>10229.0</td>\n",
       "      <td>0.636621</td>\n",
       "      <td>0.480996</td>\n",
       "      <td>0.0</td>\n",
       "      <td>0.0</td>\n",
       "      <td>1.00</td>\n",
       "      <td>1.000000</td>\n",
       "      <td>1.0</td>\n",
       "    </tr>\n",
       "    <tr>\n",
       "      <td>TARGET</td>\n",
       "      <td>10229.0</td>\n",
       "      <td>0.227295</td>\n",
       "      <td>0.417176</td>\n",
       "      <td>0.0</td>\n",
       "      <td>0.0</td>\n",
       "      <td>0.00</td>\n",
       "      <td>0.000000</td>\n",
       "      <td>1.0</td>\n",
       "    </tr>\n",
       "  </tbody>\n",
       "</table>\n",
       "<p>69 rows × 8 columns</p>\n",
       "</div>"
      ],
      "text/plain": [
       "              count      mean       std  min  25%   50%       75%  max\n",
       "ft_2_categ  10229.0  0.409131  0.343109  0.0  0.0  0.25  0.750000  1.0\n",
       "EXPO        10229.0  0.915155  0.230248  0.0  1.0  1.00  1.000000  1.0\n",
       "ft_4_categ  10229.0  0.280428  0.447198  0.0  0.0  0.00  1.000000  1.0\n",
       "ft_7_categ  10229.0  0.189535  0.271763  0.0  0.0  0.00  0.357143  1.0\n",
       "ft_9_categ  10229.0  0.000684  0.018705  0.0  0.0  0.00  0.000000  1.0\n",
       "...             ...       ...       ...  ...  ...   ...       ...  ...\n",
       "ft_18_pi    10229.0  0.096197  0.294876  0.0  0.0  0.00  0.000000  1.0\n",
       "ft_18_eff   10229.0  0.010949  0.104069  0.0  0.0  0.00  0.000000  1.0\n",
       "ft_18_nan   10229.0  0.000000  0.000000  0.0  0.0  0.00  0.000000  0.0\n",
       "ft_18_base  10229.0  0.636621  0.480996  0.0  0.0  1.00  1.000000  1.0\n",
       "TARGET      10229.0  0.227295  0.417176  0.0  0.0  0.00  0.000000  1.0\n",
       "\n",
       "[69 rows x 8 columns]"
      ]
     },
     "execution_count": 93,
     "metadata": {},
     "output_type": "execute_result"
    }
   ],
   "source": [
    "train_data.describe().transpose()"
   ]
  },
  {
   "cell_type": "code",
   "execution_count": 94,
   "metadata": {},
   "outputs": [],
   "source": [
    "train_data.drop('Insee',axis=1,inplace=True)"
   ]
  },
  {
   "cell_type": "code",
   "execution_count": 95,
   "metadata": {},
   "outputs": [],
   "source": [
    "train_data.drop(['ft_5__nan','ft_6__nan','ft_8__nan','ft_10_nan','ft_11_nan','ft_12_nan','ft_13_nan','ft_14_nan','ft_15_nan','ft_16_nan','ft_17_nan','ft_18_nan'],axis=1,inplace=True)"
   ]
  },
  {
   "cell_type": "code",
   "execution_count": 96,
   "metadata": {},
   "outputs": [
    {
     "data": {
      "text/plain": [
       "57"
      ]
     },
     "execution_count": 96,
     "metadata": {},
     "output_type": "execute_result"
    }
   ],
   "source": [
    "train_data.shape[1]"
   ]
  },
  {
   "cell_type": "code",
   "execution_count": 97,
   "metadata": {},
   "outputs": [
    {
     "data": {
      "text/plain": [
       "Index(['ft_2_categ', 'EXPO', 'ft_4_categ', 'ft_7_categ', 'ft_9_categ',\n",
       "       'ft_19_categ', 'superficief', 'ft_21_categ', 'ft_22_categ',\n",
       "       'ft_23_categ', 'ft_24_categ', 'ft_5__v', 'ft_5__not', 'ft_5__o',\n",
       "       'ft_5__n', 'ft_6__not', 'ft_6__v', 'ft_6__n', 'ft_6__o', 'ft_8__o',\n",
       "       'ft_8__v', 'ft_8__n', 'ft_10_o', 'ft_10_v', 'ft_10_not', 'ft_10_n',\n",
       "       'ft_11_not', 'ft_11_v', 'ft_11_o', 'ft_11_n', 'ft_12_not', 'ft_12_v',\n",
       "       'ft_12_o', 'ft_12_n', 'ft_13_not', 'ft_13_v', 'ft_13_o', 'ft_13_n',\n",
       "       'ft_14_not', 'ft_14_v', 'ft_14_o', 'ft_14_n', 'ft_15_other', 'ft_15_v',\n",
       "       'ft_16_identical', 'ft_16_v', 'ft_17_v', 'ft_17_not', 'ft_17_o',\n",
       "       'ft_17_n', 'ft_18_based', 'ft_18_effpi', 'ft_18_v', 'ft_18_pi',\n",
       "       'ft_18_eff', 'ft_18_base', 'TARGET'],\n",
       "      dtype='object')"
      ]
     },
     "execution_count": 97,
     "metadata": {},
     "output_type": "execute_result"
    }
   ],
   "source": [
    "train_data.columns"
   ]
  },
  {
   "cell_type": "code",
   "execution_count": 98,
   "metadata": {},
   "outputs": [
    {
     "data": {
      "text/html": [
       "<div>\n",
       "<style scoped>\n",
       "    .dataframe tbody tr th:only-of-type {\n",
       "        vertical-align: middle;\n",
       "    }\n",
       "\n",
       "    .dataframe tbody tr th {\n",
       "        vertical-align: top;\n",
       "    }\n",
       "\n",
       "    .dataframe thead th {\n",
       "        text-align: right;\n",
       "    }\n",
       "</style>\n",
       "<table border=\"1\" class=\"dataframe\">\n",
       "  <thead>\n",
       "    <tr style=\"text-align: right;\">\n",
       "      <th></th>\n",
       "      <th>ft_2_categ</th>\n",
       "      <th>EXPO</th>\n",
       "      <th>ft_4_categ</th>\n",
       "      <th>ft_5_categ</th>\n",
       "      <th>ft_6_categ</th>\n",
       "      <th>ft_7_categ</th>\n",
       "      <th>ft_8_categ</th>\n",
       "      <th>ft_9_categ</th>\n",
       "      <th>ft_10_categ</th>\n",
       "      <th>ft_11_categ</th>\n",
       "      <th>...</th>\n",
       "      <th>ft_16_categ</th>\n",
       "      <th>ft_17_categ</th>\n",
       "      <th>ft_18_categ</th>\n",
       "      <th>ft_19_categ</th>\n",
       "      <th>superficief</th>\n",
       "      <th>ft_21_categ</th>\n",
       "      <th>ft_22_categ</th>\n",
       "      <th>ft_23_categ</th>\n",
       "      <th>ft_24_categ</th>\n",
       "      <th>Insee</th>\n",
       "    </tr>\n",
       "  </thead>\n",
       "  <tbody>\n",
       "    <tr>\n",
       "      <td>0</td>\n",
       "      <td>2012</td>\n",
       "      <td>1.000000</td>\n",
       "      <td>1</td>\n",
       "      <td>V</td>\n",
       "      <td>NOT</td>\n",
       "      <td>1</td>\n",
       "      <td>O</td>\n",
       "      <td>1</td>\n",
       "      <td>O</td>\n",
       "      <td>NOT</td>\n",
       "      <td>...</td>\n",
       "      <td>IDENTICAL</td>\n",
       "      <td>V</td>\n",
       "      <td>effpi</td>\n",
       "      <td>2</td>\n",
       "      <td>2682.0</td>\n",
       "      <td>2</td>\n",
       "      <td>1970.0</td>\n",
       "      <td>0</td>\n",
       "      <td>4</td>\n",
       "      <td>78383</td>\n",
       "    </tr>\n",
       "    <tr>\n",
       "      <td>1</td>\n",
       "      <td>2012</td>\n",
       "      <td>1.000000</td>\n",
       "      <td>1</td>\n",
       "      <td>V</td>\n",
       "      <td>NOT</td>\n",
       "      <td>1</td>\n",
       "      <td>O</td>\n",
       "      <td>1</td>\n",
       "      <td>O</td>\n",
       "      <td>NOT</td>\n",
       "      <td>...</td>\n",
       "      <td>IDENTICAL</td>\n",
       "      <td>V</td>\n",
       "      <td>based</td>\n",
       "      <td>2</td>\n",
       "      <td>2925.0</td>\n",
       "      <td>2</td>\n",
       "      <td>1960.0</td>\n",
       "      <td>0</td>\n",
       "      <td>6</td>\n",
       "      <td>78242</td>\n",
       "    </tr>\n",
       "    <tr>\n",
       "      <td>2</td>\n",
       "      <td>2014</td>\n",
       "      <td>1.000000</td>\n",
       "      <td>1</td>\n",
       "      <td>V</td>\n",
       "      <td>V</td>\n",
       "      <td>V</td>\n",
       "      <td>V</td>\n",
       "      <td>V</td>\n",
       "      <td>V</td>\n",
       "      <td>V</td>\n",
       "      <td>...</td>\n",
       "      <td>V</td>\n",
       "      <td>NOT</td>\n",
       "      <td>based</td>\n",
       "      <td>2</td>\n",
       "      <td>525.0</td>\n",
       "      <td>4</td>\n",
       "      <td>1960.0</td>\n",
       "      <td>0</td>\n",
       "      <td>0</td>\n",
       "      <td>75120</td>\n",
       "    </tr>\n",
       "    <tr>\n",
       "      <td>3</td>\n",
       "      <td>2013</td>\n",
       "      <td>0.161644</td>\n",
       "      <td>0</td>\n",
       "      <td>NOT</td>\n",
       "      <td>V</td>\n",
       "      <td>V</td>\n",
       "      <td>V</td>\n",
       "      <td>V</td>\n",
       "      <td>V</td>\n",
       "      <td>V</td>\n",
       "      <td>...</td>\n",
       "      <td>V</td>\n",
       "      <td>NOT</td>\n",
       "      <td>based</td>\n",
       "      <td>2</td>\n",
       "      <td>443.0</td>\n",
       "      <td>2</td>\n",
       "      <td>1980.0</td>\n",
       "      <td>0</td>\n",
       "      <td>0</td>\n",
       "      <td>11901</td>\n",
       "    </tr>\n",
       "    <tr>\n",
       "      <td>4</td>\n",
       "      <td>2013</td>\n",
       "      <td>1.000000</td>\n",
       "      <td>0</td>\n",
       "      <td>NOT</td>\n",
       "      <td>V</td>\n",
       "      <td>V</td>\n",
       "      <td>V</td>\n",
       "      <td>V</td>\n",
       "      <td>V</td>\n",
       "      <td>V</td>\n",
       "      <td>...</td>\n",
       "      <td>V</td>\n",
       "      <td>NOT</td>\n",
       "      <td>based</td>\n",
       "      <td>2</td>\n",
       "      <td>1070.0</td>\n",
       "      <td>1</td>\n",
       "      <td>NaN</td>\n",
       "      <td>0</td>\n",
       "      <td>0</td>\n",
       "      <td>42330</td>\n",
       "    </tr>\n",
       "  </tbody>\n",
       "</table>\n",
       "<p>5 rows × 24 columns</p>\n",
       "</div>"
      ],
      "text/plain": [
       "   ft_2_categ      EXPO  ft_4_categ ft_5_categ ft_6_categ ft_7_categ  \\\n",
       "0        2012  1.000000           1          V        NOT          1   \n",
       "1        2012  1.000000           1          V        NOT          1   \n",
       "2        2014  1.000000           1          V          V          V   \n",
       "3        2013  0.161644           0        NOT          V          V   \n",
       "4        2013  1.000000           0        NOT          V          V   \n",
       "\n",
       "  ft_8_categ ft_9_categ ft_10_categ ft_11_categ  ... ft_16_categ ft_17_categ  \\\n",
       "0          O          1           O         NOT  ...   IDENTICAL           V   \n",
       "1          O          1           O         NOT  ...   IDENTICAL           V   \n",
       "2          V          V           V           V  ...           V         NOT   \n",
       "3          V          V           V           V  ...           V         NOT   \n",
       "4          V          V           V           V  ...           V         NOT   \n",
       "\n",
       "  ft_18_categ ft_19_categ superficief ft_21_categ ft_22_categ  ft_23_categ  \\\n",
       "0       effpi           2      2682.0           2      1970.0            0   \n",
       "1       based           2      2925.0           2      1960.0            0   \n",
       "2       based           2       525.0           4      1960.0            0   \n",
       "3       based           2       443.0           2      1980.0            0   \n",
       "4       based           2      1070.0           1         NaN            0   \n",
       "\n",
       "   ft_24_categ  Insee  \n",
       "0            4  78383  \n",
       "1            6  78242  \n",
       "2            0  75120  \n",
       "3            0  11901  \n",
       "4            0  42330  \n",
       "\n",
       "[5 rows x 24 columns]"
      ]
     },
     "execution_count": 98,
     "metadata": {},
     "output_type": "execute_result"
    }
   ],
   "source": [
    "test_data.head()"
   ]
  },
  {
   "cell_type": "code",
   "execution_count": 99,
   "metadata": {},
   "outputs": [
    {
     "name": "stdout",
     "output_type": "stream",
     "text": [
      "One Hot Encoding categorical data...\n",
      "One Hot Encoding categorical data...complete\n"
     ]
    }
   ],
   "source": [
    "def convert_to_binary(df, column_to_convert):\n",
    "    categories = list(df[column_to_convert].drop_duplicates())\n",
    "\n",
    "    for category in categories:\n",
    "        cat_name = str(category).replace(\" \", \"_\").replace(\"(\", \"\").replace(\")\", \"\").replace(\"/\", \"_\").replace(\"-\", \"\").lower()\n",
    "        col_name = column_to_convert[:5] + '_' + cat_name[:10]\n",
    "        df[col_name] = 0\n",
    "        df.loc[(df[column_to_convert] == category), col_name] = 1\n",
    "\n",
    "    return df\n",
    "\n",
    "# One Hot Encoding\n",
    "print(\"One Hot Encoding categorical data...\")\n",
    "columns_to_convert = [ 'ft_5_categ','ft_6_categ', 'ft_8_categ', 'ft_10_categ', 'ft_11_categ', 'ft_12_categ', 'ft_13_categ', 'ft_14_categ','ft_15_categ','ft_16_categ','ft_17_categ','ft_18_categ']\n",
    "\n",
    "for column in columns_to_convert:\n",
    "    test_data = convert_to_binary(df=test_data, column_to_convert=column)\n",
    "    test_data.drop(column, axis=1, inplace=True)\n",
    "print(\"One Hot Encoding categorical data...complete\")"
   ]
  },
  {
   "cell_type": "code",
   "execution_count": 100,
   "metadata": {},
   "outputs": [
    {
     "data": {
      "text/plain": [
       "ft_2_categ           0\n",
       "EXPO                 0\n",
       "ft_4_categ           0\n",
       "ft_7_categ           0\n",
       "ft_9_categ           0\n",
       "ft_19_categ          0\n",
       "superficief         42\n",
       "ft_21_categ          0\n",
       "ft_22_categ        402\n",
       "ft_23_categ          0\n",
       "ft_24_categ          0\n",
       "Insee               39\n",
       "ft_5__v              0\n",
       "ft_5__not            0\n",
       "ft_5__o              0\n",
       "ft_6__not            0\n",
       "ft_6__v              0\n",
       "ft_6__o              0\n",
       "ft_8__o              0\n",
       "ft_8__v              0\n",
       "ft_8__not            0\n",
       "ft_10_o              0\n",
       "ft_10_v              0\n",
       "ft_10_not            0\n",
       "ft_11_not            0\n",
       "ft_11_v              0\n",
       "ft_11_o              0\n",
       "ft_12_not            0\n",
       "ft_12_v              0\n",
       "ft_12_o              0\n",
       "ft_13_o              0\n",
       "ft_13_v              0\n",
       "ft_13_not            0\n",
       "ft_14_not            0\n",
       "ft_14_v              0\n",
       "ft_14_o              0\n",
       "ft_15_other          0\n",
       "ft_15_v              0\n",
       "ft_16_identical      0\n",
       "ft_16_v              0\n",
       "ft_17_v              0\n",
       "ft_17_not            0\n",
       "ft_17_o              0\n",
       "ft_18_effpi          0\n",
       "ft_18_based          0\n",
       "ft_18_eff            0\n",
       "ft_18_pi             0\n",
       "ft_18_v              0\n",
       "dtype: int64"
      ]
     },
     "execution_count": 100,
     "metadata": {},
     "output_type": "execute_result"
    }
   ],
   "source": [
    "nan_data2=test_data.isnull().sum()\n",
    "nan_data2"
   ]
  },
  {
   "cell_type": "code",
   "execution_count": 101,
   "metadata": {},
   "outputs": [],
   "source": [
    "test_data['superficief']=test_data['superficief'].interpolate(method='linear',limit_direction='forward')"
   ]
  },
  {
   "cell_type": "code",
   "execution_count": 102,
   "metadata": {},
   "outputs": [],
   "source": [
    "test_data['ft_22_categ']=test_data['ft_22_categ'].interpolate(method='linear',limit_direction='forward')"
   ]
  },
  {
   "cell_type": "code",
   "execution_count": 103,
   "metadata": {},
   "outputs": [
    {
     "data": {
      "text/plain": [
       "count    3373.000000\n",
       "mean        0.068574\n",
       "std         0.185897\n",
       "min         0.000000\n",
       "25%         0.000000\n",
       "50%         0.000000\n",
       "75%         0.000000\n",
       "max         2.000000\n",
       "Name: ft_23_categ, dtype: float64"
      ]
     },
     "execution_count": 103,
     "metadata": {},
     "output_type": "execute_result"
    }
   ],
   "source": [
    "test_data['ft_23_categ']=test_data.ft_23_categ.replace('V',np.nan)\n",
    "test_data['ft_23_categ']=test_data['ft_23_categ'].astype('float')\n",
    "test_data['ft_23_categ'].describe()"
   ]
  },
  {
   "cell_type": "code",
   "execution_count": 104,
   "metadata": {},
   "outputs": [],
   "source": [
    "test_data['ft_23_categ']=test_data['ft_23_categ'].interpolate(method='linear',limit_direction='forward')"
   ]
  },
  {
   "cell_type": "code",
   "execution_count": 105,
   "metadata": {},
   "outputs": [],
   "source": [
    "test_data['ft_24_categ']=test_data.ft_24_categ.replace('> = 10',10)\n",
    "test_data['ft_24_categ']=test_data.ft_24_categ.replace('>=10',10)\n",
    "test_data['ft_24_categ']=test_data['ft_24_categ'].astype('float')\n",
    "test_data['ft_24_categ']=test_data['ft_24_categ'].interpolate(method='linear',limit_direction='forward')"
   ]
  },
  {
   "cell_type": "code",
   "execution_count": 106,
   "metadata": {},
   "outputs": [],
   "source": [
    "test_data['ft_7_categ']=test_data.ft_7_categ.replace('V',np.nan)\n",
    "test_data['ft_7_categ']=test_data['ft_7_categ'].astype('float')\n",
    "test_data['ft_7_categ']=test_data['ft_7_categ'].interpolate(method='linear',limit_direction='forward')"
   ]
  },
  {
   "cell_type": "code",
   "execution_count": 107,
   "metadata": {},
   "outputs": [],
   "source": [
    "test_data['ft_9_categ']=test_data.ft_9_categ.replace('V',np.nan)\n",
    "test_data['ft_9_categ']=test_data['ft_9_categ'].astype('float')\n",
    "test_data['ft_9_categ']=test_data['ft_9_categ'].interpolate(method='linear',limit_direction='forward')"
   ]
  },
  {
   "cell_type": "code",
   "execution_count": 108,
   "metadata": {},
   "outputs": [],
   "source": [
    "test_data.drop('Insee',axis=1,inplace=True)"
   ]
  },
  {
   "cell_type": "code",
   "execution_count": null,
   "metadata": {},
   "outputs": [],
   "source": []
  },
  {
   "cell_type": "code",
   "execution_count": 109,
   "metadata": {},
   "outputs": [],
   "source": [
    "test_data.ft_2_categ=minmax_scaling(test_data['ft_2_categ'],columns=0)"
   ]
  },
  {
   "cell_type": "code",
   "execution_count": 110,
   "metadata": {},
   "outputs": [],
   "source": [
    "test_data['EXPO']=minmax_scaling(test_data['EXPO'],columns=0)"
   ]
  },
  {
   "cell_type": "code",
   "execution_count": 111,
   "metadata": {},
   "outputs": [],
   "source": [
    "test_data.ft_4_categ=minmax_scaling(test_data['ft_4_categ'],columns=0)"
   ]
  },
  {
   "cell_type": "code",
   "execution_count": 112,
   "metadata": {},
   "outputs": [],
   "source": [
    "test_data.ft_19_categ=minmax_scaling(test_data['ft_19_categ'],columns=0)"
   ]
  },
  {
   "cell_type": "code",
   "execution_count": 113,
   "metadata": {},
   "outputs": [],
   "source": [
    "test_data['superficief']=minmax_scaling(test_data['superficief'],columns=0)"
   ]
  },
  {
   "cell_type": "code",
   "execution_count": 114,
   "metadata": {},
   "outputs": [],
   "source": [
    "test_data.ft_21_categ=minmax_scaling(test_data['ft_21_categ'],columns=0)"
   ]
  },
  {
   "cell_type": "code",
   "execution_count": 115,
   "metadata": {},
   "outputs": [],
   "source": [
    "test_data.ft_22_categ=minmax_scaling(test_data['ft_22_categ'],columns=0)"
   ]
  },
  {
   "cell_type": "code",
   "execution_count": 116,
   "metadata": {},
   "outputs": [],
   "source": [
    "test_data.ft_7_categ=minmax_scaling(test_data['ft_7_categ'],columns=0)"
   ]
  },
  {
   "cell_type": "code",
   "execution_count": 117,
   "metadata": {},
   "outputs": [],
   "source": [
    "test_data.ft_9_categ=minmax_scaling(test_data['ft_9_categ'],columns=0)"
   ]
  },
  {
   "cell_type": "code",
   "execution_count": 118,
   "metadata": {},
   "outputs": [],
   "source": [
    "test_data.ft_24_categ=minmax_scaling(test_data['ft_24_categ'],columns=0)"
   ]
  },
  {
   "cell_type": "code",
   "execution_count": 119,
   "metadata": {},
   "outputs": [],
   "source": [
    "test_data.ft_23_categ=minmax_scaling(test_data['ft_23_categ'],columns=0)"
   ]
  },
  {
   "cell_type": "code",
   "execution_count": 120,
   "metadata": {},
   "outputs": [
    {
     "data": {
      "text/html": [
       "<div>\n",
       "<style scoped>\n",
       "    .dataframe tbody tr th:only-of-type {\n",
       "        vertical-align: middle;\n",
       "    }\n",
       "\n",
       "    .dataframe tbody tr th {\n",
       "        vertical-align: top;\n",
       "    }\n",
       "\n",
       "    .dataframe thead th {\n",
       "        text-align: right;\n",
       "    }\n",
       "</style>\n",
       "<table border=\"1\" class=\"dataframe\">\n",
       "  <thead>\n",
       "    <tr style=\"text-align: right;\">\n",
       "      <th></th>\n",
       "      <th>count</th>\n",
       "      <th>mean</th>\n",
       "      <th>std</th>\n",
       "      <th>min</th>\n",
       "      <th>25%</th>\n",
       "      <th>50%</th>\n",
       "      <th>75%</th>\n",
       "      <th>max</th>\n",
       "    </tr>\n",
       "  </thead>\n",
       "  <tbody>\n",
       "    <tr>\n",
       "      <td>ft_2_categ</td>\n",
       "      <td>3412.0</td>\n",
       "      <td>0.402696</td>\n",
       "      <td>0.346992</td>\n",
       "      <td>0.0</td>\n",
       "      <td>0.000000</td>\n",
       "      <td>0.250000</td>\n",
       "      <td>0.750000</td>\n",
       "      <td>1.0</td>\n",
       "    </tr>\n",
       "    <tr>\n",
       "      <td>EXPO</td>\n",
       "      <td>3412.0</td>\n",
       "      <td>0.911044</td>\n",
       "      <td>0.236351</td>\n",
       "      <td>0.0</td>\n",
       "      <td>1.000000</td>\n",
       "      <td>1.000000</td>\n",
       "      <td>1.000000</td>\n",
       "      <td>1.0</td>\n",
       "    </tr>\n",
       "    <tr>\n",
       "      <td>ft_4_categ</td>\n",
       "      <td>3412.0</td>\n",
       "      <td>0.270223</td>\n",
       "      <td>0.444140</td>\n",
       "      <td>0.0</td>\n",
       "      <td>0.000000</td>\n",
       "      <td>0.000000</td>\n",
       "      <td>1.000000</td>\n",
       "      <td>1.0</td>\n",
       "    </tr>\n",
       "    <tr>\n",
       "      <td>ft_7_categ</td>\n",
       "      <td>3412.0</td>\n",
       "      <td>0.174311</td>\n",
       "      <td>0.267292</td>\n",
       "      <td>0.0</td>\n",
       "      <td>0.000000</td>\n",
       "      <td>0.000000</td>\n",
       "      <td>0.333333</td>\n",
       "      <td>1.0</td>\n",
       "    </tr>\n",
       "    <tr>\n",
       "      <td>ft_9_categ</td>\n",
       "      <td>3412.0</td>\n",
       "      <td>0.001246</td>\n",
       "      <td>0.025554</td>\n",
       "      <td>0.0</td>\n",
       "      <td>0.000000</td>\n",
       "      <td>0.000000</td>\n",
       "      <td>0.000000</td>\n",
       "      <td>1.0</td>\n",
       "    </tr>\n",
       "    <tr>\n",
       "      <td>ft_19_categ</td>\n",
       "      <td>3412.0</td>\n",
       "      <td>0.940797</td>\n",
       "      <td>0.236038</td>\n",
       "      <td>0.0</td>\n",
       "      <td>1.000000</td>\n",
       "      <td>1.000000</td>\n",
       "      <td>1.000000</td>\n",
       "      <td>1.0</td>\n",
       "    </tr>\n",
       "    <tr>\n",
       "      <td>superficief</td>\n",
       "      <td>3412.0</td>\n",
       "      <td>0.051383</td>\n",
       "      <td>0.063580</td>\n",
       "      <td>0.0</td>\n",
       "      <td>0.014205</td>\n",
       "      <td>0.028641</td>\n",
       "      <td>0.063287</td>\n",
       "      <td>1.0</td>\n",
       "    </tr>\n",
       "    <tr>\n",
       "      <td>ft_21_categ</td>\n",
       "      <td>3412.0</td>\n",
       "      <td>0.416471</td>\n",
       "      <td>0.327305</td>\n",
       "      <td>0.0</td>\n",
       "      <td>0.333333</td>\n",
       "      <td>0.333333</td>\n",
       "      <td>0.666667</td>\n",
       "      <td>1.0</td>\n",
       "    </tr>\n",
       "    <tr>\n",
       "      <td>ft_22_categ</td>\n",
       "      <td>3412.0</td>\n",
       "      <td>0.899981</td>\n",
       "      <td>0.067929</td>\n",
       "      <td>0.0</td>\n",
       "      <td>0.891473</td>\n",
       "      <td>0.909399</td>\n",
       "      <td>0.930233</td>\n",
       "      <td>1.0</td>\n",
       "    </tr>\n",
       "    <tr>\n",
       "      <td>ft_23_categ</td>\n",
       "      <td>3412.0</td>\n",
       "      <td>0.034386</td>\n",
       "      <td>0.092699</td>\n",
       "      <td>0.0</td>\n",
       "      <td>0.000000</td>\n",
       "      <td>0.000000</td>\n",
       "      <td>0.000000</td>\n",
       "      <td>1.0</td>\n",
       "    </tr>\n",
       "    <tr>\n",
       "      <td>ft_24_categ</td>\n",
       "      <td>3412.0</td>\n",
       "      <td>0.182591</td>\n",
       "      <td>0.245419</td>\n",
       "      <td>0.0</td>\n",
       "      <td>0.000000</td>\n",
       "      <td>0.000000</td>\n",
       "      <td>0.400000</td>\n",
       "      <td>1.0</td>\n",
       "    </tr>\n",
       "    <tr>\n",
       "      <td>ft_5__v</td>\n",
       "      <td>3412.0</td>\n",
       "      <td>0.672333</td>\n",
       "      <td>0.469432</td>\n",
       "      <td>0.0</td>\n",
       "      <td>0.000000</td>\n",
       "      <td>1.000000</td>\n",
       "      <td>1.000000</td>\n",
       "      <td>1.0</td>\n",
       "    </tr>\n",
       "    <tr>\n",
       "      <td>ft_5__not</td>\n",
       "      <td>3412.0</td>\n",
       "      <td>0.324736</td>\n",
       "      <td>0.468345</td>\n",
       "      <td>0.0</td>\n",
       "      <td>0.000000</td>\n",
       "      <td>0.000000</td>\n",
       "      <td>1.000000</td>\n",
       "      <td>1.0</td>\n",
       "    </tr>\n",
       "    <tr>\n",
       "      <td>ft_5__o</td>\n",
       "      <td>3412.0</td>\n",
       "      <td>0.002931</td>\n",
       "      <td>0.054066</td>\n",
       "      <td>0.0</td>\n",
       "      <td>0.000000</td>\n",
       "      <td>0.000000</td>\n",
       "      <td>0.000000</td>\n",
       "      <td>1.0</td>\n",
       "    </tr>\n",
       "    <tr>\n",
       "      <td>ft_6__not</td>\n",
       "      <td>3412.0</td>\n",
       "      <td>0.418816</td>\n",
       "      <td>0.493437</td>\n",
       "      <td>0.0</td>\n",
       "      <td>0.000000</td>\n",
       "      <td>0.000000</td>\n",
       "      <td>1.000000</td>\n",
       "      <td>1.0</td>\n",
       "    </tr>\n",
       "    <tr>\n",
       "      <td>ft_6__v</td>\n",
       "      <td>3412.0</td>\n",
       "      <td>0.580891</td>\n",
       "      <td>0.493486</td>\n",
       "      <td>0.0</td>\n",
       "      <td>0.000000</td>\n",
       "      <td>1.000000</td>\n",
       "      <td>1.000000</td>\n",
       "      <td>1.0</td>\n",
       "    </tr>\n",
       "    <tr>\n",
       "      <td>ft_6__o</td>\n",
       "      <td>3412.0</td>\n",
       "      <td>0.000293</td>\n",
       "      <td>0.017120</td>\n",
       "      <td>0.0</td>\n",
       "      <td>0.000000</td>\n",
       "      <td>0.000000</td>\n",
       "      <td>0.000000</td>\n",
       "      <td>1.0</td>\n",
       "    </tr>\n",
       "    <tr>\n",
       "      <td>ft_8__o</td>\n",
       "      <td>3412.0</td>\n",
       "      <td>0.417644</td>\n",
       "      <td>0.493243</td>\n",
       "      <td>0.0</td>\n",
       "      <td>0.000000</td>\n",
       "      <td>0.000000</td>\n",
       "      <td>1.000000</td>\n",
       "      <td>1.0</td>\n",
       "    </tr>\n",
       "    <tr>\n",
       "      <td>ft_8__v</td>\n",
       "      <td>3412.0</td>\n",
       "      <td>0.580891</td>\n",
       "      <td>0.493486</td>\n",
       "      <td>0.0</td>\n",
       "      <td>0.000000</td>\n",
       "      <td>1.000000</td>\n",
       "      <td>1.000000</td>\n",
       "      <td>1.0</td>\n",
       "    </tr>\n",
       "    <tr>\n",
       "      <td>ft_8__not</td>\n",
       "      <td>3412.0</td>\n",
       "      <td>0.001465</td>\n",
       "      <td>0.038258</td>\n",
       "      <td>0.0</td>\n",
       "      <td>0.000000</td>\n",
       "      <td>0.000000</td>\n",
       "      <td>0.000000</td>\n",
       "      <td>1.0</td>\n",
       "    </tr>\n",
       "    <tr>\n",
       "      <td>ft_10_o</td>\n",
       "      <td>3412.0</td>\n",
       "      <td>0.418230</td>\n",
       "      <td>0.493341</td>\n",
       "      <td>0.0</td>\n",
       "      <td>0.000000</td>\n",
       "      <td>0.000000</td>\n",
       "      <td>1.000000</td>\n",
       "      <td>1.0</td>\n",
       "    </tr>\n",
       "    <tr>\n",
       "      <td>ft_10_v</td>\n",
       "      <td>3412.0</td>\n",
       "      <td>0.580891</td>\n",
       "      <td>0.493486</td>\n",
       "      <td>0.0</td>\n",
       "      <td>0.000000</td>\n",
       "      <td>1.000000</td>\n",
       "      <td>1.000000</td>\n",
       "      <td>1.0</td>\n",
       "    </tr>\n",
       "    <tr>\n",
       "      <td>ft_10_not</td>\n",
       "      <td>3412.0</td>\n",
       "      <td>0.000879</td>\n",
       "      <td>0.029643</td>\n",
       "      <td>0.0</td>\n",
       "      <td>0.000000</td>\n",
       "      <td>0.000000</td>\n",
       "      <td>0.000000</td>\n",
       "      <td>1.0</td>\n",
       "    </tr>\n",
       "    <tr>\n",
       "      <td>ft_11_not</td>\n",
       "      <td>3412.0</td>\n",
       "      <td>0.418523</td>\n",
       "      <td>0.493389</td>\n",
       "      <td>0.0</td>\n",
       "      <td>0.000000</td>\n",
       "      <td>0.000000</td>\n",
       "      <td>1.000000</td>\n",
       "      <td>1.0</td>\n",
       "    </tr>\n",
       "    <tr>\n",
       "      <td>ft_11_v</td>\n",
       "      <td>3412.0</td>\n",
       "      <td>0.580891</td>\n",
       "      <td>0.493486</td>\n",
       "      <td>0.0</td>\n",
       "      <td>0.000000</td>\n",
       "      <td>1.000000</td>\n",
       "      <td>1.000000</td>\n",
       "      <td>1.0</td>\n",
       "    </tr>\n",
       "    <tr>\n",
       "      <td>ft_11_o</td>\n",
       "      <td>3412.0</td>\n",
       "      <td>0.000586</td>\n",
       "      <td>0.024207</td>\n",
       "      <td>0.0</td>\n",
       "      <td>0.000000</td>\n",
       "      <td>0.000000</td>\n",
       "      <td>0.000000</td>\n",
       "      <td>1.0</td>\n",
       "    </tr>\n",
       "    <tr>\n",
       "      <td>ft_12_not</td>\n",
       "      <td>3412.0</td>\n",
       "      <td>0.364302</td>\n",
       "      <td>0.481305</td>\n",
       "      <td>0.0</td>\n",
       "      <td>0.000000</td>\n",
       "      <td>0.000000</td>\n",
       "      <td>1.000000</td>\n",
       "      <td>1.0</td>\n",
       "    </tr>\n",
       "    <tr>\n",
       "      <td>ft_12_v</td>\n",
       "      <td>3412.0</td>\n",
       "      <td>0.580891</td>\n",
       "      <td>0.493486</td>\n",
       "      <td>0.0</td>\n",
       "      <td>0.000000</td>\n",
       "      <td>1.000000</td>\n",
       "      <td>1.000000</td>\n",
       "      <td>1.0</td>\n",
       "    </tr>\n",
       "    <tr>\n",
       "      <td>ft_12_o</td>\n",
       "      <td>3412.0</td>\n",
       "      <td>0.054807</td>\n",
       "      <td>0.227636</td>\n",
       "      <td>0.0</td>\n",
       "      <td>0.000000</td>\n",
       "      <td>0.000000</td>\n",
       "      <td>0.000000</td>\n",
       "      <td>1.0</td>\n",
       "    </tr>\n",
       "    <tr>\n",
       "      <td>ft_13_o</td>\n",
       "      <td>3412.0</td>\n",
       "      <td>0.172040</td>\n",
       "      <td>0.377470</td>\n",
       "      <td>0.0</td>\n",
       "      <td>0.000000</td>\n",
       "      <td>0.000000</td>\n",
       "      <td>0.000000</td>\n",
       "      <td>1.0</td>\n",
       "    </tr>\n",
       "    <tr>\n",
       "      <td>ft_13_v</td>\n",
       "      <td>3412.0</td>\n",
       "      <td>0.580891</td>\n",
       "      <td>0.493486</td>\n",
       "      <td>0.0</td>\n",
       "      <td>0.000000</td>\n",
       "      <td>1.000000</td>\n",
       "      <td>1.000000</td>\n",
       "      <td>1.0</td>\n",
       "    </tr>\n",
       "    <tr>\n",
       "      <td>ft_13_not</td>\n",
       "      <td>3412.0</td>\n",
       "      <td>0.247069</td>\n",
       "      <td>0.431371</td>\n",
       "      <td>0.0</td>\n",
       "      <td>0.000000</td>\n",
       "      <td>0.000000</td>\n",
       "      <td>0.000000</td>\n",
       "      <td>1.0</td>\n",
       "    </tr>\n",
       "    <tr>\n",
       "      <td>ft_14_not</td>\n",
       "      <td>3412.0</td>\n",
       "      <td>0.375733</td>\n",
       "      <td>0.484382</td>\n",
       "      <td>0.0</td>\n",
       "      <td>0.000000</td>\n",
       "      <td>0.000000</td>\n",
       "      <td>1.000000</td>\n",
       "      <td>1.0</td>\n",
       "    </tr>\n",
       "    <tr>\n",
       "      <td>ft_14_v</td>\n",
       "      <td>3412.0</td>\n",
       "      <td>0.580891</td>\n",
       "      <td>0.493486</td>\n",
       "      <td>0.0</td>\n",
       "      <td>0.000000</td>\n",
       "      <td>1.000000</td>\n",
       "      <td>1.000000</td>\n",
       "      <td>1.0</td>\n",
       "    </tr>\n",
       "    <tr>\n",
       "      <td>ft_14_o</td>\n",
       "      <td>3412.0</td>\n",
       "      <td>0.043376</td>\n",
       "      <td>0.203733</td>\n",
       "      <td>0.0</td>\n",
       "      <td>0.000000</td>\n",
       "      <td>0.000000</td>\n",
       "      <td>0.000000</td>\n",
       "      <td>1.0</td>\n",
       "    </tr>\n",
       "    <tr>\n",
       "      <td>ft_15_other</td>\n",
       "      <td>3412.0</td>\n",
       "      <td>0.419109</td>\n",
       "      <td>0.493486</td>\n",
       "      <td>0.0</td>\n",
       "      <td>0.000000</td>\n",
       "      <td>0.000000</td>\n",
       "      <td>1.000000</td>\n",
       "      <td>1.0</td>\n",
       "    </tr>\n",
       "    <tr>\n",
       "      <td>ft_15_v</td>\n",
       "      <td>3412.0</td>\n",
       "      <td>0.580891</td>\n",
       "      <td>0.493486</td>\n",
       "      <td>0.0</td>\n",
       "      <td>0.000000</td>\n",
       "      <td>1.000000</td>\n",
       "      <td>1.000000</td>\n",
       "      <td>1.0</td>\n",
       "    </tr>\n",
       "    <tr>\n",
       "      <td>ft_16_identical</td>\n",
       "      <td>3412.0</td>\n",
       "      <td>0.419109</td>\n",
       "      <td>0.493486</td>\n",
       "      <td>0.0</td>\n",
       "      <td>0.000000</td>\n",
       "      <td>0.000000</td>\n",
       "      <td>1.000000</td>\n",
       "      <td>1.0</td>\n",
       "    </tr>\n",
       "    <tr>\n",
       "      <td>ft_16_v</td>\n",
       "      <td>3412.0</td>\n",
       "      <td>0.580891</td>\n",
       "      <td>0.493486</td>\n",
       "      <td>0.0</td>\n",
       "      <td>0.000000</td>\n",
       "      <td>1.000000</td>\n",
       "      <td>1.000000</td>\n",
       "      <td>1.0</td>\n",
       "    </tr>\n",
       "    <tr>\n",
       "      <td>ft_17_v</td>\n",
       "      <td>3412.0</td>\n",
       "      <td>0.438746</td>\n",
       "      <td>0.496306</td>\n",
       "      <td>0.0</td>\n",
       "      <td>0.000000</td>\n",
       "      <td>0.000000</td>\n",
       "      <td>1.000000</td>\n",
       "      <td>1.0</td>\n",
       "    </tr>\n",
       "    <tr>\n",
       "      <td>ft_17_not</td>\n",
       "      <td>3412.0</td>\n",
       "      <td>0.556565</td>\n",
       "      <td>0.496863</td>\n",
       "      <td>0.0</td>\n",
       "      <td>0.000000</td>\n",
       "      <td>1.000000</td>\n",
       "      <td>1.000000</td>\n",
       "      <td>1.0</td>\n",
       "    </tr>\n",
       "    <tr>\n",
       "      <td>ft_17_o</td>\n",
       "      <td>3412.0</td>\n",
       "      <td>0.004689</td>\n",
       "      <td>0.068328</td>\n",
       "      <td>0.0</td>\n",
       "      <td>0.000000</td>\n",
       "      <td>0.000000</td>\n",
       "      <td>0.000000</td>\n",
       "      <td>1.0</td>\n",
       "    </tr>\n",
       "    <tr>\n",
       "      <td>ft_18_effpi</td>\n",
       "      <td>3412.0</td>\n",
       "      <td>0.073857</td>\n",
       "      <td>0.261576</td>\n",
       "      <td>0.0</td>\n",
       "      <td>0.000000</td>\n",
       "      <td>0.000000</td>\n",
       "      <td>0.000000</td>\n",
       "      <td>1.0</td>\n",
       "    </tr>\n",
       "    <tr>\n",
       "      <td>ft_18_based</td>\n",
       "      <td>3412.0</td>\n",
       "      <td>0.795135</td>\n",
       "      <td>0.403662</td>\n",
       "      <td>0.0</td>\n",
       "      <td>1.000000</td>\n",
       "      <td>1.000000</td>\n",
       "      <td>1.000000</td>\n",
       "      <td>1.0</td>\n",
       "    </tr>\n",
       "    <tr>\n",
       "      <td>ft_18_eff</td>\n",
       "      <td>3412.0</td>\n",
       "      <td>0.011430</td>\n",
       "      <td>0.106315</td>\n",
       "      <td>0.0</td>\n",
       "      <td>0.000000</td>\n",
       "      <td>0.000000</td>\n",
       "      <td>0.000000</td>\n",
       "      <td>1.0</td>\n",
       "    </tr>\n",
       "    <tr>\n",
       "      <td>ft_18_pi</td>\n",
       "      <td>3412.0</td>\n",
       "      <td>0.101700</td>\n",
       "      <td>0.302298</td>\n",
       "      <td>0.0</td>\n",
       "      <td>0.000000</td>\n",
       "      <td>0.000000</td>\n",
       "      <td>0.000000</td>\n",
       "      <td>1.0</td>\n",
       "    </tr>\n",
       "    <tr>\n",
       "      <td>ft_18_v</td>\n",
       "      <td>3412.0</td>\n",
       "      <td>0.017878</td>\n",
       "      <td>0.132528</td>\n",
       "      <td>0.0</td>\n",
       "      <td>0.000000</td>\n",
       "      <td>0.000000</td>\n",
       "      <td>0.000000</td>\n",
       "      <td>1.0</td>\n",
       "    </tr>\n",
       "  </tbody>\n",
       "</table>\n",
       "</div>"
      ],
      "text/plain": [
       "                  count      mean       std  min       25%       50%  \\\n",
       "ft_2_categ       3412.0  0.402696  0.346992  0.0  0.000000  0.250000   \n",
       "EXPO             3412.0  0.911044  0.236351  0.0  1.000000  1.000000   \n",
       "ft_4_categ       3412.0  0.270223  0.444140  0.0  0.000000  0.000000   \n",
       "ft_7_categ       3412.0  0.174311  0.267292  0.0  0.000000  0.000000   \n",
       "ft_9_categ       3412.0  0.001246  0.025554  0.0  0.000000  0.000000   \n",
       "ft_19_categ      3412.0  0.940797  0.236038  0.0  1.000000  1.000000   \n",
       "superficief      3412.0  0.051383  0.063580  0.0  0.014205  0.028641   \n",
       "ft_21_categ      3412.0  0.416471  0.327305  0.0  0.333333  0.333333   \n",
       "ft_22_categ      3412.0  0.899981  0.067929  0.0  0.891473  0.909399   \n",
       "ft_23_categ      3412.0  0.034386  0.092699  0.0  0.000000  0.000000   \n",
       "ft_24_categ      3412.0  0.182591  0.245419  0.0  0.000000  0.000000   \n",
       "ft_5__v          3412.0  0.672333  0.469432  0.0  0.000000  1.000000   \n",
       "ft_5__not        3412.0  0.324736  0.468345  0.0  0.000000  0.000000   \n",
       "ft_5__o          3412.0  0.002931  0.054066  0.0  0.000000  0.000000   \n",
       "ft_6__not        3412.0  0.418816  0.493437  0.0  0.000000  0.000000   \n",
       "ft_6__v          3412.0  0.580891  0.493486  0.0  0.000000  1.000000   \n",
       "ft_6__o          3412.0  0.000293  0.017120  0.0  0.000000  0.000000   \n",
       "ft_8__o          3412.0  0.417644  0.493243  0.0  0.000000  0.000000   \n",
       "ft_8__v          3412.0  0.580891  0.493486  0.0  0.000000  1.000000   \n",
       "ft_8__not        3412.0  0.001465  0.038258  0.0  0.000000  0.000000   \n",
       "ft_10_o          3412.0  0.418230  0.493341  0.0  0.000000  0.000000   \n",
       "ft_10_v          3412.0  0.580891  0.493486  0.0  0.000000  1.000000   \n",
       "ft_10_not        3412.0  0.000879  0.029643  0.0  0.000000  0.000000   \n",
       "ft_11_not        3412.0  0.418523  0.493389  0.0  0.000000  0.000000   \n",
       "ft_11_v          3412.0  0.580891  0.493486  0.0  0.000000  1.000000   \n",
       "ft_11_o          3412.0  0.000586  0.024207  0.0  0.000000  0.000000   \n",
       "ft_12_not        3412.0  0.364302  0.481305  0.0  0.000000  0.000000   \n",
       "ft_12_v          3412.0  0.580891  0.493486  0.0  0.000000  1.000000   \n",
       "ft_12_o          3412.0  0.054807  0.227636  0.0  0.000000  0.000000   \n",
       "ft_13_o          3412.0  0.172040  0.377470  0.0  0.000000  0.000000   \n",
       "ft_13_v          3412.0  0.580891  0.493486  0.0  0.000000  1.000000   \n",
       "ft_13_not        3412.0  0.247069  0.431371  0.0  0.000000  0.000000   \n",
       "ft_14_not        3412.0  0.375733  0.484382  0.0  0.000000  0.000000   \n",
       "ft_14_v          3412.0  0.580891  0.493486  0.0  0.000000  1.000000   \n",
       "ft_14_o          3412.0  0.043376  0.203733  0.0  0.000000  0.000000   \n",
       "ft_15_other      3412.0  0.419109  0.493486  0.0  0.000000  0.000000   \n",
       "ft_15_v          3412.0  0.580891  0.493486  0.0  0.000000  1.000000   \n",
       "ft_16_identical  3412.0  0.419109  0.493486  0.0  0.000000  0.000000   \n",
       "ft_16_v          3412.0  0.580891  0.493486  0.0  0.000000  1.000000   \n",
       "ft_17_v          3412.0  0.438746  0.496306  0.0  0.000000  0.000000   \n",
       "ft_17_not        3412.0  0.556565  0.496863  0.0  0.000000  1.000000   \n",
       "ft_17_o          3412.0  0.004689  0.068328  0.0  0.000000  0.000000   \n",
       "ft_18_effpi      3412.0  0.073857  0.261576  0.0  0.000000  0.000000   \n",
       "ft_18_based      3412.0  0.795135  0.403662  0.0  1.000000  1.000000   \n",
       "ft_18_eff        3412.0  0.011430  0.106315  0.0  0.000000  0.000000   \n",
       "ft_18_pi         3412.0  0.101700  0.302298  0.0  0.000000  0.000000   \n",
       "ft_18_v          3412.0  0.017878  0.132528  0.0  0.000000  0.000000   \n",
       "\n",
       "                      75%  max  \n",
       "ft_2_categ       0.750000  1.0  \n",
       "EXPO             1.000000  1.0  \n",
       "ft_4_categ       1.000000  1.0  \n",
       "ft_7_categ       0.333333  1.0  \n",
       "ft_9_categ       0.000000  1.0  \n",
       "ft_19_categ      1.000000  1.0  \n",
       "superficief      0.063287  1.0  \n",
       "ft_21_categ      0.666667  1.0  \n",
       "ft_22_categ      0.930233  1.0  \n",
       "ft_23_categ      0.000000  1.0  \n",
       "ft_24_categ      0.400000  1.0  \n",
       "ft_5__v          1.000000  1.0  \n",
       "ft_5__not        1.000000  1.0  \n",
       "ft_5__o          0.000000  1.0  \n",
       "ft_6__not        1.000000  1.0  \n",
       "ft_6__v          1.000000  1.0  \n",
       "ft_6__o          0.000000  1.0  \n",
       "ft_8__o          1.000000  1.0  \n",
       "ft_8__v          1.000000  1.0  \n",
       "ft_8__not        0.000000  1.0  \n",
       "ft_10_o          1.000000  1.0  \n",
       "ft_10_v          1.000000  1.0  \n",
       "ft_10_not        0.000000  1.0  \n",
       "ft_11_not        1.000000  1.0  \n",
       "ft_11_v          1.000000  1.0  \n",
       "ft_11_o          0.000000  1.0  \n",
       "ft_12_not        1.000000  1.0  \n",
       "ft_12_v          1.000000  1.0  \n",
       "ft_12_o          0.000000  1.0  \n",
       "ft_13_o          0.000000  1.0  \n",
       "ft_13_v          1.000000  1.0  \n",
       "ft_13_not        0.000000  1.0  \n",
       "ft_14_not        1.000000  1.0  \n",
       "ft_14_v          1.000000  1.0  \n",
       "ft_14_o          0.000000  1.0  \n",
       "ft_15_other      1.000000  1.0  \n",
       "ft_15_v          1.000000  1.0  \n",
       "ft_16_identical  1.000000  1.0  \n",
       "ft_16_v          1.000000  1.0  \n",
       "ft_17_v          1.000000  1.0  \n",
       "ft_17_not        1.000000  1.0  \n",
       "ft_17_o          0.000000  1.0  \n",
       "ft_18_effpi      0.000000  1.0  \n",
       "ft_18_based      1.000000  1.0  \n",
       "ft_18_eff        0.000000  1.0  \n",
       "ft_18_pi         0.000000  1.0  \n",
       "ft_18_v          0.000000  1.0  "
      ]
     },
     "execution_count": 120,
     "metadata": {},
     "output_type": "execute_result"
    }
   ],
   "source": [
    "test_data.describe().transpose()"
   ]
  },
  {
   "cell_type": "code",
   "execution_count": 121,
   "metadata": {},
   "outputs": [
    {
     "data": {
      "text/plain": [
       "Index(['ft_2_categ', 'EXPO', 'ft_4_categ', 'ft_7_categ', 'ft_9_categ',\n",
       "       'ft_19_categ', 'superficief', 'ft_21_categ', 'ft_22_categ',\n",
       "       'ft_23_categ', 'ft_24_categ', 'ft_5__v', 'ft_5__not', 'ft_5__o',\n",
       "       'ft_6__not', 'ft_6__v', 'ft_6__o', 'ft_8__o', 'ft_8__v', 'ft_8__not',\n",
       "       'ft_10_o', 'ft_10_v', 'ft_10_not', 'ft_11_not', 'ft_11_v', 'ft_11_o',\n",
       "       'ft_12_not', 'ft_12_v', 'ft_12_o', 'ft_13_o', 'ft_13_v', 'ft_13_not',\n",
       "       'ft_14_not', 'ft_14_v', 'ft_14_o', 'ft_15_other', 'ft_15_v',\n",
       "       'ft_16_identical', 'ft_16_v', 'ft_17_v', 'ft_17_not', 'ft_17_o',\n",
       "       'ft_18_effpi', 'ft_18_based', 'ft_18_eff', 'ft_18_pi', 'ft_18_v'],\n",
       "      dtype='object')"
      ]
     },
     "execution_count": 121,
     "metadata": {},
     "output_type": "execute_result"
    }
   ],
   "source": [
    "test_data.columns"
   ]
  },
  {
   "cell_type": "code",
   "execution_count": 122,
   "metadata": {},
   "outputs": [],
   "source": [
    "arr=train_data.values\n",
    "X=arr[:,0:56]\n",
    "Y=arr[:,56]"
   ]
  },
  {
   "cell_type": "code",
   "execution_count": 123,
   "metadata": {},
   "outputs": [],
   "source": [
    "from sklearn.feature_selection import RFE\n",
    "from sklearn.linear_model import LogisticRegression"
   ]
  },
  {
   "cell_type": "code",
   "execution_count": 124,
   "metadata": {},
   "outputs": [
    {
     "ename": "ValueError",
     "evalue": "Unknown label type: 'continuous'",
     "output_type": "error",
     "traceback": [
      "\u001b[0;31m---------------------------------------------------------------------------\u001b[0m",
      "\u001b[0;31mValueError\u001b[0m                                Traceback (most recent call last)",
      "\u001b[0;32m<ipython-input-124-846fd434a726>\u001b[0m in \u001b[0;36m<module>\u001b[0;34m\u001b[0m\n\u001b[1;32m      1\u001b[0m \u001b[0mmodel\u001b[0m \u001b[0;34m=\u001b[0m \u001b[0mLogisticRegression\u001b[0m\u001b[0;34m(\u001b[0m\u001b[0;34m)\u001b[0m\u001b[0;34m\u001b[0m\u001b[0;34m\u001b[0m\u001b[0m\n\u001b[1;32m      2\u001b[0m \u001b[0mrfe\u001b[0m \u001b[0;34m=\u001b[0m \u001b[0mRFE\u001b[0m\u001b[0;34m(\u001b[0m\u001b[0mmodel\u001b[0m\u001b[0;34m,\u001b[0m \u001b[0;36m10\u001b[0m\u001b[0;34m)\u001b[0m\u001b[0;34m\u001b[0m\u001b[0;34m\u001b[0m\u001b[0m\n\u001b[0;32m----> 3\u001b[0;31m \u001b[0mfit\u001b[0m \u001b[0;34m=\u001b[0m \u001b[0mrfe\u001b[0m\u001b[0;34m.\u001b[0m\u001b[0mfit\u001b[0m\u001b[0;34m(\u001b[0m\u001b[0mX\u001b[0m\u001b[0;34m,\u001b[0m \u001b[0mY\u001b[0m\u001b[0;34m)\u001b[0m\u001b[0;34m\u001b[0m\u001b[0;34m\u001b[0m\u001b[0m\n\u001b[0m\u001b[1;32m      4\u001b[0m \u001b[0mprint\u001b[0m\u001b[0;34m(\u001b[0m\u001b[0;34m\"Num Features: %s\"\u001b[0m \u001b[0;34m%\u001b[0m \u001b[0;34m(\u001b[0m\u001b[0mfit\u001b[0m\u001b[0;34m.\u001b[0m\u001b[0mn_features_\u001b[0m\u001b[0;34m)\u001b[0m\u001b[0;34m)\u001b[0m\u001b[0;34m\u001b[0m\u001b[0;34m\u001b[0m\u001b[0m\n\u001b[1;32m      5\u001b[0m \u001b[0mprint\u001b[0m\u001b[0;34m(\u001b[0m\u001b[0;34m\"Selected Features: %s\"\u001b[0m \u001b[0;34m%\u001b[0m \u001b[0;34m(\u001b[0m\u001b[0mfit\u001b[0m\u001b[0;34m.\u001b[0m\u001b[0msupport_\u001b[0m\u001b[0;34m)\u001b[0m\u001b[0;34m)\u001b[0m\u001b[0;34m\u001b[0m\u001b[0;34m\u001b[0m\u001b[0m\n",
      "\u001b[0;32m~/anaconda3/lib/python3.7/site-packages/sklearn/feature_selection/rfe.py\u001b[0m in \u001b[0;36mfit\u001b[0;34m(self, X, y)\u001b[0m\n\u001b[1;32m    142\u001b[0m             \u001b[0mThe\u001b[0m \u001b[0mtarget\u001b[0m \u001b[0mvalues\u001b[0m\u001b[0;34m.\u001b[0m\u001b[0;34m\u001b[0m\u001b[0;34m\u001b[0m\u001b[0m\n\u001b[1;32m    143\u001b[0m         \"\"\"\n\u001b[0;32m--> 144\u001b[0;31m         \u001b[0;32mreturn\u001b[0m \u001b[0mself\u001b[0m\u001b[0;34m.\u001b[0m\u001b[0m_fit\u001b[0m\u001b[0;34m(\u001b[0m\u001b[0mX\u001b[0m\u001b[0;34m,\u001b[0m \u001b[0my\u001b[0m\u001b[0;34m)\u001b[0m\u001b[0;34m\u001b[0m\u001b[0;34m\u001b[0m\u001b[0m\n\u001b[0m\u001b[1;32m    145\u001b[0m \u001b[0;34m\u001b[0m\u001b[0m\n\u001b[1;32m    146\u001b[0m     \u001b[0;32mdef\u001b[0m \u001b[0m_fit\u001b[0m\u001b[0;34m(\u001b[0m\u001b[0mself\u001b[0m\u001b[0;34m,\u001b[0m \u001b[0mX\u001b[0m\u001b[0;34m,\u001b[0m \u001b[0my\u001b[0m\u001b[0;34m,\u001b[0m \u001b[0mstep_score\u001b[0m\u001b[0;34m=\u001b[0m\u001b[0;32mNone\u001b[0m\u001b[0;34m)\u001b[0m\u001b[0;34m:\u001b[0m\u001b[0;34m\u001b[0m\u001b[0;34m\u001b[0m\u001b[0m\n",
      "\u001b[0;32m~/anaconda3/lib/python3.7/site-packages/sklearn/feature_selection/rfe.py\u001b[0m in \u001b[0;36m_fit\u001b[0;34m(self, X, y, step_score)\u001b[0m\n\u001b[1;32m    181\u001b[0m                 \u001b[0mprint\u001b[0m\u001b[0;34m(\u001b[0m\u001b[0;34m\"Fitting estimator with %d features.\"\u001b[0m \u001b[0;34m%\u001b[0m \u001b[0mnp\u001b[0m\u001b[0;34m.\u001b[0m\u001b[0msum\u001b[0m\u001b[0;34m(\u001b[0m\u001b[0msupport_\u001b[0m\u001b[0;34m)\u001b[0m\u001b[0;34m)\u001b[0m\u001b[0;34m\u001b[0m\u001b[0;34m\u001b[0m\u001b[0m\n\u001b[1;32m    182\u001b[0m \u001b[0;34m\u001b[0m\u001b[0m\n\u001b[0;32m--> 183\u001b[0;31m             \u001b[0mestimator\u001b[0m\u001b[0;34m.\u001b[0m\u001b[0mfit\u001b[0m\u001b[0;34m(\u001b[0m\u001b[0mX\u001b[0m\u001b[0;34m[\u001b[0m\u001b[0;34m:\u001b[0m\u001b[0;34m,\u001b[0m \u001b[0mfeatures\u001b[0m\u001b[0;34m]\u001b[0m\u001b[0;34m,\u001b[0m \u001b[0my\u001b[0m\u001b[0;34m)\u001b[0m\u001b[0;34m\u001b[0m\u001b[0;34m\u001b[0m\u001b[0m\n\u001b[0m\u001b[1;32m    184\u001b[0m \u001b[0;34m\u001b[0m\u001b[0m\n\u001b[1;32m    185\u001b[0m             \u001b[0;31m# Get coefs\u001b[0m\u001b[0;34m\u001b[0m\u001b[0;34m\u001b[0m\u001b[0;34m\u001b[0m\u001b[0m\n",
      "\u001b[0;32m~/anaconda3/lib/python3.7/site-packages/sklearn/linear_model/logistic.py\u001b[0m in \u001b[0;36mfit\u001b[0;34m(self, X, y, sample_weight)\u001b[0m\n\u001b[1;32m   1531\u001b[0m         X, y = check_X_y(X, y, accept_sparse='csr', dtype=_dtype, order=\"C\",\n\u001b[1;32m   1532\u001b[0m                          accept_large_sparse=solver != 'liblinear')\n\u001b[0;32m-> 1533\u001b[0;31m         \u001b[0mcheck_classification_targets\u001b[0m\u001b[0;34m(\u001b[0m\u001b[0my\u001b[0m\u001b[0;34m)\u001b[0m\u001b[0;34m\u001b[0m\u001b[0;34m\u001b[0m\u001b[0m\n\u001b[0m\u001b[1;32m   1534\u001b[0m         \u001b[0mself\u001b[0m\u001b[0;34m.\u001b[0m\u001b[0mclasses_\u001b[0m \u001b[0;34m=\u001b[0m \u001b[0mnp\u001b[0m\u001b[0;34m.\u001b[0m\u001b[0munique\u001b[0m\u001b[0;34m(\u001b[0m\u001b[0my\u001b[0m\u001b[0;34m)\u001b[0m\u001b[0;34m\u001b[0m\u001b[0;34m\u001b[0m\u001b[0m\n\u001b[1;32m   1535\u001b[0m         \u001b[0mn_samples\u001b[0m\u001b[0;34m,\u001b[0m \u001b[0mn_features\u001b[0m \u001b[0;34m=\u001b[0m \u001b[0mX\u001b[0m\u001b[0;34m.\u001b[0m\u001b[0mshape\u001b[0m\u001b[0;34m\u001b[0m\u001b[0;34m\u001b[0m\u001b[0m\n",
      "\u001b[0;32m~/anaconda3/lib/python3.7/site-packages/sklearn/utils/multiclass.py\u001b[0m in \u001b[0;36mcheck_classification_targets\u001b[0;34m(y)\u001b[0m\n\u001b[1;32m    167\u001b[0m     if y_type not in ['binary', 'multiclass', 'multiclass-multioutput',\n\u001b[1;32m    168\u001b[0m                       'multilabel-indicator', 'multilabel-sequences']:\n\u001b[0;32m--> 169\u001b[0;31m         \u001b[0;32mraise\u001b[0m \u001b[0mValueError\u001b[0m\u001b[0;34m(\u001b[0m\u001b[0;34m\"Unknown label type: %r\"\u001b[0m \u001b[0;34m%\u001b[0m \u001b[0my_type\u001b[0m\u001b[0;34m)\u001b[0m\u001b[0;34m\u001b[0m\u001b[0;34m\u001b[0m\u001b[0m\n\u001b[0m\u001b[1;32m    170\u001b[0m \u001b[0;34m\u001b[0m\u001b[0m\n\u001b[1;32m    171\u001b[0m \u001b[0;34m\u001b[0m\u001b[0m\n",
      "\u001b[0;31mValueError\u001b[0m: Unknown label type: 'continuous'"
     ]
    }
   ],
   "source": [
    "model = LogisticRegression()\n",
    "rfe = RFE(model, 10)\n",
    "fit = rfe.fit(X, Y)\n",
    "print(\"Num Features: %s\" % (fit.n_features_))\n",
    "print(\"Selected Features: %s\" % (fit.support_))\n",
    "print(\"Feature Ranking: %s\" % (fit.ranking_))"
   ]
  }
 ],
 "metadata": {
  "kernelspec": {
   "display_name": "Python 3",
   "language": "python",
   "name": "python3"
  },
  "language_info": {
   "codemirror_mode": {
    "name": "ipython",
    "version": 3
   },
   "file_extension": ".py",
   "mimetype": "text/x-python",
   "name": "python",
   "nbconvert_exporter": "python",
   "pygments_lexer": "ipython3",
   "version": "3.7.4"
  }
 },
 "nbformat": 4,
 "nbformat_minor": 2
}
